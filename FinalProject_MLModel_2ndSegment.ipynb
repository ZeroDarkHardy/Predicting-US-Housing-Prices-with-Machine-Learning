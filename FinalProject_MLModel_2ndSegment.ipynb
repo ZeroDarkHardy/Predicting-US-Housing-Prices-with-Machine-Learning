{
 "cells": [
  {
   "cell_type": "markdown",
   "id": "4bf8410d",
   "metadata": {},
   "source": [
    "## FinalProject_MLModel_2ndSegment"
   ]
  },
  {
   "cell_type": "markdown",
   "id": "43c4f920",
   "metadata": {},
   "source": [
    "This project is about predicting housing prices across various regions/Zipcodes in the country based on various market factors such as gas prices, unemployment rate, mortgage rates, interest rates, and inflation rates. We will be utilizing supervised machine learning models for this purpose."
   ]
  },
  {
   "cell_type": "code",
   "execution_count": 1,
   "id": "98004aee",
   "metadata": {},
   "outputs": [],
   "source": [
    "# Import denpendencies\n",
    "import pandas as pd\n",
    "import matplotlib.pyplot as plt\n",
    "import sklearn as skl\n",
    "from sklearn.model_selection import train_test_split\n",
    "from sklearn.linear_model import LinearRegression\n",
    "from sklearn.preprocessing import StandardScaler\n",
    "import numpy as np \n",
    "from sklearn.metrics import mean_squared_error, r2_score\n",
    "import tkinter as tk \n",
    "from matplotlib.backends.backend_tkagg import FigureCanvasTkAgg\n",
    "from sklearn import linear_model \n",
    "import statsmodels.api as sm"
   ]
  },
  {
   "cell_type": "code",
   "execution_count": 2,
   "id": "af510120",
   "metadata": {},
   "outputs": [
    {
     "data": {
      "text/html": [
       "<div>\n",
       "<style scoped>\n",
       "    .dataframe tbody tr th:only-of-type {\n",
       "        vertical-align: middle;\n",
       "    }\n",
       "\n",
       "    .dataframe tbody tr th {\n",
       "        vertical-align: top;\n",
       "    }\n",
       "\n",
       "    .dataframe thead th {\n",
       "        text-align: right;\n",
       "    }\n",
       "</style>\n",
       "<table border=\"1\" class=\"dataframe\">\n",
       "  <thead>\n",
       "    <tr style=\"text-align: right;\">\n",
       "      <th></th>\n",
       "      <th>DATE</th>\n",
       "      <th>PRICE_PER_GALLON</th>\n",
       "      <th>UNEMPLOYMENT_RATE</th>\n",
       "      <th>AVG_MORTGAGE_RATE</th>\n",
       "      <th>INTEREST_RATES</th>\n",
       "      <th>INFLATION</th>\n",
       "      <th>10001</th>\n",
       "      <th>60601</th>\n",
       "      <th>89101</th>\n",
       "      <th>75201</th>\n",
       "      <th>...</th>\n",
       "      <th>19468</th>\n",
       "      <th>32550</th>\n",
       "      <th>96738</th>\n",
       "      <th>76262</th>\n",
       "      <th>85641</th>\n",
       "      <th>34228</th>\n",
       "      <th>18938</th>\n",
       "      <th>95223</th>\n",
       "      <th>19047</th>\n",
       "      <th>60081</th>\n",
       "    </tr>\n",
       "  </thead>\n",
       "  <tbody>\n",
       "    <tr>\n",
       "      <th>0</th>\n",
       "      <td>2011-01-01</td>\n",
       "      <td>3.148</td>\n",
       "      <td>9.1</td>\n",
       "      <td>4.8</td>\n",
       "      <td>0.17</td>\n",
       "      <td>220.223</td>\n",
       "      <td>462700.0</td>\n",
       "      <td>188500.0</td>\n",
       "      <td>115600.0</td>\n",
       "      <td>191900.0</td>\n",
       "      <td>...</td>\n",
       "      <td>229700.0</td>\n",
       "      <td>284400.0</td>\n",
       "      <td>237800.0</td>\n",
       "      <td>128400.0</td>\n",
       "      <td>204100.0</td>\n",
       "      <td>432300.0</td>\n",
       "      <td>528100.0</td>\n",
       "      <td>266300.0</td>\n",
       "      <td>272300.0</td>\n",
       "      <td>203600.0</td>\n",
       "    </tr>\n",
       "    <tr>\n",
       "      <th>1</th>\n",
       "      <td>2011-02-01</td>\n",
       "      <td>3.264</td>\n",
       "      <td>9.0</td>\n",
       "      <td>4.9</td>\n",
       "      <td>0.16</td>\n",
       "      <td>221.309</td>\n",
       "      <td>466200.0</td>\n",
       "      <td>189400.0</td>\n",
       "      <td>114000.0</td>\n",
       "      <td>184500.0</td>\n",
       "      <td>...</td>\n",
       "      <td>216700.0</td>\n",
       "      <td>258100.0</td>\n",
       "      <td>216000.0</td>\n",
       "      <td>148400.0</td>\n",
       "      <td>194000.0</td>\n",
       "      <td>476900.0</td>\n",
       "      <td>482600.0</td>\n",
       "      <td>244200.0</td>\n",
       "      <td>291500.0</td>\n",
       "      <td>175600.0</td>\n",
       "    </tr>\n",
       "    <tr>\n",
       "      <th>2</th>\n",
       "      <td>2011-03-01</td>\n",
       "      <td>3.615</td>\n",
       "      <td>9.0</td>\n",
       "      <td>5.0</td>\n",
       "      <td>0.14</td>\n",
       "      <td>223.467</td>\n",
       "      <td>465600.0</td>\n",
       "      <td>186300.0</td>\n",
       "      <td>110800.0</td>\n",
       "      <td>174500.0</td>\n",
       "      <td>...</td>\n",
       "      <td>199800.0</td>\n",
       "      <td>253800.0</td>\n",
       "      <td>208800.0</td>\n",
       "      <td>150500.0</td>\n",
       "      <td>192400.0</td>\n",
       "      <td>440900.0</td>\n",
       "      <td>454800.0</td>\n",
       "      <td>217800.0</td>\n",
       "      <td>305600.0</td>\n",
       "      <td>170200.0</td>\n",
       "    </tr>\n",
       "    <tr>\n",
       "      <th>3</th>\n",
       "      <td>2011-04-01</td>\n",
       "      <td>3.852</td>\n",
       "      <td>9.1</td>\n",
       "      <td>4.9</td>\n",
       "      <td>0.10</td>\n",
       "      <td>224.906</td>\n",
       "      <td>469500.0</td>\n",
       "      <td>177700.0</td>\n",
       "      <td>109600.0</td>\n",
       "      <td>152000.0</td>\n",
       "      <td>...</td>\n",
       "      <td>211500.0</td>\n",
       "      <td>225700.0</td>\n",
       "      <td>229800.0</td>\n",
       "      <td>161600.0</td>\n",
       "      <td>185900.0</td>\n",
       "      <td>457500.0</td>\n",
       "      <td>463300.0</td>\n",
       "      <td>191200.0</td>\n",
       "      <td>342300.0</td>\n",
       "      <td>184800.0</td>\n",
       "    </tr>\n",
       "    <tr>\n",
       "      <th>4</th>\n",
       "      <td>2011-05-01</td>\n",
       "      <td>3.960</td>\n",
       "      <td>9.0</td>\n",
       "      <td>4.9</td>\n",
       "      <td>0.09</td>\n",
       "      <td>225.964</td>\n",
       "      <td>471300.0</td>\n",
       "      <td>167900.0</td>\n",
       "      <td>108200.0</td>\n",
       "      <td>162900.0</td>\n",
       "      <td>...</td>\n",
       "      <td>215300.0</td>\n",
       "      <td>230800.0</td>\n",
       "      <td>260100.0</td>\n",
       "      <td>131500.0</td>\n",
       "      <td>175900.0</td>\n",
       "      <td>470600.0</td>\n",
       "      <td>475400.0</td>\n",
       "      <td>201500.0</td>\n",
       "      <td>342600.0</td>\n",
       "      <td>198900.0</td>\n",
       "    </tr>\n",
       "  </tbody>\n",
       "</table>\n",
       "<p>5 rows × 953 columns</p>\n",
       "</div>"
      ],
      "text/plain": [
       "         DATE  PRICE_PER_GALLON  UNEMPLOYMENT_RATE  AVG_MORTGAGE_RATE  \\\n",
       "0  2011-01-01             3.148                9.1                4.8   \n",
       "1  2011-02-01             3.264                9.0                4.9   \n",
       "2  2011-03-01             3.615                9.0                5.0   \n",
       "3  2011-04-01             3.852                9.1                4.9   \n",
       "4  2011-05-01             3.960                9.0                4.9   \n",
       "\n",
       "   INTEREST_RATES  INFLATION     10001     60601     89101     75201  ...  \\\n",
       "0            0.17    220.223  462700.0  188500.0  115600.0  191900.0  ...   \n",
       "1            0.16    221.309  466200.0  189400.0  114000.0  184500.0  ...   \n",
       "2            0.14    223.467  465600.0  186300.0  110800.0  174500.0  ...   \n",
       "3            0.10    224.906  469500.0  177700.0  109600.0  152000.0  ...   \n",
       "4            0.09    225.964  471300.0  167900.0  108200.0  162900.0  ...   \n",
       "\n",
       "      19468     32550     96738     76262     85641     34228     18938  \\\n",
       "0  229700.0  284400.0  237800.0  128400.0  204100.0  432300.0  528100.0   \n",
       "1  216700.0  258100.0  216000.0  148400.0  194000.0  476900.0  482600.0   \n",
       "2  199800.0  253800.0  208800.0  150500.0  192400.0  440900.0  454800.0   \n",
       "3  211500.0  225700.0  229800.0  161600.0  185900.0  457500.0  463300.0   \n",
       "4  215300.0  230800.0  260100.0  131500.0  175900.0  470600.0  475400.0   \n",
       "\n",
       "      95223     19047     60081  \n",
       "0  266300.0  272300.0  203600.0  \n",
       "1  244200.0  291500.0  175600.0  \n",
       "2  217800.0  305600.0  170200.0  \n",
       "3  191200.0  342300.0  184800.0  \n",
       "4  201500.0  342600.0  198900.0  \n",
       "\n",
       "[5 rows x 953 columns]"
      ]
     },
     "execution_count": 2,
     "metadata": {},
     "output_type": "execute_result"
    }
   ],
   "source": [
    "# Upload the CSV files \n",
    "file_load = \"Resources/full_data_set_zipcodes.csv\"\n",
    "df = pd.read_csv(file_load)\n",
    "df.head()"
   ]
  },
  {
   "cell_type": "markdown",
   "id": "151665d3",
   "metadata": {},
   "source": [
    "### Preliminary Data Preprocessing\n",
    "Data utilized for this project was obtained from six different sources. All sources are listed and linked in the project README.md file on the github repository.\n",
    "Data preprocessing was conducted in a separate jupyter notebook: [Preprocessing Notebook.ipynb](https://github.com/pbthompson92/Final_Project_Outliers/blob/main/preprocessing_4a_adding_additional_datasets_by_zipcodes.ipynb)\n",
    "\n",
    "As is clear from the notebook referenced above, we have created our final dataset by combining Housing prices across the country with gas prices dataset, unemployment rates dataset, mortgage rates dataset, federal interest rates dataset, and CPI inex dataset which depicts inflation in the country.\n",
    "\n",
    "We followed the following steps to accomplish data pre-processing:\n",
    "- Import the libraries\n",
    "- Import the Dataset\n",
    "- Check the missing values\n",
    "- Splitting the dataset into trainig and testing set\n",
    "- Feature scaling: is a method used to normalize the range of independent variables or features of data. So when the values vary a lot in an independent variable, we use feature scaling so that all the values remain in the comparable range. The variations in our dataset can be minimized simply by dividing the house prices by 1000.\n"
   ]
  },
  {
   "cell_type": "code",
   "execution_count": 3,
   "id": "0fa39d0b",
   "metadata": {},
   "outputs": [
    {
     "data": {
      "text/plain": [
       "DATE                  object\n",
       "PRICE_PER_GALLON     float64\n",
       "UNEMPLOYMENT_RATE    float64\n",
       "AVG_MORTGAGE_RATE    float64\n",
       "INTEREST_RATES       float64\n",
       "                      ...   \n",
       "34228                float64\n",
       "18938                float64\n",
       "95223                float64\n",
       "19047                float64\n",
       "60081                float64\n",
       "Length: 953, dtype: object"
      ]
     },
     "execution_count": 3,
     "metadata": {},
     "output_type": "execute_result"
    }
   ],
   "source": [
    "# Check the data types of each column \n",
    "df.dtypes"
   ]
  },
  {
   "cell_type": "code",
   "execution_count": 4,
   "id": "5f347bdc",
   "metadata": {},
   "outputs": [
    {
     "data": {
      "text/plain": [
       "953"
      ]
     },
     "execution_count": 4,
     "metadata": {},
     "output_type": "execute_result"
    }
   ],
   "source": [
    "# Check number of columns in the dataframe\n",
    "len(df.columns)"
   ]
  },
  {
   "cell_type": "markdown",
   "id": "c6955c5b",
   "metadata": {},
   "source": [
    "There are a total of 953 columns, out of which 6 are independent variables and remaining 947 are the housing prices in various regions in the country denoted by different Zipcodes. The housing prices in each region is our dependent variable."
   ]
  },
  {
   "cell_type": "code",
   "execution_count": 5,
   "id": "790ef35c",
   "metadata": {},
   "outputs": [
    {
     "data": {
      "text/html": [
       "<div>\n",
       "<style scoped>\n",
       "    .dataframe tbody tr th:only-of-type {\n",
       "        vertical-align: middle;\n",
       "    }\n",
       "\n",
       "    .dataframe tbody tr th {\n",
       "        vertical-align: top;\n",
       "    }\n",
       "\n",
       "    .dataframe thead th {\n",
       "        text-align: right;\n",
       "    }\n",
       "</style>\n",
       "<table border=\"1\" class=\"dataframe\">\n",
       "  <thead>\n",
       "    <tr style=\"text-align: right;\">\n",
       "      <th></th>\n",
       "      <th>PRICE_PER_GALLON</th>\n",
       "      <th>UNEMPLOYMENT_RATE</th>\n",
       "      <th>AVG_MORTGAGE_RATE</th>\n",
       "      <th>INTEREST_RATES</th>\n",
       "      <th>INFLATION</th>\n",
       "      <th>10001</th>\n",
       "      <th>60601</th>\n",
       "      <th>89101</th>\n",
       "      <th>75201</th>\n",
       "      <th>43085</th>\n",
       "      <th>...</th>\n",
       "      <th>19468</th>\n",
       "      <th>32550</th>\n",
       "      <th>96738</th>\n",
       "      <th>76262</th>\n",
       "      <th>85641</th>\n",
       "      <th>34228</th>\n",
       "      <th>18938</th>\n",
       "      <th>95223</th>\n",
       "      <th>19047</th>\n",
       "      <th>60081</th>\n",
       "    </tr>\n",
       "  </thead>\n",
       "  <tbody>\n",
       "    <tr>\n",
       "      <th>0</th>\n",
       "      <td>3.148</td>\n",
       "      <td>9.1</td>\n",
       "      <td>4.8</td>\n",
       "      <td>0.17</td>\n",
       "      <td>220.223</td>\n",
       "      <td>462700.0</td>\n",
       "      <td>188500.0</td>\n",
       "      <td>115600.0</td>\n",
       "      <td>191900.0</td>\n",
       "      <td>89100.0</td>\n",
       "      <td>...</td>\n",
       "      <td>229700.0</td>\n",
       "      <td>284400.0</td>\n",
       "      <td>237800.0</td>\n",
       "      <td>128400.0</td>\n",
       "      <td>204100.0</td>\n",
       "      <td>432300.0</td>\n",
       "      <td>528100.0</td>\n",
       "      <td>266300.0</td>\n",
       "      <td>272300.0</td>\n",
       "      <td>203600.0</td>\n",
       "    </tr>\n",
       "    <tr>\n",
       "      <th>1</th>\n",
       "      <td>3.264</td>\n",
       "      <td>9.0</td>\n",
       "      <td>4.9</td>\n",
       "      <td>0.16</td>\n",
       "      <td>221.309</td>\n",
       "      <td>466200.0</td>\n",
       "      <td>189400.0</td>\n",
       "      <td>114000.0</td>\n",
       "      <td>184500.0</td>\n",
       "      <td>86000.0</td>\n",
       "      <td>...</td>\n",
       "      <td>216700.0</td>\n",
       "      <td>258100.0</td>\n",
       "      <td>216000.0</td>\n",
       "      <td>148400.0</td>\n",
       "      <td>194000.0</td>\n",
       "      <td>476900.0</td>\n",
       "      <td>482600.0</td>\n",
       "      <td>244200.0</td>\n",
       "      <td>291500.0</td>\n",
       "      <td>175600.0</td>\n",
       "    </tr>\n",
       "    <tr>\n",
       "      <th>2</th>\n",
       "      <td>3.615</td>\n",
       "      <td>9.0</td>\n",
       "      <td>5.0</td>\n",
       "      <td>0.14</td>\n",
       "      <td>223.467</td>\n",
       "      <td>465600.0</td>\n",
       "      <td>186300.0</td>\n",
       "      <td>110800.0</td>\n",
       "      <td>174500.0</td>\n",
       "      <td>79800.0</td>\n",
       "      <td>...</td>\n",
       "      <td>199800.0</td>\n",
       "      <td>253800.0</td>\n",
       "      <td>208800.0</td>\n",
       "      <td>150500.0</td>\n",
       "      <td>192400.0</td>\n",
       "      <td>440900.0</td>\n",
       "      <td>454800.0</td>\n",
       "      <td>217800.0</td>\n",
       "      <td>305600.0</td>\n",
       "      <td>170200.0</td>\n",
       "    </tr>\n",
       "    <tr>\n",
       "      <th>3</th>\n",
       "      <td>3.852</td>\n",
       "      <td>9.1</td>\n",
       "      <td>4.9</td>\n",
       "      <td>0.10</td>\n",
       "      <td>224.906</td>\n",
       "      <td>469500.0</td>\n",
       "      <td>177700.0</td>\n",
       "      <td>109600.0</td>\n",
       "      <td>152000.0</td>\n",
       "      <td>79300.0</td>\n",
       "      <td>...</td>\n",
       "      <td>211500.0</td>\n",
       "      <td>225700.0</td>\n",
       "      <td>229800.0</td>\n",
       "      <td>161600.0</td>\n",
       "      <td>185900.0</td>\n",
       "      <td>457500.0</td>\n",
       "      <td>463300.0</td>\n",
       "      <td>191200.0</td>\n",
       "      <td>342300.0</td>\n",
       "      <td>184800.0</td>\n",
       "    </tr>\n",
       "    <tr>\n",
       "      <th>4</th>\n",
       "      <td>3.960</td>\n",
       "      <td>9.0</td>\n",
       "      <td>4.9</td>\n",
       "      <td>0.09</td>\n",
       "      <td>225.964</td>\n",
       "      <td>471300.0</td>\n",
       "      <td>167900.0</td>\n",
       "      <td>108200.0</td>\n",
       "      <td>162900.0</td>\n",
       "      <td>78600.0</td>\n",
       "      <td>...</td>\n",
       "      <td>215300.0</td>\n",
       "      <td>230800.0</td>\n",
       "      <td>260100.0</td>\n",
       "      <td>131500.0</td>\n",
       "      <td>175900.0</td>\n",
       "      <td>470600.0</td>\n",
       "      <td>475400.0</td>\n",
       "      <td>201500.0</td>\n",
       "      <td>342600.0</td>\n",
       "      <td>198900.0</td>\n",
       "    </tr>\n",
       "  </tbody>\n",
       "</table>\n",
       "<p>5 rows × 952 columns</p>\n",
       "</div>"
      ],
      "text/plain": [
       "   PRICE_PER_GALLON  UNEMPLOYMENT_RATE  AVG_MORTGAGE_RATE  INTEREST_RATES  \\\n",
       "0             3.148                9.1                4.8            0.17   \n",
       "1             3.264                9.0                4.9            0.16   \n",
       "2             3.615                9.0                5.0            0.14   \n",
       "3             3.852                9.1                4.9            0.10   \n",
       "4             3.960                9.0                4.9            0.09   \n",
       "\n",
       "   INFLATION     10001     60601     89101     75201    43085  ...     19468  \\\n",
       "0    220.223  462700.0  188500.0  115600.0  191900.0  89100.0  ...  229700.0   \n",
       "1    221.309  466200.0  189400.0  114000.0  184500.0  86000.0  ...  216700.0   \n",
       "2    223.467  465600.0  186300.0  110800.0  174500.0  79800.0  ...  199800.0   \n",
       "3    224.906  469500.0  177700.0  109600.0  152000.0  79300.0  ...  211500.0   \n",
       "4    225.964  471300.0  167900.0  108200.0  162900.0  78600.0  ...  215300.0   \n",
       "\n",
       "      32550     96738     76262     85641     34228     18938     95223  \\\n",
       "0  284400.0  237800.0  128400.0  204100.0  432300.0  528100.0  266300.0   \n",
       "1  258100.0  216000.0  148400.0  194000.0  476900.0  482600.0  244200.0   \n",
       "2  253800.0  208800.0  150500.0  192400.0  440900.0  454800.0  217800.0   \n",
       "3  225700.0  229800.0  161600.0  185900.0  457500.0  463300.0  191200.0   \n",
       "4  230800.0  260100.0  131500.0  175900.0  470600.0  475400.0  201500.0   \n",
       "\n",
       "      19047     60081  \n",
       "0  272300.0  203600.0  \n",
       "1  291500.0  175600.0  \n",
       "2  305600.0  170200.0  \n",
       "3  342300.0  184800.0  \n",
       "4  342600.0  198900.0  \n",
       "\n",
       "[5 rows x 952 columns]"
      ]
     },
     "execution_count": 5,
     "metadata": {},
     "output_type": "execute_result"
    }
   ],
   "source": [
    "# Dropping DATE column \n",
    "df.drop(columns=\"DATE\", axis=1, inplace=True)\n",
    "df.head()"
   ]
  },
  {
   "cell_type": "markdown",
   "id": "fd342e2b",
   "metadata": {},
   "source": [
    "### Multiple Linear Regression Model\n",
    "Our problem statement involves predicting housing values. This problem can be solved by using a regression model. Multiple Linear Regression (MLR) is one of the important regression algorithms which models the linear relationship between a single dependent continuous variable and more than one independent variables.\n",
    "Multiple regressions are based on the assumption that there is a linear relationship between both the dependent and independent variables. It also assumes no major correlation between the independent variables."
   ]
  },
  {
   "cell_type": "markdown",
   "id": "7e3fecf1",
   "metadata": {},
   "source": [
    "### Check for Linearity\n",
    "In order for the MLR model to be applicable we want to check that a linear relationship exists between the dependent variable and the independent variables. This can be checked by using scatter plots."
   ]
  },
  {
   "cell_type": "code",
   "execution_count": 6,
   "id": "111100fd",
   "metadata": {},
   "outputs": [
    {
     "name": "stdout",
     "output_type": "stream",
     "text": [
      "Enter the 5 digit Zipcode: 75201\n"
     ]
    }
   ],
   "source": [
    "# Enter the zipcode to build the model. Example: 10001 etc. \n",
    "# As Mentioned above, this model has 947 different zipcodes to choose from.\n",
    "region = input(\"Enter the 5 digit Zipcode: \")"
   ]
  },
  {
   "cell_type": "code",
   "execution_count": 7,
   "id": "e3fa9bbd",
   "metadata": {},
   "outputs": [
    {
     "data": {
      "text/plain": [
       "Text(0.5, 1.0, 'Inflation vs Housing')"
      ]
     },
     "execution_count": 7,
     "metadata": {},
     "output_type": "execute_result"
    },
    {
     "data": {
      "image/png": "[encoded data removed]",
      "text/plain": [
       "<Figure size 360x1440 with 5 Axes>"
      ]
     },
     "metadata": {
      "needs_background": "light"
     },
     "output_type": "display_data"
    }
   ],
   "source": [
    "# Plot the code \n",
    "fig, ((ax1),(ax2),(ax3),(ax4),(ax5)) = plt.subplots(5,1,figsize = (5,20))\n",
    "ax1.scatter(df[\"PRICE_PER_GALLON\"],df[region], c=\"green\")\n",
    "ax1.set_title('Gas vs Housing')\n",
    "ax2.scatter(df[\"UNEMPLOYMENT_RATE\"], df[region], c=\"blue\")\n",
    "ax2.set_title('Unemployment vs Housing')\n",
    "ax3.scatter(df[\"AVG_MORTGAGE_RATE\"],df[region], c=\"red\")\n",
    "ax3.set_title('Mortgage vs Housing')\n",
    "ax4.scatter(df[\"INTEREST_RATES\"], df[region], c=\"orange\")\n",
    "ax4.set_title('Interest rates vs Housing')\n",
    "ax5.scatter(df[\"INFLATION\"], df[region], c=\"black\")\n",
    "ax5.set_title('Inflation vs Housing')"
   ]
  },
  {
   "cell_type": "markdown",
   "id": "094ade4e",
   "metadata": {},
   "source": [
    "### Feature Engineering\n",
    "\n",
    "Feature engineering is a process of extracting useful features from raw data using math, statistics and domain knowledge. For our project we started the process of feature engineering early on by detecting missing values and removing them from the dataset. Additionally during preprocessing, we added zipcodes as a feature to our dataset by matching each region ID against the respective zip codes.\n",
    "\n",
    "(Maybe Outlier detection??)"
   ]
  },
  {
   "cell_type": "markdown",
   "id": "01ea1b9d",
   "metadata": {},
   "source": [
    "### Feature Selection \n",
    "In our dataset, we have 5 input features (Gas Prices, Mortgage rates, Interest rates, Inflation and Unemployment rates) for our model. We are trying to visualize a correlation between these 5 features and the housing prices which is our target value in this machine learning model. \n",
    "\n",
    "Based on the above scatter plots, we can see that Interest Rates and Inflation (Consumer Price Index - CPI) have a linear relationship with Housing Prices. The Gas Prices and Unemployment Rates also have a linear relationship with Housing Prices, but with a negatice slope, whihc means that housing prices decrease with increasing as prices and unemployment rates. We can also see that Mortage rates do not have a linear relationship with Housing Prices. \n",
    "Since Mortgage Rates and Housing Prices do not have linear relationship, in order to move forward with MLR model, we decided to drop Mortage Rates feature from our dataset. "
   ]
  },
  {
   "cell_type": "code",
   "execution_count": 8,
   "id": "d7c9d669",
   "metadata": {},
   "outputs": [
    {
     "data": {
      "text/html": [
       "<div>\n",
       "<style scoped>\n",
       "    .dataframe tbody tr th:only-of-type {\n",
       "        vertical-align: middle;\n",
       "    }\n",
       "\n",
       "    .dataframe tbody tr th {\n",
       "        vertical-align: top;\n",
       "    }\n",
       "\n",
       "    .dataframe thead th {\n",
       "        text-align: right;\n",
       "    }\n",
       "</style>\n",
       "<table border=\"1\" class=\"dataframe\">\n",
       "  <thead>\n",
       "    <tr style=\"text-align: right;\">\n",
       "      <th></th>\n",
       "      <th>PRICE_PER_GALLON</th>\n",
       "      <th>UNEMPLOYMENT_RATE</th>\n",
       "      <th>INTEREST_RATES</th>\n",
       "      <th>INFLATION</th>\n",
       "      <th>10001</th>\n",
       "      <th>60601</th>\n",
       "      <th>89101</th>\n",
       "      <th>75201</th>\n",
       "      <th>43085</th>\n",
       "      <th>40202</th>\n",
       "      <th>...</th>\n",
       "      <th>19468</th>\n",
       "      <th>32550</th>\n",
       "      <th>96738</th>\n",
       "      <th>76262</th>\n",
       "      <th>85641</th>\n",
       "      <th>34228</th>\n",
       "      <th>18938</th>\n",
       "      <th>95223</th>\n",
       "      <th>19047</th>\n",
       "      <th>60081</th>\n",
       "    </tr>\n",
       "  </thead>\n",
       "  <tbody>\n",
       "    <tr>\n",
       "      <th>0</th>\n",
       "      <td>3.148</td>\n",
       "      <td>9.1</td>\n",
       "      <td>0.17</td>\n",
       "      <td>220.223</td>\n",
       "      <td>462700.0</td>\n",
       "      <td>188500.0</td>\n",
       "      <td>115600.0</td>\n",
       "      <td>191900.0</td>\n",
       "      <td>89100.0</td>\n",
       "      <td>125900.0</td>\n",
       "      <td>...</td>\n",
       "      <td>229700.0</td>\n",
       "      <td>284400.0</td>\n",
       "      <td>237800.0</td>\n",
       "      <td>128400.0</td>\n",
       "      <td>204100.0</td>\n",
       "      <td>432300.0</td>\n",
       "      <td>528100.0</td>\n",
       "      <td>266300.0</td>\n",
       "      <td>272300.0</td>\n",
       "      <td>203600.0</td>\n",
       "    </tr>\n",
       "    <tr>\n",
       "      <th>1</th>\n",
       "      <td>3.264</td>\n",
       "      <td>9.0</td>\n",
       "      <td>0.16</td>\n",
       "      <td>221.309</td>\n",
       "      <td>466200.0</td>\n",
       "      <td>189400.0</td>\n",
       "      <td>114000.0</td>\n",
       "      <td>184500.0</td>\n",
       "      <td>86000.0</td>\n",
       "      <td>124000.0</td>\n",
       "      <td>...</td>\n",
       "      <td>216700.0</td>\n",
       "      <td>258100.0</td>\n",
       "      <td>216000.0</td>\n",
       "      <td>148400.0</td>\n",
       "      <td>194000.0</td>\n",
       "      <td>476900.0</td>\n",
       "      <td>482600.0</td>\n",
       "      <td>244200.0</td>\n",
       "      <td>291500.0</td>\n",
       "      <td>175600.0</td>\n",
       "    </tr>\n",
       "    <tr>\n",
       "      <th>2</th>\n",
       "      <td>3.615</td>\n",
       "      <td>9.0</td>\n",
       "      <td>0.14</td>\n",
       "      <td>223.467</td>\n",
       "      <td>465600.0</td>\n",
       "      <td>186300.0</td>\n",
       "      <td>110800.0</td>\n",
       "      <td>174500.0</td>\n",
       "      <td>79800.0</td>\n",
       "      <td>118300.0</td>\n",
       "      <td>...</td>\n",
       "      <td>199800.0</td>\n",
       "      <td>253800.0</td>\n",
       "      <td>208800.0</td>\n",
       "      <td>150500.0</td>\n",
       "      <td>192400.0</td>\n",
       "      <td>440900.0</td>\n",
       "      <td>454800.0</td>\n",
       "      <td>217800.0</td>\n",
       "      <td>305600.0</td>\n",
       "      <td>170200.0</td>\n",
       "    </tr>\n",
       "    <tr>\n",
       "      <th>3</th>\n",
       "      <td>3.852</td>\n",
       "      <td>9.1</td>\n",
       "      <td>0.10</td>\n",
       "      <td>224.906</td>\n",
       "      <td>469500.0</td>\n",
       "      <td>177700.0</td>\n",
       "      <td>109600.0</td>\n",
       "      <td>152000.0</td>\n",
       "      <td>79300.0</td>\n",
       "      <td>117600.0</td>\n",
       "      <td>...</td>\n",
       "      <td>211500.0</td>\n",
       "      <td>225700.0</td>\n",
       "      <td>229800.0</td>\n",
       "      <td>161600.0</td>\n",
       "      <td>185900.0</td>\n",
       "      <td>457500.0</td>\n",
       "      <td>463300.0</td>\n",
       "      <td>191200.0</td>\n",
       "      <td>342300.0</td>\n",
       "      <td>184800.0</td>\n",
       "    </tr>\n",
       "    <tr>\n",
       "      <th>4</th>\n",
       "      <td>3.960</td>\n",
       "      <td>9.0</td>\n",
       "      <td>0.09</td>\n",
       "      <td>225.964</td>\n",
       "      <td>471300.0</td>\n",
       "      <td>167900.0</td>\n",
       "      <td>108200.0</td>\n",
       "      <td>162900.0</td>\n",
       "      <td>78600.0</td>\n",
       "      <td>113800.0</td>\n",
       "      <td>...</td>\n",
       "      <td>215300.0</td>\n",
       "      <td>230800.0</td>\n",
       "      <td>260100.0</td>\n",
       "      <td>131500.0</td>\n",
       "      <td>175900.0</td>\n",
       "      <td>470600.0</td>\n",
       "      <td>475400.0</td>\n",
       "      <td>201500.0</td>\n",
       "      <td>342600.0</td>\n",
       "      <td>198900.0</td>\n",
       "    </tr>\n",
       "  </tbody>\n",
       "</table>\n",
       "<p>5 rows × 951 columns</p>\n",
       "</div>"
      ],
      "text/plain": [
       "   PRICE_PER_GALLON  UNEMPLOYMENT_RATE  INTEREST_RATES  INFLATION     10001  \\\n",
       "0             3.148                9.1            0.17    220.223  462700.0   \n",
       "1             3.264                9.0            0.16    221.309  466200.0   \n",
       "2             3.615                9.0            0.14    223.467  465600.0   \n",
       "3             3.852                9.1            0.10    224.906  469500.0   \n",
       "4             3.960                9.0            0.09    225.964  471300.0   \n",
       "\n",
       "      60601     89101     75201    43085     40202  ...     19468     32550  \\\n",
       "0  188500.0  115600.0  191900.0  89100.0  125900.0  ...  229700.0  284400.0   \n",
       "1  189400.0  114000.0  184500.0  86000.0  124000.0  ...  216700.0  258100.0   \n",
       "2  186300.0  110800.0  174500.0  79800.0  118300.0  ...  199800.0  253800.0   \n",
       "3  177700.0  109600.0  152000.0  79300.0  117600.0  ...  211500.0  225700.0   \n",
       "4  167900.0  108200.0  162900.0  78600.0  113800.0  ...  215300.0  230800.0   \n",
       "\n",
       "      96738     76262     85641     34228     18938     95223     19047  \\\n",
       "0  237800.0  128400.0  204100.0  432300.0  528100.0  266300.0  272300.0   \n",
       "1  216000.0  148400.0  194000.0  476900.0  482600.0  244200.0  291500.0   \n",
       "2  208800.0  150500.0  192400.0  440900.0  454800.0  217800.0  305600.0   \n",
       "3  229800.0  161600.0  185900.0  457500.0  463300.0  191200.0  342300.0   \n",
       "4  260100.0  131500.0  175900.0  470600.0  475400.0  201500.0  342600.0   \n",
       "\n",
       "      60081  \n",
       "0  203600.0  \n",
       "1  175600.0  \n",
       "2  170200.0  \n",
       "3  184800.0  \n",
       "4  198900.0  \n",
       "\n",
       "[5 rows x 951 columns]"
      ]
     },
     "execution_count": 8,
     "metadata": {},
     "output_type": "execute_result"
    }
   ],
   "source": [
    "# Droping Mortgage Rates\n",
    "df2 = df.drop(columns=\"AVG_MORTGAGE_RATE\", axis=1)\n",
    "df2.head()"
   ]
  },
  {
   "cell_type": "code",
   "execution_count": 9,
   "id": "df8cabcb",
   "metadata": {},
   "outputs": [
    {
     "name": "stdout",
     "output_type": "stream",
     "text": [
      "PRICE_PER_GALLON          3.960\n",
      "UNEMPLOYMENT_RATE         9.100\n",
      "INTEREST_RATES            2.420\n",
      "INFLATION               258.678\n",
      "10001                575100.000\n",
      "                        ...    \n",
      "34228                663200.000\n",
      "18938                665600.000\n",
      "95223                345100.000\n",
      "19047                416200.000\n",
      "60081                270300.000\n",
      "Length: 951, dtype: float64\n"
     ]
    }
   ],
   "source": [
    "# Check all maximum values for each column\n",
    "\n",
    "max_elements = df2.max(axis=0)\n",
    "print(max_elements)"
   ]
  },
  {
   "cell_type": "code",
   "execution_count": 10,
   "id": "f1136168",
   "metadata": {},
   "outputs": [],
   "source": [
    "# Create Feature and Target variable\n",
    "X1 = df2.copy()\n",
    "X1 = X1[[\"PRICE_PER_GALLON\", \"UNEMPLOYMENT_RATE\", \"INTEREST_RATES\", \"INFLATION\"]]\n",
    "\n",
    "y1 = (df2[region]/1000).values.reshape(-1,1)\n"
   ]
  },
  {
   "cell_type": "code",
   "execution_count": 11,
   "id": "69934947",
   "metadata": {},
   "outputs": [
    {
     "name": "stdout",
     "output_type": "stream",
     "text": [
      "(111, 4)\n",
      "(111, 1)\n"
     ]
    }
   ],
   "source": [
    "# Structure of X and y\n",
    "print(X1.shape)\n",
    "print(y1.shape)"
   ]
  },
  {
   "cell_type": "code",
   "execution_count": 12,
   "id": "33f7cef3",
   "metadata": {},
   "outputs": [
    {
     "data": {
      "text/plain": [
       "['PRICE_PER_GALLON',\n",
       " 'UNEMPLOYMENT_RATE',\n",
       " 'INTEREST_RATES',\n",
       " 'INFLATION',\n",
       " '10001']"
      ]
     },
     "execution_count": 12,
     "metadata": {},
     "output_type": "execute_result"
    }
   ],
   "source": [
    "# Columns \n",
    "columns = df2.columns.tolist()\n",
    "columns[:5]"
   ]
  },
  {
   "cell_type": "markdown",
   "id": "da707685",
   "metadata": {},
   "source": [
    "### Splitting data into Training and Testing Sets\n",
    "We used the Python Scikitlearn's train_test_split function to split our data into training and testing sets for model performance evaluation. This is done by importing train_test_split from sklearn.model_selection. By default this function alots 25% of the dataset as the testing set."
   ]
  },
  {
   "cell_type": "code",
   "execution_count": 13,
   "id": "1cb004ce",
   "metadata": {},
   "outputs": [
    {
     "data": {
      "text/html": [
       "<div>\n",
       "<style scoped>\n",
       "    .dataframe tbody tr th:only-of-type {\n",
       "        vertical-align: middle;\n",
       "    }\n",
       "\n",
       "    .dataframe tbody tr th {\n",
       "        vertical-align: top;\n",
       "    }\n",
       "\n",
       "    .dataframe thead th {\n",
       "        text-align: right;\n",
       "    }\n",
       "</style>\n",
       "<table border=\"1\" class=\"dataframe\">\n",
       "  <thead>\n",
       "    <tr style=\"text-align: right;\">\n",
       "      <th></th>\n",
       "      <th>PRICE_PER_GALLON</th>\n",
       "      <th>UNEMPLOYMENT_RATE</th>\n",
       "      <th>INTEREST_RATES</th>\n",
       "      <th>INFLATION</th>\n",
       "    </tr>\n",
       "  </thead>\n",
       "  <tbody>\n",
       "    <tr>\n",
       "      <th>15</th>\n",
       "      <td>3.958</td>\n",
       "      <td>8.2</td>\n",
       "      <td>0.14</td>\n",
       "      <td>230.085</td>\n",
       "    </tr>\n",
       "    <tr>\n",
       "      <th>44</th>\n",
       "      <td>3.484</td>\n",
       "      <td>5.9</td>\n",
       "      <td>0.09</td>\n",
       "      <td>238.031</td>\n",
       "    </tr>\n",
       "    <tr>\n",
       "      <th>89</th>\n",
       "      <td>2.970</td>\n",
       "      <td>4.0</td>\n",
       "      <td>1.82</td>\n",
       "      <td>251.989</td>\n",
       "    </tr>\n",
       "    <tr>\n",
       "      <th>90</th>\n",
       "      <td>2.928</td>\n",
       "      <td>3.8</td>\n",
       "      <td>1.91</td>\n",
       "      <td>252.006</td>\n",
       "    </tr>\n",
       "    <tr>\n",
       "      <th>9</th>\n",
       "      <td>3.506</td>\n",
       "      <td>8.8</td>\n",
       "      <td>0.07</td>\n",
       "      <td>226.421</td>\n",
       "    </tr>\n",
       "  </tbody>\n",
       "</table>\n",
       "</div>"
      ],
      "text/plain": [
       "    PRICE_PER_GALLON  UNEMPLOYMENT_RATE  INTEREST_RATES  INFLATION\n",
       "15             3.958                8.2            0.14    230.085\n",
       "44             3.484                5.9            0.09    238.031\n",
       "89             2.970                4.0            1.82    251.989\n",
       "90             2.928                3.8            1.91    252.006\n",
       "9              3.506                8.8            0.07    226.421"
      ]
     },
     "execution_count": 13,
     "metadata": {},
     "output_type": "execute_result"
    }
   ],
   "source": [
    "# Train and test\n",
    "X1_train, X1_test, y1_train, y1_test = train_test_split(X1, y1, random_state=42)\n",
    "X1_train.head()"
   ]
  },
  {
   "cell_type": "markdown",
   "id": "51e06ead",
   "metadata": {},
   "source": [
    "### Performong the Multiple Linear Regression"
   ]
  },
  {
   "cell_type": "code",
   "execution_count": 14,
   "id": "e524c677",
   "metadata": {
    "scrolled": true
   },
   "outputs": [
    {
     "name": "stdout",
     "output_type": "stream",
     "text": [
      "Intercept: [-329.60769479]\n",
      "Coefficients: [[ -3.44203982 -11.70529052 -12.53273724   2.7904073 ]]\n"
     ]
    }
   ],
   "source": [
    "# Model \n",
    "model = LinearRegression()\n",
    "\n",
    "#Fit the model \n",
    "model.fit(X1_train, y1_train)\n",
    "print(f\"Intercept: {model.intercept_}\")\n",
    "Coeff = model.coef_\n",
    "print(f\"Coefficients: {Coeff}\")\n",
    "\n",
    "predictions = model.predict(X1_test)\n"
   ]
  },
  {
   "cell_type": "code",
   "execution_count": 15,
   "id": "8e9f1128",
   "metadata": {},
   "outputs": [
    {
     "name": "stdout",
     "output_type": "stream",
     "text": [
      "MSE:  174.48\n",
      "RMSE:  13.21\n",
      "R2:  0.91\n",
      "adjusted R2:  0.9\n"
     ]
    }
   ],
   "source": [
    "# Model Evaluation with RMSE, R2 and adjusted R2\n",
    "MSE = round(mean_squared_error(y1_test,predictions), 2)\n",
    "print(\"MSE: \", MSE)\n",
    "\n",
    "RMSE = round(np.sqrt(mean_squared_error(y1_test,predictions)), 2)\n",
    "print(\"RMSE: \", RMSE)\n",
    "\n",
    "R2 = round(model.score(X1_test, y1_test), 2)\n",
    "print(\"R2: \", R2)\n",
    "\n",
    "adj_R2 = round(1 - (1-model.score(X1_test, y1_test))*(len(y1_test)-1)/(len(y1_test)-X1_test.shape[1]-1), 2)\n",
    "print(\"adjusted R2: \", adj_R2)"
   ]
  },
  {
   "cell_type": "code",
   "execution_count": 16,
   "id": "6f36bf6b",
   "metadata": {},
   "outputs": [
    {
     "name": "stdout",
     "output_type": "stream",
     "text": [
      "Predicted Housing Price: \n",
      " $ 282197.63\n"
     ]
    },
    {
     "name": "stderr",
     "output_type": "stream",
     "text": [
      "/opt/anaconda3/envs/mlenv/lib/python3.9/site-packages/sklearn/base.py:450: UserWarning: X does not have valid feature names, but LinearRegression was fitted with feature names\n",
      "  warnings.warn(\n"
     ]
    }
   ],
   "source": [
    "# To predict data \n",
    "# prediction with sklearn\n",
    "\n",
    "NEW_PRICE_PER_GALLON = 4.10\n",
    "NEW_UNEMPLOYMENT_RATE = 9.3\n",
    "NEW_INTEREST_RATES = 2.6\n",
    "NEW_INFLATION = 275.0\n",
    "Predicted_HP = (1000*model.predict([[NEW_PRICE_PER_GALLON, NEW_UNEMPLOYMENT_RATE, \n",
    "                                           NEW_INTEREST_RATES, NEW_INFLATION ]]))\n",
    "print('Predicted Housing Price: \\n $', round(Predicted_HP[0][0], 2))"
   ]
  },
  {
   "cell_type": "code",
   "execution_count": 17,
   "id": "dfc7bcb1",
   "metadata": {},
   "outputs": [
    {
     "data": {
      "text/html": [
       "<div>\n",
       "<style scoped>\n",
       "    .dataframe tbody tr th:only-of-type {\n",
       "        vertical-align: middle;\n",
       "    }\n",
       "\n",
       "    .dataframe tbody tr th {\n",
       "        vertical-align: top;\n",
       "    }\n",
       "\n",
       "    .dataframe thead th {\n",
       "        text-align: right;\n",
       "    }\n",
       "</style>\n",
       "<table border=\"1\" class=\"dataframe\">\n",
       "  <thead>\n",
       "    <tr style=\"text-align: right;\">\n",
       "      <th></th>\n",
       "      <th>INTERCEPT</th>\n",
       "      <th>Coefficient_1</th>\n",
       "      <th>Coefficient_2</th>\n",
       "      <th>Coefficient_3</th>\n",
       "      <th>Coefficient_4</th>\n",
       "      <th>MSE</th>\n",
       "      <th>RMSE</th>\n",
       "      <th>R2</th>\n",
       "      <th>ADJ R2</th>\n",
       "    </tr>\n",
       "  </thead>\n",
       "  <tbody>\n",
       "    <tr>\n",
       "      <th>75201</th>\n",
       "      <td>-329.607695</td>\n",
       "      <td>-3.44204</td>\n",
       "      <td>-11.705291</td>\n",
       "      <td>-12.532737</td>\n",
       "      <td>2.790407</td>\n",
       "      <td>174.48</td>\n",
       "      <td>13.21</td>\n",
       "      <td>0.91</td>\n",
       "      <td>0.9</td>\n",
       "    </tr>\n",
       "  </tbody>\n",
       "</table>\n",
       "</div>"
      ],
      "text/plain": [
       "        INTERCEPT  Coefficient_1  Coefficient_2  Coefficient_3  Coefficient_4  \\\n",
       "75201 -329.607695       -3.44204     -11.705291     -12.532737       2.790407   \n",
       "\n",
       "          MSE   RMSE    R2  ADJ R2  \n",
       "75201  174.48  13.21  0.91     0.9  "
      ]
     },
     "execution_count": 17,
     "metadata": {},
     "output_type": "execute_result"
    }
   ],
   "source": [
    "# Create DataFrame with required values for each region\n",
    "# assign data of lists.  \n",
    "data = {'INTERCEPT': model.intercept_, 'Coefficient_1': Coeff[0][0], 'Coefficient_2': Coeff[0][1], \n",
    "        'Coefficient_3': Coeff[0][2], 'Coefficient_4': Coeff[0][3], 'MSE':[MSE], 'RMSE':[RMSE], \n",
    "        'R2': [R2], 'ADJ R2': [adj_R2]}  \n",
    "  \n",
    "# Creates pandas DataFrame.  \n",
    "model_output_df = pd.DataFrame(data, index =[region])  \n",
    "  \n",
    "# Check output dataframe  \n",
    "model_output_df  "
   ]
  },
  {
   "cell_type": "markdown",
   "id": "aab74223",
   "metadata": {},
   "source": [
    "### We will use statsmodel to generate comprehensive table with statistical info about our model"
   ]
  },
  {
   "cell_type": "code",
   "execution_count": 18,
   "id": "46a93aa1",
   "metadata": {},
   "outputs": [
    {
     "name": "stdout",
     "output_type": "stream",
     "text": [
      "                                 OLS Regression Results                                \n",
      "=======================================================================================\n",
      "Dep. Variable:                      y   R-squared (uncentered):                   0.998\n",
      "Model:                            OLS   Adj. R-squared (uncentered):              0.998\n",
      "Method:                 Least Squares   F-statistic:                          1.204e+04\n",
      "Date:                Thu, 24 Mar 2022   Prob (F-statistic):                   3.68e-109\n",
      "Time:                        20:38:46   Log-Likelihood:                         -312.55\n",
      "No. Observations:                  83   AIC:                                      633.1\n",
      "Df Residuals:                      79   BIC:                                      642.8\n",
      "Df Model:                           4                                                  \n",
      "Covariance Type:            nonrobust                                                  \n",
      "=====================================================================================\n",
      "                        coef    std err          t      P>|t|      [0.025      0.975]\n",
      "-------------------------------------------------------------------------------------\n",
      "PRICE_PER_GALLON      1.6441      3.723      0.442      0.660      -5.767       9.055\n",
      "UNEMPLOYMENT_RATE   -17.9184      1.585    -11.306      0.000     -21.073     -14.764\n",
      "INTEREST_RATES       -7.4977      2.513     -2.983      0.004     -12.500      -2.495\n",
      "INFLATION             1.4884      0.030     49.766      0.000       1.429       1.548\n",
      "==============================================================================\n",
      "Omnibus:                        0.356   Durbin-Watson:                   1.868\n",
      "Prob(Omnibus):                  0.837   Jarque-Bera (JB):                0.517\n",
      "Skew:                           0.118   Prob(JB):                        0.772\n",
      "Kurtosis:                       2.693   Cond. No.                         860.\n",
      "==============================================================================\n",
      "\n",
      "Notes:\n",
      "[1] R² is computed without centering (uncentered) since the model does not contain a constant.\n",
      "[2] Standard Errors assume that the covariance matrix of the errors is correctly specified.\n"
     ]
    },
    {
     "name": "stderr",
     "output_type": "stream",
     "text": [
      "/opt/anaconda3/envs/mlenv/lib/python3.9/site-packages/statsmodels/tsa/tsatools.py:142: FutureWarning: In a future version of pandas all arguments of concat except for the argument 'objs' will be keyword-only\n",
      "  x = pd.concat(x[::order], 1)\n"
     ]
    }
   ],
   "source": [
    "# Statistical info with statsmodels\n",
    "X1 = sm.add_constant(X1) # adding a constant\n",
    " \n",
    "model_2 = sm.OLS(y1_train, X1_train).fit()\n",
    "  \n",
    "print_model = model_2.summary()\n",
    "print(print_model)"
   ]
  },
  {
   "cell_type": "markdown",
   "id": "68d09fc0",
   "metadata": {},
   "source": [
    "Notice that the coefficients captured in this table match with the coefficients generated by sklearn."
   ]
  },
  {
   "cell_type": "code",
   "execution_count": 19,
   "id": "d6735cd5",
   "metadata": {},
   "outputs": [
    {
     "data": {
      "text/plain": [
       "0.9982797405577255"
      ]
     },
     "execution_count": 19,
     "metadata": {},
     "output_type": "execute_result"
    }
   ],
   "source": [
    "model_2.rsquared_adj"
   ]
  },
  {
   "cell_type": "markdown",
   "id": "526067d0",
   "metadata": {},
   "source": [
    "## Graphical User Interface (GUI) \n",
    "Now creating a GUI that will allow users to input the independent variables in order to get the predicted result"
   ]
  },
  {
   "cell_type": "code",
   "execution_count": 20,
   "id": "3f8f937f",
   "metadata": {
    "scrolled": true
   },
   "outputs": [],
   "source": [
    "#from tkinter import ttk\n",
    "\n",
    "# tkinter GUI\n",
    "root= tk.Tk()\n",
    "\n",
    "canvas1 = tk.Canvas(root, width = 500, height = 300)\n",
    "canvas1.pack()\n",
    "\n",
    "# with sklearn\n",
    "Intercept_result = ('Intercept: ', model.intercept_)\n",
    "label_Intercept = tk.Label(root, text=Intercept_result, justify = 'center')\n",
    "canvas1.create_window(260, 220, window=label_Intercept)\n",
    "\n",
    "# with sklearn\n",
    "Coefficients_result  = ('Coefficients: ', model.coef_)\n",
    "label_Coefficients = tk.Label(root, text=Coefficients_result, justify = 'center')\n",
    "canvas1.create_window(260, 240, window=label_Coefficients)\n",
    "\n",
    "\n",
    "# New_Gas_Price label and input box\n",
    "label1 = tk.Label(root, text='Type Gas Price: ')\n",
    "canvas1.create_window(100, 60, window=label1)\n",
    "\n",
    "entry1 = tk.Entry(root) # create 1st entry box\n",
    "canvas1.create_window(300, 60, window=entry1)\n",
    "\n",
    "# New_Unemployment_Rate label and input box\n",
    "label2 = tk.Label(root, text='Type Unemployment Rate: ')\n",
    "canvas1.create_window(100, 80, window=label2)\n",
    "\n",
    "entry2 = tk.Entry (root) # create 2nd entry box\n",
    "canvas1.create_window(300, 80, window=entry2)\n",
    "\n",
    "# New_Interest_Rate label and input box\n",
    "label3 = tk.Label(root, text='Type Interest Rate: ')\n",
    "canvas1.create_window(100, 100, window=label3)\n",
    "\n",
    "entry3 = tk.Entry(root) # create 1st entry box\n",
    "canvas1.create_window(300, 100, window=entry3)\n",
    "\n",
    "# New_Inflation label and input box\n",
    "label4 = tk.Label(root, text='Type Inflation: ')\n",
    "canvas1.create_window(100, 120, window=label4)\n",
    "\n",
    "entry4 = tk.Entry(root) # create 2nd entry box\n",
    "canvas1.create_window(300, 120, window=entry4)\n",
    "\n",
    "\n",
    "def values(): \n",
    "    global New_Gas_Price #our 1st input variable\n",
    "    New_Gas_Price = (entry1.get()) \n",
    "    \n",
    "    global New_Unemployment_Rate #our 2nd input variable\n",
    "    New_Unemployment_Rate = (entry2.get()) \n",
    "    \n",
    "    global New_Interest_Rate #our 3rd input variable\n",
    "    New_Interest_Rate = (entry3.get()) \n",
    "    \n",
    "    global New_Inflation #our 4th input variable\n",
    "    New_Inflation = (entry4.get()) \n",
    "    \n",
    "    Prediction_result  = ('Housing Price: ', model.predict([[New_Gas_Price,New_Unemployment_Rate, \n",
    "                                                             New_Interest_Rate, New_Inflation]]))\n",
    "    label_Prediction = tk.Label(root, text= Prediction_result, bg='orange')\n",
    "    canvas1.create_window(260, 280, window=label_Prediction)\n",
    "    \n",
    "button1 = tk.Button (root, text='Predict Housing Price',command=values, bg='#54FA9B') # button to call the 'values' command above \n",
    "canvas1.create_window(300, 150, window=button1)\n",
    " \n",
    "#plot 1st scatter \n",
    "figure1 = plt.Figure(figsize=(5,4), dpi=100)\n",
    "ax1 = figure1.add_subplot(111)\n",
    "ax1.scatter(df['PRICE_PER_GALLON'].astype(float),df[region].astype(float), color = 'r')\n",
    "scatter1 = FigureCanvasTkAgg(figure1, root) \n",
    "scatter1.get_tk_widget().pack(side=tk.RIGHT, fill=tk.BOTH)\n",
    "ax1.legend([\"Region\"]) \n",
    "ax1.set_xlabel('Gas Price')\n",
    "ax1.set_title('Gas Price Vs. Housing Price')\n",
    "\n",
    "#plot 2nd scatter \n",
    "figure2 = plt.Figure(figsize=(5,4), dpi=100)\n",
    "ax2 = figure2.add_subplot(111)\n",
    "ax2.scatter(df['UNEMPLOYMENT_RATE'].astype(float),df[region].astype(float), color = 'g')\n",
    "scatter2 = FigureCanvasTkAgg(figure2, root) \n",
    "scatter2.get_tk_widget().pack(side=tk.RIGHT, fill=tk.BOTH)\n",
    "ax2.legend([\"Region\"]) \n",
    "ax2.set_xlabel('Unemployment Rate')\n",
    "ax2.set_title('Unemployment Rate Vs. Housing Price')\n",
    "\n",
    "#plot 3rd scatter \n",
    "figure3 = plt.Figure(figsize=(5,4), dpi=100)\n",
    "ax3 = figure3.add_subplot(111)\n",
    "ax3.scatter(df['INTEREST_RATES'].astype(float),df[region].astype(float), color = 'r')\n",
    "scatter3 = FigureCanvasTkAgg(figure3, root) \n",
    "scatter3.get_tk_widget().pack(side=tk.RIGHT, fill=tk.BOTH)\n",
    "ax3.legend(['Region']) \n",
    "ax3.set_xlabel('Interest Rate')\n",
    "ax3.set_title('Interest Rate Vs. Housing Price')\n",
    "\n",
    "#plot 4th scatter \n",
    "figure4 = plt.Figure(figsize=(5,4), dpi=100)\n",
    "ax4 = figure4.add_subplot(111)\n",
    "ax4.scatter(df['INFLATION'].astype(float),df[region].astype(float), color = 'g')\n",
    "scatter4 = FigureCanvasTkAgg(figure4, root) \n",
    "scatter4.get_tk_widget().pack(side=tk.RIGHT, fill=tk.BOTH)\n",
    "ax4.legend([\"Region\"]) \n",
    "ax4.set_xlabel('Inflation')\n",
    "ax4.set_title('Inflation (CPI) Vs. Housing Price')\n",
    "\n",
    "root.mainloop()"
   ]
  },
  {
   "cell_type": "markdown",
   "id": "7361dee1",
   "metadata": {},
   "source": [
    "Once you run the code, you’ll see this GUI, which includes the output generated by sklearn and the scatter diagrams for the selected Zipcode."
   ]
  },
  {
   "cell_type": "markdown",
   "id": "95ff01cc",
   "metadata": {},
   "source": [
    "### Random Forest Regressor Model"
   ]
  },
  {
   "cell_type": "code",
   "execution_count": 23,
   "id": "1e920b84",
   "metadata": {},
   "outputs": [],
   "source": [
    "# importing dependencies for Random Forest Model\n",
    "\n",
    "from sklearn.ensemble import RandomForestRegressor"
   ]
  },
  {
   "cell_type": "code",
   "execution_count": 24,
   "id": "2e04b7d6",
   "metadata": {},
   "outputs": [],
   "source": [
    "# Define the features and the target from the original dataframe\n",
    "X2 = df.copy()\n",
    "X2 = X2[[\"PRICE_PER_GALLON\", \"UNEMPLOYMENT_RATE\", \"AVG_MORTGAGE_RATE\", \"INTEREST_RATES\", \"INFLATION\"]]\n",
    "\n",
    "y2 = (df[region]/1000).values.reshape(-1,1)"
   ]
  },
  {
   "cell_type": "code",
   "execution_count": 30,
   "id": "9b86772d",
   "metadata": {},
   "outputs": [],
   "source": [
    "# Split the data into training and testing set\n",
    "X2_train, X2_test, y2_train, y2_test = train_test_split(X2, y2, random_state=0)"
   ]
  },
  {
   "cell_type": "code",
   "execution_count": 31,
   "id": "e16e2189",
   "metadata": {},
   "outputs": [],
   "source": [
    "modelRF = RandomForestRegressor(n_estimators = 1000, random_state = 42)"
   ]
  },
  {
   "cell_type": "code",
   "execution_count": 32,
   "id": "4a5f6576",
   "metadata": {},
   "outputs": [
    {
     "name": "stderr",
     "output_type": "stream",
     "text": [
      "/var/folders/c5/q0vj7mks1cn6d10bp2s_sk0w0000gn/T/ipykernel_27016/3858015664.py:1: DataConversionWarning: A column-vector y was passed when a 1d array was expected. Please change the shape of y to (n_samples,), for example using ravel().\n",
      "  modelRF.fit(X2_train, y2_train)\n"
     ]
    },
    {
     "data": {
      "text/plain": [
       "RandomForestRegressor(n_estimators=1000, random_state=42)"
      ]
     },
     "execution_count": 32,
     "metadata": {},
     "output_type": "execute_result"
    }
   ],
   "source": [
    "modelRF.fit(X2_train, y2_train)"
   ]
  },
  {
   "cell_type": "code",
   "execution_count": 33,
   "id": "6747b8e4",
   "metadata": {},
   "outputs": [],
   "source": [
    "# Prediction\n",
    "prediction2 = modelRF.predict(X2_test)"
   ]
  },
  {
   "cell_type": "code",
   "execution_count": 34,
   "id": "d88aa362",
   "metadata": {},
   "outputs": [
    {
     "ename": "ValueError",
     "evalue": "Data must be 1-dimensional",
     "output_type": "error",
     "traceback": [
      "\u001b[0;31m---------------------------------------------------------------------------\u001b[0m",
      "\u001b[0;31mValueError\u001b[0m                                Traceback (most recent call last)",
      "\u001b[0;32m/var/folders/c5/q0vj7mks1cn6d10bp2s_sk0w0000gn/T/ipykernel_27016/3512471118.py\u001b[0m in \u001b[0;36m<module>\u001b[0;34m\u001b[0m\n\u001b[1;32m      1\u001b[0m \u001b[0;31m# Check the difference between actual and predicted values\u001b[0m\u001b[0;34m\u001b[0m\u001b[0;34m\u001b[0m\u001b[0m\n\u001b[0;32m----> 2\u001b[0;31m \u001b[0mmodelRF_df\u001b[0m\u001b[0;34m=\u001b[0m\u001b[0mpd\u001b[0m\u001b[0;34m.\u001b[0m\u001b[0mDataFrame\u001b[0m\u001b[0;34m(\u001b[0m\u001b[0;34m{\u001b[0m\u001b[0;34m'Actual'\u001b[0m\u001b[0;34m:\u001b[0m\u001b[0my2_test\u001b[0m\u001b[0;34m,\u001b[0m \u001b[0;34m'Predicted'\u001b[0m\u001b[0;34m:\u001b[0m\u001b[0mprediction2\u001b[0m\u001b[0;34m}\u001b[0m\u001b[0;34m)\u001b[0m\u001b[0;34m\u001b[0m\u001b[0;34m\u001b[0m\u001b[0m\n\u001b[0m\u001b[1;32m      3\u001b[0m \u001b[0mmodelRF_df\u001b[0m\u001b[0;34m.\u001b[0m\u001b[0mhead\u001b[0m\u001b[0;34m(\u001b[0m\u001b[0;34m)\u001b[0m\u001b[0;34m\u001b[0m\u001b[0;34m\u001b[0m\u001b[0m\n",
      "\u001b[0;32m/opt/anaconda3/envs/mlenv/lib/python3.9/site-packages/pandas/core/frame.py\u001b[0m in \u001b[0;36m__init__\u001b[0;34m(self, data, index, columns, dtype, copy)\u001b[0m\n\u001b[1;32m    612\u001b[0m         \u001b[0;32melif\u001b[0m \u001b[0misinstance\u001b[0m\u001b[0;34m(\u001b[0m\u001b[0mdata\u001b[0m\u001b[0;34m,\u001b[0m \u001b[0mdict\u001b[0m\u001b[0;34m)\u001b[0m\u001b[0;34m:\u001b[0m\u001b[0;34m\u001b[0m\u001b[0;34m\u001b[0m\u001b[0m\n\u001b[1;32m    613\u001b[0m             \u001b[0;31m# GH#38939 de facto copy defaults to False only in non-dict cases\u001b[0m\u001b[0;34m\u001b[0m\u001b[0;34m\u001b[0m\u001b[0m\n\u001b[0;32m--> 614\u001b[0;31m             \u001b[0mmgr\u001b[0m \u001b[0;34m=\u001b[0m \u001b[0mdict_to_mgr\u001b[0m\u001b[0;34m(\u001b[0m\u001b[0mdata\u001b[0m\u001b[0;34m,\u001b[0m \u001b[0mindex\u001b[0m\u001b[0;34m,\u001b[0m \u001b[0mcolumns\u001b[0m\u001b[0;34m,\u001b[0m \u001b[0mdtype\u001b[0m\u001b[0;34m=\u001b[0m\u001b[0mdtype\u001b[0m\u001b[0;34m,\u001b[0m \u001b[0mcopy\u001b[0m\u001b[0;34m=\u001b[0m\u001b[0mcopy\u001b[0m\u001b[0;34m,\u001b[0m \u001b[0mtyp\u001b[0m\u001b[0;34m=\u001b[0m\u001b[0mmanager\u001b[0m\u001b[0;34m)\u001b[0m\u001b[0;34m\u001b[0m\u001b[0;34m\u001b[0m\u001b[0m\n\u001b[0m\u001b[1;32m    615\u001b[0m         \u001b[0;32melif\u001b[0m \u001b[0misinstance\u001b[0m\u001b[0;34m(\u001b[0m\u001b[0mdata\u001b[0m\u001b[0;34m,\u001b[0m \u001b[0mma\u001b[0m\u001b[0;34m.\u001b[0m\u001b[0mMaskedArray\u001b[0m\u001b[0;34m)\u001b[0m\u001b[0;34m:\u001b[0m\u001b[0;34m\u001b[0m\u001b[0;34m\u001b[0m\u001b[0m\n\u001b[1;32m    616\u001b[0m             \u001b[0;32mimport\u001b[0m \u001b[0mnumpy\u001b[0m\u001b[0;34m.\u001b[0m\u001b[0mma\u001b[0m\u001b[0;34m.\u001b[0m\u001b[0mmrecords\u001b[0m \u001b[0;32mas\u001b[0m \u001b[0mmrecords\u001b[0m\u001b[0;34m\u001b[0m\u001b[0;34m\u001b[0m\u001b[0m\n",
      "\u001b[0;32m/opt/anaconda3/envs/mlenv/lib/python3.9/site-packages/pandas/core/internals/construction.py\u001b[0m in \u001b[0;36mdict_to_mgr\u001b[0;34m(data, index, columns, dtype, typ, copy)\u001b[0m\n\u001b[1;32m    462\u001b[0m         \u001b[0;31m# TODO: can we get rid of the dt64tz special case above?\u001b[0m\u001b[0;34m\u001b[0m\u001b[0;34m\u001b[0m\u001b[0m\n\u001b[1;32m    463\u001b[0m \u001b[0;34m\u001b[0m\u001b[0m\n\u001b[0;32m--> 464\u001b[0;31m     return arrays_to_mgr(\n\u001b[0m\u001b[1;32m    465\u001b[0m         \u001b[0marrays\u001b[0m\u001b[0;34m,\u001b[0m \u001b[0mdata_names\u001b[0m\u001b[0;34m,\u001b[0m \u001b[0mindex\u001b[0m\u001b[0;34m,\u001b[0m \u001b[0mcolumns\u001b[0m\u001b[0;34m,\u001b[0m \u001b[0mdtype\u001b[0m\u001b[0;34m=\u001b[0m\u001b[0mdtype\u001b[0m\u001b[0;34m,\u001b[0m \u001b[0mtyp\u001b[0m\u001b[0;34m=\u001b[0m\u001b[0mtyp\u001b[0m\u001b[0;34m,\u001b[0m \u001b[0mconsolidate\u001b[0m\u001b[0;34m=\u001b[0m\u001b[0mcopy\u001b[0m\u001b[0;34m\u001b[0m\u001b[0;34m\u001b[0m\u001b[0m\n\u001b[1;32m    466\u001b[0m     )\n",
      "\u001b[0;32m/opt/anaconda3/envs/mlenv/lib/python3.9/site-packages/pandas/core/internals/construction.py\u001b[0m in \u001b[0;36marrays_to_mgr\u001b[0;34m(arrays, arr_names, index, columns, dtype, verify_integrity, typ, consolidate)\u001b[0m\n\u001b[1;32m    122\u001b[0m \u001b[0;34m\u001b[0m\u001b[0m\n\u001b[1;32m    123\u001b[0m         \u001b[0;31m# don't force copy because getting jammed in an ndarray anyway\u001b[0m\u001b[0;34m\u001b[0m\u001b[0;34m\u001b[0m\u001b[0m\n\u001b[0;32m--> 124\u001b[0;31m         \u001b[0marrays\u001b[0m \u001b[0;34m=\u001b[0m \u001b[0m_homogenize\u001b[0m\u001b[0;34m(\u001b[0m\u001b[0marrays\u001b[0m\u001b[0;34m,\u001b[0m \u001b[0mindex\u001b[0m\u001b[0;34m,\u001b[0m \u001b[0mdtype\u001b[0m\u001b[0;34m)\u001b[0m\u001b[0;34m\u001b[0m\u001b[0;34m\u001b[0m\u001b[0m\n\u001b[0m\u001b[1;32m    125\u001b[0m \u001b[0;34m\u001b[0m\u001b[0m\n\u001b[1;32m    126\u001b[0m     \u001b[0;32melse\u001b[0m\u001b[0;34m:\u001b[0m\u001b[0;34m\u001b[0m\u001b[0;34m\u001b[0m\u001b[0m\n",
      "\u001b[0;32m/opt/anaconda3/envs/mlenv/lib/python3.9/site-packages/pandas/core/internals/construction.py\u001b[0m in \u001b[0;36m_homogenize\u001b[0;34m(data, index, dtype)\u001b[0m\n\u001b[1;32m    587\u001b[0m                 \u001b[0mval\u001b[0m \u001b[0;34m=\u001b[0m \u001b[0mlib\u001b[0m\u001b[0;34m.\u001b[0m\u001b[0mfast_multiget\u001b[0m\u001b[0;34m(\u001b[0m\u001b[0mval\u001b[0m\u001b[0;34m,\u001b[0m \u001b[0moindex\u001b[0m\u001b[0;34m.\u001b[0m\u001b[0m_values\u001b[0m\u001b[0;34m,\u001b[0m \u001b[0mdefault\u001b[0m\u001b[0;34m=\u001b[0m\u001b[0mnp\u001b[0m\u001b[0;34m.\u001b[0m\u001b[0mnan\u001b[0m\u001b[0;34m)\u001b[0m\u001b[0;34m\u001b[0m\u001b[0;34m\u001b[0m\u001b[0m\n\u001b[1;32m    588\u001b[0m \u001b[0;34m\u001b[0m\u001b[0m\n\u001b[0;32m--> 589\u001b[0;31m             val = sanitize_array(\n\u001b[0m\u001b[1;32m    590\u001b[0m                 \u001b[0mval\u001b[0m\u001b[0;34m,\u001b[0m \u001b[0mindex\u001b[0m\u001b[0;34m,\u001b[0m \u001b[0mdtype\u001b[0m\u001b[0;34m=\u001b[0m\u001b[0mdtype\u001b[0m\u001b[0;34m,\u001b[0m \u001b[0mcopy\u001b[0m\u001b[0;34m=\u001b[0m\u001b[0;32mFalse\u001b[0m\u001b[0;34m,\u001b[0m \u001b[0mraise_cast_failure\u001b[0m\u001b[0;34m=\u001b[0m\u001b[0;32mFalse\u001b[0m\u001b[0;34m\u001b[0m\u001b[0;34m\u001b[0m\u001b[0m\n\u001b[1;32m    591\u001b[0m             )\n",
      "\u001b[0;32m/opt/anaconda3/envs/mlenv/lib/python3.9/site-packages/pandas/core/construction.py\u001b[0m in \u001b[0;36msanitize_array\u001b[0;34m(data, index, dtype, copy, raise_cast_failure, allow_2d)\u001b[0m\n\u001b[1;32m    574\u001b[0m                 \u001b[0msubarr\u001b[0m \u001b[0;34m=\u001b[0m \u001b[0mmaybe_infer_to_datetimelike\u001b[0m\u001b[0;34m(\u001b[0m\u001b[0msubarr\u001b[0m\u001b[0;34m)\u001b[0m\u001b[0;34m\u001b[0m\u001b[0;34m\u001b[0m\u001b[0m\n\u001b[1;32m    575\u001b[0m \u001b[0;34m\u001b[0m\u001b[0m\n\u001b[0;32m--> 576\u001b[0;31m     \u001b[0msubarr\u001b[0m \u001b[0;34m=\u001b[0m \u001b[0m_sanitize_ndim\u001b[0m\u001b[0;34m(\u001b[0m\u001b[0msubarr\u001b[0m\u001b[0;34m,\u001b[0m \u001b[0mdata\u001b[0m\u001b[0;34m,\u001b[0m \u001b[0mdtype\u001b[0m\u001b[0;34m,\u001b[0m \u001b[0mindex\u001b[0m\u001b[0;34m,\u001b[0m \u001b[0mallow_2d\u001b[0m\u001b[0;34m=\u001b[0m\u001b[0mallow_2d\u001b[0m\u001b[0;34m)\u001b[0m\u001b[0;34m\u001b[0m\u001b[0;34m\u001b[0m\u001b[0m\n\u001b[0m\u001b[1;32m    577\u001b[0m \u001b[0;34m\u001b[0m\u001b[0m\n\u001b[1;32m    578\u001b[0m     \u001b[0;32mif\u001b[0m \u001b[0misinstance\u001b[0m\u001b[0;34m(\u001b[0m\u001b[0msubarr\u001b[0m\u001b[0;34m,\u001b[0m \u001b[0mnp\u001b[0m\u001b[0;34m.\u001b[0m\u001b[0mndarray\u001b[0m\u001b[0;34m)\u001b[0m\u001b[0;34m:\u001b[0m\u001b[0;34m\u001b[0m\u001b[0;34m\u001b[0m\u001b[0m\n",
      "\u001b[0;32m/opt/anaconda3/envs/mlenv/lib/python3.9/site-packages/pandas/core/construction.py\u001b[0m in \u001b[0;36m_sanitize_ndim\u001b[0;34m(result, data, dtype, index, allow_2d)\u001b[0m\n\u001b[1;32m    625\u001b[0m             \u001b[0;32mif\u001b[0m \u001b[0mallow_2d\u001b[0m\u001b[0;34m:\u001b[0m\u001b[0;34m\u001b[0m\u001b[0;34m\u001b[0m\u001b[0m\n\u001b[1;32m    626\u001b[0m                 \u001b[0;32mreturn\u001b[0m \u001b[0mresult\u001b[0m\u001b[0;34m\u001b[0m\u001b[0;34m\u001b[0m\u001b[0m\n\u001b[0;32m--> 627\u001b[0;31m             \u001b[0;32mraise\u001b[0m \u001b[0mValueError\u001b[0m\u001b[0;34m(\u001b[0m\u001b[0;34m\"Data must be 1-dimensional\"\u001b[0m\u001b[0;34m)\u001b[0m\u001b[0;34m\u001b[0m\u001b[0;34m\u001b[0m\u001b[0m\n\u001b[0m\u001b[1;32m    628\u001b[0m         \u001b[0;32mif\u001b[0m \u001b[0mis_object_dtype\u001b[0m\u001b[0;34m(\u001b[0m\u001b[0mdtype\u001b[0m\u001b[0;34m)\u001b[0m \u001b[0;32mand\u001b[0m \u001b[0misinstance\u001b[0m\u001b[0;34m(\u001b[0m\u001b[0mdtype\u001b[0m\u001b[0;34m,\u001b[0m \u001b[0mExtensionDtype\u001b[0m\u001b[0;34m)\u001b[0m\u001b[0;34m:\u001b[0m\u001b[0;34m\u001b[0m\u001b[0;34m\u001b[0m\u001b[0m\n\u001b[1;32m    629\u001b[0m             \u001b[0;31m# i.e. PandasDtype(\"O\")\u001b[0m\u001b[0;34m\u001b[0m\u001b[0;34m\u001b[0m\u001b[0m\n",
      "\u001b[0;31mValueError\u001b[0m: Data must be 1-dimensional"
     ]
    }
   ],
   "source": [
    "# Check the difference between actual and predicted values\n",
    "modelRF_df=pd.DataFrame({'Actual':y2_test, 'Predicted':prediction2})\n",
    "modelRF_df.head()"
   ]
  },
  {
   "cell_type": "code",
   "execution_count": null,
   "id": "cda641c5",
   "metadata": {},
   "outputs": [],
   "source": [
    "# Create the function \n",
    "# def RegressionModel():\n",
    "#     y = df[city]/1000\n",
    "        \n",
    "    \n",
    "#     # Train the datasets\n",
    "#     X_train, X_test, y_train, y_test = train_test_split(X, y, random_state=42)\n",
    "    \n",
    "#     # Create a model \n",
    "#     model = LinearRegression()\n",
    "#     model.fit(X_train, y_train)\n",
    "#     training_score = model.score(X_train, y_train)\n",
    "#     testing_score = model.score(X_test, y_test)\n",
    "#     print(f\"Training Score: {training_score}.\")\n",
    "#     print(f\"Testing Score: {testing_score}.\")\n",
    "#     print(f\"--------------------------------\")\n",
    "    \n",
    "#     # Predict the model \n",
    "#     y_pred = model.predict(X_test)\n",
    "#     mse = mean_squared_error(y_test, y_pred)\n",
    "#     r2 = r2_score(y_test, y_pred)\n",
    "#     print(f\"Coefficient of the model: {model.coef_}\")              \n",
    "#     print(f\"Model Intercept: {model.intercept_}.\")\n",
    "#     print(f\"----------------------------------\")\n",
    "#     print(f\"mean squared error (MSE): {mse}\")\n",
    "#     print(f\"R-squared (R2 ): {r2}\")\n",
    "    \n",
    "#     # Visualize the plot \n",
    "#     plt.scatter(model.predict(X_train), model.predict(X_train)- y_train, c=\"blue\", label=\"Training Date\")\n",
    "#     plt.scatter(model.predict(X_test), model.predict(X_test)-y_test, c=\"orange\", label=\"Testing Data\")\n",
    "#     plt.legend()\n",
    "#     plt.title(\"Multivariant Regression on Housing\")\n",
    "#     plt.show()   \n",
    "    \n",
    "#     # Min and Max values of each city Housing Price\n",
    "#     x_min = X_test.min()\n",
    "#     x_max = X_test.max()\n",
    "# #     y_min = model.predict(x_min)\n",
    "# #     y_max = model.predict(x_max)\n",
    "#     print(f\"------------------------------------------------\")\n",
    "#     print(f\"Min Inflation: ${x_min}, Max Inflation: ${x_max}\")\n",
    "# #     print(f\"Predicted Mix Housing Price: ${y_min*1000}, Predicted Max Housing Price ${y_max*1000}.\")\n",
    "        \n",
    "#     return   "
   ]
  },
  {
   "cell_type": "code",
   "execution_count": null,
   "id": "a6d6140d",
   "metadata": {},
   "outputs": [],
   "source": [
    "# Enter the city name \n",
    "# city = input(\"Enter the City Name: \")\n",
    "# RegressionModel()"
   ]
  },
  {
   "cell_type": "code",
   "execution_count": null,
   "id": "27a4ea65",
   "metadata": {},
   "outputs": [],
   "source": [
    "# Standardize the data\n",
    "# scaler = StandardScaler()\n",
    "\n",
    "# # Fit the model \n",
    "# X_scaled = scaler.fit(X_train)\n",
    "\n",
    "# # Scale the model \n",
    "# X_train_scaled = X_scaled.transform(X_train)\n",
    "# X_test_scaled = X_scaled.transform(X_test)"
   ]
  },
  {
   "cell_type": "code",
   "execution_count": null,
   "id": "4cd7023e",
   "metadata": {},
   "outputs": [],
   "source": [
    "# Random Forest model \n",
    "\n",
    "# # Create a random forest model \n",
    "# rf_model = RandomForestClassifier(n_estimators=128, random_state=42)\n",
    "\n",
    "# # fit the model \n",
    "# rf_model = rf_model.fit(X_train_scaled, y_train)\n",
    "\n",
    "# # Making predictions using testing data\n",
    "# predictions = rf_model.predict(X_test_scaled)"
   ]
  },
  {
   "cell_type": "code",
   "execution_count": null,
   "id": "ae03ca1e",
   "metadata": {},
   "outputs": [],
   "source": [
    "# # Calculating the accuracy score\n",
    "# acc_score = accuracy_score(y_test, predictions)\n",
    "# acc_score\n",
    "X_train_scaled[:5]"
   ]
  },
  {
   "cell_type": "markdown",
   "id": "a8f41699",
   "metadata": {},
   "source": [
    "## Deep Learning Model "
   ]
  },
  {
   "cell_type": "code",
   "execution_count": null,
   "id": "8572653c",
   "metadata": {},
   "outputs": [],
   "source": [
    "# Define the model - deep neural net\n",
    "# number_input_features = len(X_train_scaled[0])\n",
    "# hidden_nodes_layer1 = 20\n",
    "# hidden_nodes_layer2 = 10\n",
    "# hidden_nodes_layer3 = 5\n",
    "\n",
    "# nn = tf.keras.models.Sequential()\n",
    "\n",
    "# # First hidden layer\n",
    "# nn.add(tf.keras.layers.Dense(units= hidden_nodes_layer1, input_dim = number_input_features, activation=\"relu\"))\n",
    "\n",
    "# nn.add(tf.keras.layers.Dense(units= hidden_nodes_layer2, activation=\"relu\"))\n",
    "\n",
    "# nn.add(tf.keras.layers.Dense(units= hidden_nodes_layer3, activation=\"relu\"))\n",
    "\n",
    "# nn.add(tf.keras.layers.Dense(units= 1, activation=\"sigmoid\"))\n",
    "\n",
    "# # Compile the model \n",
    "# nn.compile(loss=\"binary_crossentropy\", optimizer=\"adam\", metrics=[\"accuracy\"])\n",
    "\n",
    "# # Train the model \n",
    "# fit_model = nn.fit(X_train_scaled, y_train, epochs=50)\n",
    "\n",
    "# # Evaluate the model using the test data \n",
    "# model_loss, model_accuracy = nn.evaluate(X_test_scaled, y_test, verbose=2)\n",
    "# print(f\"Loss: {model_loss}, Accuracy: {model_accuracy}\")\n"
   ]
  },
  {
   "cell_type": "code",
   "execution_count": null,
   "id": "df426b9c",
   "metadata": {},
   "outputs": [],
   "source": [
    "# Create the model of linear regreession on NY city housing data\n",
    "# model = LinearRegression()\n",
    "\n",
    "# # Fit the model \n",
    "# model.fit(X, y)"
   ]
  },
  {
   "cell_type": "code",
   "execution_count": null,
   "id": "95ea7d8f",
   "metadata": {},
   "outputs": [],
   "source": [
    "# Predict the y \n",
    "# y_pred = model.predict(X)\n",
    "# y_pred[:5]"
   ]
  },
  {
   "cell_type": "code",
   "execution_count": null,
   "id": "3299f29a",
   "metadata": {},
   "outputs": [],
   "source": [
    "# Visualize the data \n",
    "# plt.scatter(X, y)\n",
    "# plt.plot(X, y_pred, color=\"red\")\n",
    "# plt.show()"
   ]
  },
  {
   "cell_type": "markdown",
   "id": "0ca13b80",
   "metadata": {},
   "source": [
    "## Quantifying the model"
   ]
  },
  {
   "cell_type": "code",
   "execution_count": null,
   "id": "834babc9",
   "metadata": {},
   "outputs": [],
   "source": [
    "# Score the prediction with MSE and R2\n",
    "# from sklearn.metrics import r2_score, mean_squared_error\n",
    "\n",
    "# mse = mean_squared_error(y, y_pred)\n",
    "# r2 = r2_score(y, y_pred)\n",
    "\n",
    "# print(f\"Mean Squared Error (MSE): {round(mse, 2)}\")\n",
    "# print(f\"R-squared (R2): {round(r2, 4)}\")"
   ]
  },
  {
   "cell_type": "code",
   "execution_count": null,
   "id": "382d65de",
   "metadata": {},
   "outputs": [],
   "source": [
    "# Overall score of the model \n",
    "# model_score = model.score(X, y)\n",
    "# model_score"
   ]
  },
  {
   "cell_type": "markdown",
   "id": "fb583b02",
   "metadata": {},
   "source": [
    "## Model Validation "
   ]
  },
  {
   "cell_type": "code",
   "execution_count": null,
   "id": "0d2453f3",
   "metadata": {},
   "outputs": [],
   "source": [
    "# Testing and Training data \n",
    "# X_train, X_test, y_train, y_test = train_test_split(X, y, random_state=42)\n",
    "\n",
    "# # Fit the model using training data\n",
    "# model.fit(X_train, y_train)"
   ]
  },
  {
   "cell_type": "code",
   "execution_count": null,
   "id": "ea5e5ede",
   "metadata": {},
   "outputs": [],
   "source": [
    "# Score the model using the unseen testing data\n",
    "# model.score(X_test, y_test)"
   ]
  },
  {
   "cell_type": "code",
   "execution_count": null,
   "id": "f4c2fad5",
   "metadata": {},
   "outputs": [],
   "source": [
    "# fig, ax = plt.subplots()\n",
    "# plt.scatter(model.predict(X_train), model.predict(X_train)- y_train, c=\"blue\", label=\"Training Date\")\n",
    "# plt.scatter(model.predict(X_test), model.predict(X_test)-y_test, c=\"orange\", label=\"Testing Data\")\n",
    "# plt.boxplot(predictions, labels=[\"NY\"])\n",
    "# plt.title(\"Multivariant Regression on Housing\")\n",
    "# plt.legend()\n",
    "# plt.grid()\n",
    "# plt.show()"
   ]
  }
 ],
 "metadata": {
  "kernelspec": {
   "display_name": "mlenv",
   "language": "python",
   "name": "mlenv"
  },
  "language_info": {
   "codemirror_mode": {
    "name": "ipython",
    "version": 3
   },
   "file_extension": ".py",
   "mimetype": "text/x-python",
   "name": "python",
   "nbconvert_exporter": "python",
   "pygments_lexer": "ipython3",
   "version": "3.9.7"
  }
 },
 "nbformat": 4,
 "nbformat_minor": 5
}
