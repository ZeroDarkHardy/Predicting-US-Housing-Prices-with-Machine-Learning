{
 "cells": [
  {
   "cell_type": "markdown",
   "id": "4bf8410d",
   "metadata": {},
   "source": [
    "## FinalProject_MLModel_2ndSegment"
   ]
  },
  {
   "cell_type": "markdown",
   "id": "43c4f920",
   "metadata": {},
   "source": [
    "This project is about predicting housing prices across various regions/Zipcodes in the country based on various market factors such as gas prices, unemployment rate, mortgage rates, interest rates, and inflation rates. We will be utilizing supervised machine learning models for this purpose."
   ]
  },
  {
   "cell_type": "code",
   "execution_count": 90,
   "id": "98004aee",
   "metadata": {},
   "outputs": [],
   "source": [
    "# Import denpendencies\n",
    "import pandas as pd\n",
    "import matplotlib.pyplot as plt\n",
    "import sklearn as skl\n",
    "from sklearn.model_selection import train_test_split\n",
    "from sklearn.linear_model import LinearRegression\n",
    "from sklearn.preprocessing import StandardScaler\n",
    "import numpy as np \n",
    "from sklearn.metrics import mean_absolute_error, mean_squared_error, r2_score\n",
    "import tkinter as tk \n",
    "from matplotlib.backends.backend_tkagg import FigureCanvasTkAgg\n",
    "from sklearn import linear_model \n",
    "import statsmodels.api as sm\n",
    "import seaborn as sns\n",
    "import math"
   ]
  },
  {
   "cell_type": "code",
   "execution_count": 91,
   "id": "af510120",
   "metadata": {},
   "outputs": [
    {
     "data": {
      "text/html": [
       "<div>\n",
       "<style scoped>\n",
       "    .dataframe tbody tr th:only-of-type {\n",
       "        vertical-align: middle;\n",
       "    }\n",
       "\n",
       "    .dataframe tbody tr th {\n",
       "        vertical-align: top;\n",
       "    }\n",
       "\n",
       "    .dataframe thead th {\n",
       "        text-align: right;\n",
       "    }\n",
       "</style>\n",
       "<table border=\"1\" class=\"dataframe\">\n",
       "  <thead>\n",
       "    <tr style=\"text-align: right;\">\n",
       "      <th></th>\n",
       "      <th>DATE</th>\n",
       "      <th>PRICE_PER_GALLON</th>\n",
       "      <th>UNEMPLOYMENT_RATE</th>\n",
       "      <th>AVG_MORTGAGE_RATE</th>\n",
       "      <th>INTEREST_RATES</th>\n",
       "      <th>INFLATION</th>\n",
       "      <th>10001</th>\n",
       "      <th>60601</th>\n",
       "      <th>89101</th>\n",
       "      <th>75201</th>\n",
       "      <th>...</th>\n",
       "      <th>19468</th>\n",
       "      <th>32550</th>\n",
       "      <th>96738</th>\n",
       "      <th>76262</th>\n",
       "      <th>85641</th>\n",
       "      <th>34228</th>\n",
       "      <th>18938</th>\n",
       "      <th>95223</th>\n",
       "      <th>19047</th>\n",
       "      <th>60081</th>\n",
       "    </tr>\n",
       "  </thead>\n",
       "  <tbody>\n",
       "    <tr>\n",
       "      <th>0</th>\n",
       "      <td>2011-01-01</td>\n",
       "      <td>3.148</td>\n",
       "      <td>9.1</td>\n",
       "      <td>4.8</td>\n",
       "      <td>0.17</td>\n",
       "      <td>220.223</td>\n",
       "      <td>462700.0</td>\n",
       "      <td>188500.0</td>\n",
       "      <td>115600.0</td>\n",
       "      <td>191900.0</td>\n",
       "      <td>...</td>\n",
       "      <td>229700.0</td>\n",
       "      <td>284400.0</td>\n",
       "      <td>237800.0</td>\n",
       "      <td>128400.0</td>\n",
       "      <td>204100.0</td>\n",
       "      <td>432300.0</td>\n",
       "      <td>528100.0</td>\n",
       "      <td>266300.0</td>\n",
       "      <td>272300.0</td>\n",
       "      <td>203600.0</td>\n",
       "    </tr>\n",
       "    <tr>\n",
       "      <th>1</th>\n",
       "      <td>2011-02-01</td>\n",
       "      <td>3.264</td>\n",
       "      <td>9.0</td>\n",
       "      <td>4.9</td>\n",
       "      <td>0.16</td>\n",
       "      <td>221.309</td>\n",
       "      <td>466200.0</td>\n",
       "      <td>189400.0</td>\n",
       "      <td>114000.0</td>\n",
       "      <td>184500.0</td>\n",
       "      <td>...</td>\n",
       "      <td>216700.0</td>\n",
       "      <td>258100.0</td>\n",
       "      <td>216000.0</td>\n",
       "      <td>148400.0</td>\n",
       "      <td>194000.0</td>\n",
       "      <td>476900.0</td>\n",
       "      <td>482600.0</td>\n",
       "      <td>244200.0</td>\n",
       "      <td>291500.0</td>\n",
       "      <td>175600.0</td>\n",
       "    </tr>\n",
       "    <tr>\n",
       "      <th>2</th>\n",
       "      <td>2011-03-01</td>\n",
       "      <td>3.615</td>\n",
       "      <td>9.0</td>\n",
       "      <td>5.0</td>\n",
       "      <td>0.14</td>\n",
       "      <td>223.467</td>\n",
       "      <td>465600.0</td>\n",
       "      <td>186300.0</td>\n",
       "      <td>110800.0</td>\n",
       "      <td>174500.0</td>\n",
       "      <td>...</td>\n",
       "      <td>199800.0</td>\n",
       "      <td>253800.0</td>\n",
       "      <td>208800.0</td>\n",
       "      <td>150500.0</td>\n",
       "      <td>192400.0</td>\n",
       "      <td>440900.0</td>\n",
       "      <td>454800.0</td>\n",
       "      <td>217800.0</td>\n",
       "      <td>305600.0</td>\n",
       "      <td>170200.0</td>\n",
       "    </tr>\n",
       "    <tr>\n",
       "      <th>3</th>\n",
       "      <td>2011-04-01</td>\n",
       "      <td>3.852</td>\n",
       "      <td>9.1</td>\n",
       "      <td>4.9</td>\n",
       "      <td>0.10</td>\n",
       "      <td>224.906</td>\n",
       "      <td>469500.0</td>\n",
       "      <td>177700.0</td>\n",
       "      <td>109600.0</td>\n",
       "      <td>152000.0</td>\n",
       "      <td>...</td>\n",
       "      <td>211500.0</td>\n",
       "      <td>225700.0</td>\n",
       "      <td>229800.0</td>\n",
       "      <td>161600.0</td>\n",
       "      <td>185900.0</td>\n",
       "      <td>457500.0</td>\n",
       "      <td>463300.0</td>\n",
       "      <td>191200.0</td>\n",
       "      <td>342300.0</td>\n",
       "      <td>184800.0</td>\n",
       "    </tr>\n",
       "    <tr>\n",
       "      <th>4</th>\n",
       "      <td>2011-05-01</td>\n",
       "      <td>3.960</td>\n",
       "      <td>9.0</td>\n",
       "      <td>4.9</td>\n",
       "      <td>0.09</td>\n",
       "      <td>225.964</td>\n",
       "      <td>471300.0</td>\n",
       "      <td>167900.0</td>\n",
       "      <td>108200.0</td>\n",
       "      <td>162900.0</td>\n",
       "      <td>...</td>\n",
       "      <td>215300.0</td>\n",
       "      <td>230800.0</td>\n",
       "      <td>260100.0</td>\n",
       "      <td>131500.0</td>\n",
       "      <td>175900.0</td>\n",
       "      <td>470600.0</td>\n",
       "      <td>475400.0</td>\n",
       "      <td>201500.0</td>\n",
       "      <td>342600.0</td>\n",
       "      <td>198900.0</td>\n",
       "    </tr>\n",
       "  </tbody>\n",
       "</table>\n",
       "<p>5 rows × 944 columns</p>\n",
       "</div>"
      ],
      "text/plain": [
       "         DATE  PRICE_PER_GALLON  UNEMPLOYMENT_RATE  AVG_MORTGAGE_RATE  \\\n",
       "0  2011-01-01             3.148                9.1                4.8   \n",
       "1  2011-02-01             3.264                9.0                4.9   \n",
       "2  2011-03-01             3.615                9.0                5.0   \n",
       "3  2011-04-01             3.852                9.1                4.9   \n",
       "4  2011-05-01             3.960                9.0                4.9   \n",
       "\n",
       "   INTEREST_RATES  INFLATION     10001     60601     89101     75201  ...  \\\n",
       "0            0.17    220.223  462700.0  188500.0  115600.0  191900.0  ...   \n",
       "1            0.16    221.309  466200.0  189400.0  114000.0  184500.0  ...   \n",
       "2            0.14    223.467  465600.0  186300.0  110800.0  174500.0  ...   \n",
       "3            0.10    224.906  469500.0  177700.0  109600.0  152000.0  ...   \n",
       "4            0.09    225.964  471300.0  167900.0  108200.0  162900.0  ...   \n",
       "\n",
       "      19468     32550     96738     76262     85641     34228     18938  \\\n",
       "0  229700.0  284400.0  237800.0  128400.0  204100.0  432300.0  528100.0   \n",
       "1  216700.0  258100.0  216000.0  148400.0  194000.0  476900.0  482600.0   \n",
       "2  199800.0  253800.0  208800.0  150500.0  192400.0  440900.0  454800.0   \n",
       "3  211500.0  225700.0  229800.0  161600.0  185900.0  457500.0  463300.0   \n",
       "4  215300.0  230800.0  260100.0  131500.0  175900.0  470600.0  475400.0   \n",
       "\n",
       "      95223     19047     60081  \n",
       "0  266300.0  272300.0  203600.0  \n",
       "1  244200.0  291500.0  175600.0  \n",
       "2  217800.0  305600.0  170200.0  \n",
       "3  191200.0  342300.0  184800.0  \n",
       "4  201500.0  342600.0  198900.0  \n",
       "\n",
       "[5 rows x 944 columns]"
      ]
     },
     "execution_count": 91,
     "metadata": {},
     "output_type": "execute_result"
    }
   ],
   "source": [
    "# Upload the CSV files \n",
    "file_load = \"Resources/full_data_set_zipcodes.csv\"\n",
    "df = pd.read_csv(file_load)\n",
    "df.head()"
   ]
  },
  {
   "cell_type": "markdown",
   "id": "151665d3",
   "metadata": {},
   "source": [
    "### Preliminary Data Preprocessing\n",
    "Data utilized for this project was obtained from six different sources. All sources are listed and linked in the project README.md file on the github repository.\n",
    "Data preprocessing was conducted in a separate jupyter notebook: [Preprocessing Notebook.ipynb](https://github.com/pbthompson92/Final_Project_Outliers/blob/main/preprocessing_4a_adding_additional_datasets_by_zipcodes.ipynb)\n",
    "\n",
    "As is clear from the notebook referenced above, we have created our final dataset by combining Housing prices across the country with gas prices dataset, unemployment rates dataset, mortgage rates dataset, federal interest rates dataset, and CPI inex dataset which depicts inflation in the country.\n",
    "\n",
    "We followed the following steps to accomplish data pre-processing:\n",
    "- Import the libraries\n",
    "- Import the Dataset\n",
    "- Check the missing values\n",
    "- Splitting the dataset into trainig and testing set\n",
    "- Feature scaling: is a method used to normalize the range of independent variables or features of data. So when the values vary a lot in an independent variable, we use feature scaling so that all the values remain in the comparable range. The variations in our dataset can be minimized simply by dividing the house prices by 1000.\n"
   ]
  },
  {
   "cell_type": "code",
   "execution_count": 92,
   "id": "0fa39d0b",
   "metadata": {},
   "outputs": [
    {
     "data": {
      "text/plain": [
       "DATE                  object\n",
       "PRICE_PER_GALLON     float64\n",
       "UNEMPLOYMENT_RATE    float64\n",
       "AVG_MORTGAGE_RATE    float64\n",
       "INTEREST_RATES       float64\n",
       "                      ...   \n",
       "34228                float64\n",
       "18938                float64\n",
       "95223                float64\n",
       "19047                float64\n",
       "60081                float64\n",
       "Length: 944, dtype: object"
      ]
     },
     "execution_count": 92,
     "metadata": {},
     "output_type": "execute_result"
    }
   ],
   "source": [
    "# Check the data types of each column \n",
    "df.dtypes"
   ]
  },
  {
   "cell_type": "code",
   "execution_count": 93,
   "id": "5f347bdc",
   "metadata": {},
   "outputs": [
    {
     "data": {
      "text/plain": [
       "944"
      ]
     },
     "execution_count": 93,
     "metadata": {},
     "output_type": "execute_result"
    }
   ],
   "source": [
    "# Check number of columns in the dataframe\n",
    "len(df.columns)"
   ]
  },
  {
   "cell_type": "code",
   "execution_count": 94,
   "id": "790ef35c",
   "metadata": {},
   "outputs": [
    {
     "data": {
      "text/html": [
       "<div>\n",
       "<style scoped>\n",
       "    .dataframe tbody tr th:only-of-type {\n",
       "        vertical-align: middle;\n",
       "    }\n",
       "\n",
       "    .dataframe tbody tr th {\n",
       "        vertical-align: top;\n",
       "    }\n",
       "\n",
       "    .dataframe thead th {\n",
       "        text-align: right;\n",
       "    }\n",
       "</style>\n",
       "<table border=\"1\" class=\"dataframe\">\n",
       "  <thead>\n",
       "    <tr style=\"text-align: right;\">\n",
       "      <th></th>\n",
       "      <th>PRICE_PER_GALLON</th>\n",
       "      <th>UNEMPLOYMENT_RATE</th>\n",
       "      <th>AVG_MORTGAGE_RATE</th>\n",
       "      <th>INTEREST_RATES</th>\n",
       "      <th>INFLATION</th>\n",
       "      <th>10001</th>\n",
       "      <th>60601</th>\n",
       "      <th>89101</th>\n",
       "      <th>75201</th>\n",
       "      <th>43085</th>\n",
       "      <th>...</th>\n",
       "      <th>19468</th>\n",
       "      <th>32550</th>\n",
       "      <th>96738</th>\n",
       "      <th>76262</th>\n",
       "      <th>85641</th>\n",
       "      <th>34228</th>\n",
       "      <th>18938</th>\n",
       "      <th>95223</th>\n",
       "      <th>19047</th>\n",
       "      <th>60081</th>\n",
       "    </tr>\n",
       "  </thead>\n",
       "  <tbody>\n",
       "    <tr>\n",
       "      <th>0</th>\n",
       "      <td>3.148</td>\n",
       "      <td>9.1</td>\n",
       "      <td>4.8</td>\n",
       "      <td>0.17</td>\n",
       "      <td>220.223</td>\n",
       "      <td>462700.0</td>\n",
       "      <td>188500.0</td>\n",
       "      <td>115600.0</td>\n",
       "      <td>191900.0</td>\n",
       "      <td>89100.0</td>\n",
       "      <td>...</td>\n",
       "      <td>229700.0</td>\n",
       "      <td>284400.0</td>\n",
       "      <td>237800.0</td>\n",
       "      <td>128400.0</td>\n",
       "      <td>204100.0</td>\n",
       "      <td>432300.0</td>\n",
       "      <td>528100.0</td>\n",
       "      <td>266300.0</td>\n",
       "      <td>272300.0</td>\n",
       "      <td>203600.0</td>\n",
       "    </tr>\n",
       "    <tr>\n",
       "      <th>1</th>\n",
       "      <td>3.264</td>\n",
       "      <td>9.0</td>\n",
       "      <td>4.9</td>\n",
       "      <td>0.16</td>\n",
       "      <td>221.309</td>\n",
       "      <td>466200.0</td>\n",
       "      <td>189400.0</td>\n",
       "      <td>114000.0</td>\n",
       "      <td>184500.0</td>\n",
       "      <td>86000.0</td>\n",
       "      <td>...</td>\n",
       "      <td>216700.0</td>\n",
       "      <td>258100.0</td>\n",
       "      <td>216000.0</td>\n",
       "      <td>148400.0</td>\n",
       "      <td>194000.0</td>\n",
       "      <td>476900.0</td>\n",
       "      <td>482600.0</td>\n",
       "      <td>244200.0</td>\n",
       "      <td>291500.0</td>\n",
       "      <td>175600.0</td>\n",
       "    </tr>\n",
       "    <tr>\n",
       "      <th>2</th>\n",
       "      <td>3.615</td>\n",
       "      <td>9.0</td>\n",
       "      <td>5.0</td>\n",
       "      <td>0.14</td>\n",
       "      <td>223.467</td>\n",
       "      <td>465600.0</td>\n",
       "      <td>186300.0</td>\n",
       "      <td>110800.0</td>\n",
       "      <td>174500.0</td>\n",
       "      <td>79800.0</td>\n",
       "      <td>...</td>\n",
       "      <td>199800.0</td>\n",
       "      <td>253800.0</td>\n",
       "      <td>208800.0</td>\n",
       "      <td>150500.0</td>\n",
       "      <td>192400.0</td>\n",
       "      <td>440900.0</td>\n",
       "      <td>454800.0</td>\n",
       "      <td>217800.0</td>\n",
       "      <td>305600.0</td>\n",
       "      <td>170200.0</td>\n",
       "    </tr>\n",
       "    <tr>\n",
       "      <th>3</th>\n",
       "      <td>3.852</td>\n",
       "      <td>9.1</td>\n",
       "      <td>4.9</td>\n",
       "      <td>0.10</td>\n",
       "      <td>224.906</td>\n",
       "      <td>469500.0</td>\n",
       "      <td>177700.0</td>\n",
       "      <td>109600.0</td>\n",
       "      <td>152000.0</td>\n",
       "      <td>79300.0</td>\n",
       "      <td>...</td>\n",
       "      <td>211500.0</td>\n",
       "      <td>225700.0</td>\n",
       "      <td>229800.0</td>\n",
       "      <td>161600.0</td>\n",
       "      <td>185900.0</td>\n",
       "      <td>457500.0</td>\n",
       "      <td>463300.0</td>\n",
       "      <td>191200.0</td>\n",
       "      <td>342300.0</td>\n",
       "      <td>184800.0</td>\n",
       "    </tr>\n",
       "    <tr>\n",
       "      <th>4</th>\n",
       "      <td>3.960</td>\n",
       "      <td>9.0</td>\n",
       "      <td>4.9</td>\n",
       "      <td>0.09</td>\n",
       "      <td>225.964</td>\n",
       "      <td>471300.0</td>\n",
       "      <td>167900.0</td>\n",
       "      <td>108200.0</td>\n",
       "      <td>162900.0</td>\n",
       "      <td>78600.0</td>\n",
       "      <td>...</td>\n",
       "      <td>215300.0</td>\n",
       "      <td>230800.0</td>\n",
       "      <td>260100.0</td>\n",
       "      <td>131500.0</td>\n",
       "      <td>175900.0</td>\n",
       "      <td>470600.0</td>\n",
       "      <td>475400.0</td>\n",
       "      <td>201500.0</td>\n",
       "      <td>342600.0</td>\n",
       "      <td>198900.0</td>\n",
       "    </tr>\n",
       "  </tbody>\n",
       "</table>\n",
       "<p>5 rows × 943 columns</p>\n",
       "</div>"
      ],
      "text/plain": [
       "   PRICE_PER_GALLON  UNEMPLOYMENT_RATE  AVG_MORTGAGE_RATE  INTEREST_RATES  \\\n",
       "0             3.148                9.1                4.8            0.17   \n",
       "1             3.264                9.0                4.9            0.16   \n",
       "2             3.615                9.0                5.0            0.14   \n",
       "3             3.852                9.1                4.9            0.10   \n",
       "4             3.960                9.0                4.9            0.09   \n",
       "\n",
       "   INFLATION     10001     60601     89101     75201    43085  ...     19468  \\\n",
       "0    220.223  462700.0  188500.0  115600.0  191900.0  89100.0  ...  229700.0   \n",
       "1    221.309  466200.0  189400.0  114000.0  184500.0  86000.0  ...  216700.0   \n",
       "2    223.467  465600.0  186300.0  110800.0  174500.0  79800.0  ...  199800.0   \n",
       "3    224.906  469500.0  177700.0  109600.0  152000.0  79300.0  ...  211500.0   \n",
       "4    225.964  471300.0  167900.0  108200.0  162900.0  78600.0  ...  215300.0   \n",
       "\n",
       "      32550     96738     76262     85641     34228     18938     95223  \\\n",
       "0  284400.0  237800.0  128400.0  204100.0  432300.0  528100.0  266300.0   \n",
       "1  258100.0  216000.0  148400.0  194000.0  476900.0  482600.0  244200.0   \n",
       "2  253800.0  208800.0  150500.0  192400.0  440900.0  454800.0  217800.0   \n",
       "3  225700.0  229800.0  161600.0  185900.0  457500.0  463300.0  191200.0   \n",
       "4  230800.0  260100.0  131500.0  175900.0  470600.0  475400.0  201500.0   \n",
       "\n",
       "      19047     60081  \n",
       "0  272300.0  203600.0  \n",
       "1  291500.0  175600.0  \n",
       "2  305600.0  170200.0  \n",
       "3  342300.0  184800.0  \n",
       "4  342600.0  198900.0  \n",
       "\n",
       "[5 rows x 943 columns]"
      ]
     },
     "execution_count": 94,
     "metadata": {},
     "output_type": "execute_result"
    }
   ],
   "source": [
    "# Dropping DATE column \n",
    "df.drop(columns=\"DATE\", axis=1, inplace=True)\n",
    "df.head()"
   ]
  },
  {
   "cell_type": "markdown",
   "id": "c6955c5b",
   "metadata": {},
   "source": [
    "There are a total of 943 columns, out of which 6 are independent variables and remaining 937 are the housing prices in various regions in the country denoted by their Zip codes. The housing prices in each zip code is our dependent variable."
   ]
  },
  {
   "cell_type": "markdown",
   "id": "3ff27dc2",
   "metadata": {},
   "source": [
    "### Detecting Outliers"
   ]
  },
  {
   "cell_type": "code",
   "execution_count": 95,
   "id": "c81558c9",
   "metadata": {},
   "outputs": [
    {
     "data": {
      "text/plain": [
       "<AxesSubplot:xlabel='PRICE_PER_GALLON'>"
      ]
     },
     "execution_count": 95,
     "metadata": {},
     "output_type": "execute_result"
    },
    {
     "data": {
      "image/png": "[encoded data removed]",
      "text/plain": [
       "<Figure size 432x288 with 1 Axes>"
      ]
     },
     "metadata": {
      "needs_background": "light"
     },
     "output_type": "display_data"
    }
   ],
   "source": [
    "sns.boxplot(df['PRICE_PER_GALLON'],color='red')"
   ]
  },
  {
   "cell_type": "code",
   "execution_count": 96,
   "id": "41b4ad6c",
   "metadata": {},
   "outputs": [
    {
     "data": {
      "image/png": "[encoded data removed]",
      "text/plain": [
       "<Figure size 1152x360 with 2 Axes>"
      ]
     },
     "metadata": {
      "needs_background": "light"
     },
     "output_type": "display_data"
    }
   ],
   "source": [
    "import warnings\n",
    "warnings.filterwarnings('ignore')\n",
    "plt.figure(figsize=(16,5))\n",
    "# plt.subplot(1,2,1)\n",
    "# sns.distplot(df['PRICE_PER_GALLON'])\n",
    "# plt.subplot(1,2,2)\n",
    "# sns.distplot(df['UNEMPLOYMENT_RATE'])\n",
    "plt.subplot(1,2,1)\n",
    "sns.distplot(df['AVG_MORTGAGE_RATE'])\n",
    "plt.subplot(1,2,2)\n",
    "sns.distplot(df['INTEREST_RATES'])\n",
    "plt.show()"
   ]
  },
  {
   "cell_type": "code",
   "execution_count": 97,
   "id": "1879ed3d",
   "metadata": {},
   "outputs": [
    {
     "data": {
      "image/png": "[encoded data removed]",
      "text/plain": [
       "<Figure size 1152x360 with 2 Axes>"
      ]
     },
     "metadata": {
      "needs_background": "light"
     },
     "output_type": "display_data"
    }
   ],
   "source": [
    "plt.figure(figsize=(16,5))\n",
    "plt.subplot(1,2,1)\n",
    "sns.distplot(df['PRICE_PER_GALLON'])\n",
    "plt.subplot(1,2,2)\n",
    "sns.distplot(df['UNEMPLOYMENT_RATE'])\n",
    "plt.show()"
   ]
  },
  {
   "cell_type": "code",
   "execution_count": 98,
   "id": "8a701b89",
   "metadata": {},
   "outputs": [
    {
     "name": "stdout",
     "output_type": "stream",
     "text": [
      "Highest allowed 4.6886833106263675\n",
      "Lowest allowed 1.3015329055898466\n",
      "------------------------------------------\n",
      "Highest allowed 11.252956823043755\n",
      "Lowest allowed 0.3254215553346178\n",
      "------------------------------------------\n",
      "Highest allowed 5.365542363895246\n",
      "Lowest allowed 3.1353585370056547\n",
      "------------------------------------------\n",
      "Highest allowed 3.03658589979017\n",
      "Lowest allowed -1.6803696835739537\n",
      "------------------------------------------\n",
      "Highest allowed 269.52033536758364\n",
      "Lowest allowed 209.98193490268682\n"
     ]
    }
   ],
   "source": [
    "# Finding the boundary values\n",
    "\n",
    "# Gas Price\n",
    "print(\"Highest allowed\",df['PRICE_PER_GALLON'].mean() + 3*df['PRICE_PER_GALLON'].std())\n",
    "print(\"Lowest allowed\",df['PRICE_PER_GALLON'].mean() - 3*df['PRICE_PER_GALLON'].std())\n",
    "print(\"------------------------------------------\")\n",
    "\n",
    "# Unemployment rate\n",
    "print(\"Highest allowed\",df['UNEMPLOYMENT_RATE'].mean() + 3*df['UNEMPLOYMENT_RATE'].std())\n",
    "print(\"Lowest allowed\",df['UNEMPLOYMENT_RATE'].mean() - 3*df['UNEMPLOYMENT_RATE'].std())\n",
    "print(\"------------------------------------------\")\n",
    "\n",
    "# Mortgage rate\n",
    "print(\"Highest allowed\",df['AVG_MORTGAGE_RATE'].mean() + 3*df['AVG_MORTGAGE_RATE'].std())\n",
    "print(\"Lowest allowed\",df['AVG_MORTGAGE_RATE'].mean() - 3*df['AVG_MORTGAGE_RATE'].std())\n",
    "print(\"------------------------------------------\")\n",
    "\n",
    "# Interest Rate\n",
    "print(\"Highest allowed\",df['INTEREST_RATES'].mean() + 3*df['INTEREST_RATES'].std())\n",
    "print(\"Lowest allowed\",df['INTEREST_RATES'].mean() - 3*df['INTEREST_RATES'].std())\n",
    "print(\"------------------------------------------\")\n",
    "\n",
    "# Inflation\n",
    "print(\"Highest allowed\",df['INFLATION'].mean() + 3*df['INFLATION'].std())\n",
    "print(\"Lowest allowed\",df['INFLATION'].mean() - 3*df['INFLATION'].std())"
   ]
  },
  {
   "cell_type": "code",
   "execution_count": 99,
   "id": "72b75152",
   "metadata": {},
   "outputs": [],
   "source": [
    "# Finding the Outliers \n",
    "outlier_gas = df[(df[\"PRICE_PER_GALLON\"] > 4.69) | (df['PRICE_PER_GALLON'] < 1.30)]\n",
    "outlier_unemployment = df[(df[\"UNEMPLOYMENT_RATE\"] > 11.26) | (df['UNEMPLOYMENT_RATE'] < 0.33)]\n",
    "outlier_mortgage = df[(df[\"AVG_MORTGAGE_RATE\"] > 5.37) | (df['AVG_MORTGAGE_RATE'] < 3.14)]\n",
    "outlier_interest = df[(df[\"INTEREST_RATES\"] > 3.04) | (df['INTEREST_RATES'] < -1.68)]\n",
    "outlier_inflation = df[(df[\"INFLATION\"] > 269.52) | (df['INFLATION'] < 209.98)]"
   ]
  },
  {
   "cell_type": "code",
   "execution_count": 100,
   "id": "f15f46f5",
   "metadata": {},
   "outputs": [],
   "source": [
    "# Capping an outliers \n",
    "\n"
   ]
  },
  {
   "cell_type": "code",
   "execution_count": null,
   "id": "2c5b73cf",
   "metadata": {},
   "outputs": [],
   "source": []
  },
  {
   "cell_type": "markdown",
   "id": "fd342e2b",
   "metadata": {},
   "source": [
    "### Multiple Linear Regression Model\n",
    "Our problem statement involves predicting housing values. This problem can be solved by using a regression model. Multiple Linear Regression (MLR) is one of the important regression algorithms which models the linear relationship between a single dependent continuous variable and more than one independent variables.\n",
    "Multiple regressions are based on the assumption that there is a linear relationship between both the dependent and independent variables. It also assumes no major correlation between the independent variables."
   ]
  },
  {
   "cell_type": "markdown",
   "id": "7e3fecf1",
   "metadata": {},
   "source": [
    "### Check for Linearity\n",
    "In order for the MLR model to be applicable we want to check that a linear relationship exists between the dependent variable and the independent variables. This can be checked by using scatter plots."
   ]
  },
  {
   "cell_type": "code",
   "execution_count": 101,
   "id": "111100fd",
   "metadata": {},
   "outputs": [
    {
     "name": "stdout",
     "output_type": "stream",
     "text": [
      "Enter the 5 digit Zipcode: 10001\n"
     ]
    }
   ],
   "source": [
    "# Enter the zipcode to build the model. Example: 10001 etc. \n",
    "# As Mentioned above, this model has 937 different zipcodes to choose from.\n",
    "region = input(\"Enter the 5 digit Zipcode: \")"
   ]
  },
  {
   "cell_type": "code",
   "execution_count": 102,
   "id": "e3fa9bbd",
   "metadata": {},
   "outputs": [
    {
     "data": {
      "text/plain": [
       "Text(0.5, 1.0, 'Inflation vs Housing')"
      ]
     },
     "execution_count": 102,
     "metadata": {},
     "output_type": "execute_result"
    },
    {
     "data": {
      "image/png": "[encoded data removed]",
      "text/plain": [
       "<Figure size 360x1440 with 5 Axes>"
      ]
     },
     "metadata": {
      "needs_background": "light"
     },
     "output_type": "display_data"
    }
   ],
   "source": [
    "# Plot the code \n",
    "fig, ((ax1),(ax2),(ax3),(ax4),(ax5)) = plt.subplots(5,1,figsize = (5,20))\n",
    "ax1.scatter(df[\"PRICE_PER_GALLON\"],df[region], c=\"green\")\n",
    "ax1.set_title('Gas vs Housing')\n",
    "ax2.scatter(df[\"UNEMPLOYMENT_RATE\"], df[region], c=\"blue\")\n",
    "ax2.set_title('Unemployment vs Housing')\n",
    "ax3.scatter(df[\"AVG_MORTGAGE_RATE\"],df[region], c=\"red\")\n",
    "ax3.set_title('Mortgage vs Housing')\n",
    "ax4.scatter(df[\"INTEREST_RATES\"], df[region], c=\"orange\")\n",
    "ax4.set_title('Interest rates vs Housing')\n",
    "ax5.scatter(df[\"INFLATION\"], df[region], c=\"black\")\n",
    "ax5.set_title('Inflation vs Housing')"
   ]
  },
  {
   "cell_type": "markdown",
   "id": "094ade4e",
   "metadata": {},
   "source": [
    "### Feature Engineering\n",
    "\n",
    "Feature engineering is a process of extracting useful features from raw data using math, statistics and domain knowledge. For our project we started the process of feature engineering early on by detecting missing values and removing them from the dataset. Additionally during preprocessing, we added zipcodes as a feature to our dataset by matching each region ID against the respective zip codes.\n",
    "\n",
    "(Maybe Outlier detection??)"
   ]
  },
  {
   "cell_type": "markdown",
   "id": "01ea1b9d",
   "metadata": {},
   "source": [
    "### Feature Selection \n",
    "In our dataset, we have 5 input features (Gas Prices, Mortgage rates, Interest rates, Inflation and Unemployment rates) for our model. We are trying to visualize a correlation between these 5 features and the housing prices which is our target value in this machine learning model. \n",
    "\n",
    "Based on the above scatter plots, we can see that Interest Rates and Inflation (Consumer Price Index - CPI) have a linear relationship with Housing Prices. The Gas Prices and Unemployment Rates also have a linear relationship with Housing Prices, but with a negatice slope, whihc means that housing prices decrease with increasing as prices and unemployment rates. We can also see that Mortage rates do not have a linear relationship with Housing Prices. \n",
    "Since Mortgage Rates and Housing Prices do not have linear relationship, in order to move forward with MLR model, we decided to drop Mortage Rates feature from our dataset. "
   ]
  },
  {
   "cell_type": "code",
   "execution_count": 103,
   "id": "d7c9d669",
   "metadata": {},
   "outputs": [
    {
     "data": {
      "text/html": [
       "<div>\n",
       "<style scoped>\n",
       "    .dataframe tbody tr th:only-of-type {\n",
       "        vertical-align: middle;\n",
       "    }\n",
       "\n",
       "    .dataframe tbody tr th {\n",
       "        vertical-align: top;\n",
       "    }\n",
       "\n",
       "    .dataframe thead th {\n",
       "        text-align: right;\n",
       "    }\n",
       "</style>\n",
       "<table border=\"1\" class=\"dataframe\">\n",
       "  <thead>\n",
       "    <tr style=\"text-align: right;\">\n",
       "      <th></th>\n",
       "      <th>PRICE_PER_GALLON</th>\n",
       "      <th>UNEMPLOYMENT_RATE</th>\n",
       "      <th>INTEREST_RATES</th>\n",
       "      <th>INFLATION</th>\n",
       "      <th>10001</th>\n",
       "      <th>60601</th>\n",
       "      <th>89101</th>\n",
       "      <th>75201</th>\n",
       "      <th>43085</th>\n",
       "      <th>40202</th>\n",
       "      <th>...</th>\n",
       "      <th>19468</th>\n",
       "      <th>32550</th>\n",
       "      <th>96738</th>\n",
       "      <th>76262</th>\n",
       "      <th>85641</th>\n",
       "      <th>34228</th>\n",
       "      <th>18938</th>\n",
       "      <th>95223</th>\n",
       "      <th>19047</th>\n",
       "      <th>60081</th>\n",
       "    </tr>\n",
       "  </thead>\n",
       "  <tbody>\n",
       "    <tr>\n",
       "      <th>0</th>\n",
       "      <td>3.148</td>\n",
       "      <td>9.1</td>\n",
       "      <td>0.17</td>\n",
       "      <td>220.223</td>\n",
       "      <td>462700.0</td>\n",
       "      <td>188500.0</td>\n",
       "      <td>115600.0</td>\n",
       "      <td>191900.0</td>\n",
       "      <td>89100.0</td>\n",
       "      <td>125900.0</td>\n",
       "      <td>...</td>\n",
       "      <td>229700.0</td>\n",
       "      <td>284400.0</td>\n",
       "      <td>237800.0</td>\n",
       "      <td>128400.0</td>\n",
       "      <td>204100.0</td>\n",
       "      <td>432300.0</td>\n",
       "      <td>528100.0</td>\n",
       "      <td>266300.0</td>\n",
       "      <td>272300.0</td>\n",
       "      <td>203600.0</td>\n",
       "    </tr>\n",
       "    <tr>\n",
       "      <th>1</th>\n",
       "      <td>3.264</td>\n",
       "      <td>9.0</td>\n",
       "      <td>0.16</td>\n",
       "      <td>221.309</td>\n",
       "      <td>466200.0</td>\n",
       "      <td>189400.0</td>\n",
       "      <td>114000.0</td>\n",
       "      <td>184500.0</td>\n",
       "      <td>86000.0</td>\n",
       "      <td>124000.0</td>\n",
       "      <td>...</td>\n",
       "      <td>216700.0</td>\n",
       "      <td>258100.0</td>\n",
       "      <td>216000.0</td>\n",
       "      <td>148400.0</td>\n",
       "      <td>194000.0</td>\n",
       "      <td>476900.0</td>\n",
       "      <td>482600.0</td>\n",
       "      <td>244200.0</td>\n",
       "      <td>291500.0</td>\n",
       "      <td>175600.0</td>\n",
       "    </tr>\n",
       "    <tr>\n",
       "      <th>2</th>\n",
       "      <td>3.615</td>\n",
       "      <td>9.0</td>\n",
       "      <td>0.14</td>\n",
       "      <td>223.467</td>\n",
       "      <td>465600.0</td>\n",
       "      <td>186300.0</td>\n",
       "      <td>110800.0</td>\n",
       "      <td>174500.0</td>\n",
       "      <td>79800.0</td>\n",
       "      <td>118300.0</td>\n",
       "      <td>...</td>\n",
       "      <td>199800.0</td>\n",
       "      <td>253800.0</td>\n",
       "      <td>208800.0</td>\n",
       "      <td>150500.0</td>\n",
       "      <td>192400.0</td>\n",
       "      <td>440900.0</td>\n",
       "      <td>454800.0</td>\n",
       "      <td>217800.0</td>\n",
       "      <td>305600.0</td>\n",
       "      <td>170200.0</td>\n",
       "    </tr>\n",
       "    <tr>\n",
       "      <th>3</th>\n",
       "      <td>3.852</td>\n",
       "      <td>9.1</td>\n",
       "      <td>0.10</td>\n",
       "      <td>224.906</td>\n",
       "      <td>469500.0</td>\n",
       "      <td>177700.0</td>\n",
       "      <td>109600.0</td>\n",
       "      <td>152000.0</td>\n",
       "      <td>79300.0</td>\n",
       "      <td>117600.0</td>\n",
       "      <td>...</td>\n",
       "      <td>211500.0</td>\n",
       "      <td>225700.0</td>\n",
       "      <td>229800.0</td>\n",
       "      <td>161600.0</td>\n",
       "      <td>185900.0</td>\n",
       "      <td>457500.0</td>\n",
       "      <td>463300.0</td>\n",
       "      <td>191200.0</td>\n",
       "      <td>342300.0</td>\n",
       "      <td>184800.0</td>\n",
       "    </tr>\n",
       "    <tr>\n",
       "      <th>4</th>\n",
       "      <td>3.960</td>\n",
       "      <td>9.0</td>\n",
       "      <td>0.09</td>\n",
       "      <td>225.964</td>\n",
       "      <td>471300.0</td>\n",
       "      <td>167900.0</td>\n",
       "      <td>108200.0</td>\n",
       "      <td>162900.0</td>\n",
       "      <td>78600.0</td>\n",
       "      <td>113800.0</td>\n",
       "      <td>...</td>\n",
       "      <td>215300.0</td>\n",
       "      <td>230800.0</td>\n",
       "      <td>260100.0</td>\n",
       "      <td>131500.0</td>\n",
       "      <td>175900.0</td>\n",
       "      <td>470600.0</td>\n",
       "      <td>475400.0</td>\n",
       "      <td>201500.0</td>\n",
       "      <td>342600.0</td>\n",
       "      <td>198900.0</td>\n",
       "    </tr>\n",
       "  </tbody>\n",
       "</table>\n",
       "<p>5 rows × 942 columns</p>\n",
       "</div>"
      ],
      "text/plain": [
       "   PRICE_PER_GALLON  UNEMPLOYMENT_RATE  INTEREST_RATES  INFLATION     10001  \\\n",
       "0             3.148                9.1            0.17    220.223  462700.0   \n",
       "1             3.264                9.0            0.16    221.309  466200.0   \n",
       "2             3.615                9.0            0.14    223.467  465600.0   \n",
       "3             3.852                9.1            0.10    224.906  469500.0   \n",
       "4             3.960                9.0            0.09    225.964  471300.0   \n",
       "\n",
       "      60601     89101     75201    43085     40202  ...     19468     32550  \\\n",
       "0  188500.0  115600.0  191900.0  89100.0  125900.0  ...  229700.0  284400.0   \n",
       "1  189400.0  114000.0  184500.0  86000.0  124000.0  ...  216700.0  258100.0   \n",
       "2  186300.0  110800.0  174500.0  79800.0  118300.0  ...  199800.0  253800.0   \n",
       "3  177700.0  109600.0  152000.0  79300.0  117600.0  ...  211500.0  225700.0   \n",
       "4  167900.0  108200.0  162900.0  78600.0  113800.0  ...  215300.0  230800.0   \n",
       "\n",
       "      96738     76262     85641     34228     18938     95223     19047  \\\n",
       "0  237800.0  128400.0  204100.0  432300.0  528100.0  266300.0  272300.0   \n",
       "1  216000.0  148400.0  194000.0  476900.0  482600.0  244200.0  291500.0   \n",
       "2  208800.0  150500.0  192400.0  440900.0  454800.0  217800.0  305600.0   \n",
       "3  229800.0  161600.0  185900.0  457500.0  463300.0  191200.0  342300.0   \n",
       "4  260100.0  131500.0  175900.0  470600.0  475400.0  201500.0  342600.0   \n",
       "\n",
       "      60081  \n",
       "0  203600.0  \n",
       "1  175600.0  \n",
       "2  170200.0  \n",
       "3  184800.0  \n",
       "4  198900.0  \n",
       "\n",
       "[5 rows x 942 columns]"
      ]
     },
     "execution_count": 103,
     "metadata": {},
     "output_type": "execute_result"
    }
   ],
   "source": [
    "# Droping Mortgage Rates\n",
    "df2 = df.drop(columns=\"AVG_MORTGAGE_RATE\", axis=1)\n",
    "df2.head()"
   ]
  },
  {
   "cell_type": "markdown",
   "id": "9920c9ad",
   "metadata": {},
   "source": []
  },
  {
   "cell_type": "code",
   "execution_count": null,
   "id": "77d8d0c4",
   "metadata": {},
   "outputs": [],
   "source": []
  },
  {
   "cell_type": "code",
   "execution_count": 104,
   "id": "df8cabcb",
   "metadata": {},
   "outputs": [
    {
     "name": "stdout",
     "output_type": "stream",
     "text": [
      "PRICE_PER_GALLON          3.960\n",
      "UNEMPLOYMENT_RATE         9.100\n",
      "INTEREST_RATES            2.420\n",
      "INFLATION               258.678\n",
      "10001                575100.000\n",
      "                        ...    \n",
      "34228                663200.000\n",
      "18938                665600.000\n",
      "95223                345100.000\n",
      "19047                416200.000\n",
      "60081                270300.000\n",
      "Length: 942, dtype: float64\n"
     ]
    }
   ],
   "source": [
    "# Check all maximum values for each column\n",
    "\n",
    "max_elements = df2.max(axis=0)\n",
    "print(max_elements)"
   ]
  },
  {
   "cell_type": "code",
   "execution_count": 105,
   "id": "f1136168",
   "metadata": {},
   "outputs": [],
   "source": [
    "# Create Feature and Target variable\n",
    "X1 = df2.copy()\n",
    "X1 = X1[[\"PRICE_PER_GALLON\", \"UNEMPLOYMENT_RATE\", \"INTEREST_RATES\", \"INFLATION\"]]\n",
    "\n",
    "y1 = (df2[region]/1000).values.reshape(-1,1)\n"
   ]
  },
  {
   "cell_type": "code",
   "execution_count": 106,
   "id": "69934947",
   "metadata": {},
   "outputs": [
    {
     "name": "stdout",
     "output_type": "stream",
     "text": [
      "(111, 4)\n",
      "(111, 1)\n"
     ]
    }
   ],
   "source": [
    "# Structure of X and y\n",
    "print(X1.shape)\n",
    "print(y1.shape)"
   ]
  },
  {
   "cell_type": "code",
   "execution_count": 107,
   "id": "33f7cef3",
   "metadata": {},
   "outputs": [
    {
     "data": {
      "text/plain": [
       "['PRICE_PER_GALLON',\n",
       " 'UNEMPLOYMENT_RATE',\n",
       " 'INTEREST_RATES',\n",
       " 'INFLATION',\n",
       " '10001']"
      ]
     },
     "execution_count": 107,
     "metadata": {},
     "output_type": "execute_result"
    }
   ],
   "source": [
    "# Columns \n",
    "columns = df2.columns.tolist()\n",
    "columns[:5]"
   ]
  },
  {
   "cell_type": "markdown",
   "id": "da707685",
   "metadata": {},
   "source": [
    "### Splitting data into Training and Testing Sets\n",
    "We used the Python Scikitlearn's train_test_split function to split our data into training and testing sets for model performance evaluation. This is done by importing train_test_split from sklearn.model_selection. By default this function alots 25% of the dataset as the testing set."
   ]
  },
  {
   "cell_type": "code",
   "execution_count": 108,
   "id": "1cb004ce",
   "metadata": {},
   "outputs": [
    {
     "data": {
      "text/html": [
       "<div>\n",
       "<style scoped>\n",
       "    .dataframe tbody tr th:only-of-type {\n",
       "        vertical-align: middle;\n",
       "    }\n",
       "\n",
       "    .dataframe tbody tr th {\n",
       "        vertical-align: top;\n",
       "    }\n",
       "\n",
       "    .dataframe thead th {\n",
       "        text-align: right;\n",
       "    }\n",
       "</style>\n",
       "<table border=\"1\" class=\"dataframe\">\n",
       "  <thead>\n",
       "    <tr style=\"text-align: right;\">\n",
       "      <th></th>\n",
       "      <th>PRICE_PER_GALLON</th>\n",
       "      <th>UNEMPLOYMENT_RATE</th>\n",
       "      <th>INTEREST_RATES</th>\n",
       "      <th>INFLATION</th>\n",
       "    </tr>\n",
       "  </thead>\n",
       "  <tbody>\n",
       "    <tr>\n",
       "      <th>15</th>\n",
       "      <td>3.958</td>\n",
       "      <td>8.2</td>\n",
       "      <td>0.14</td>\n",
       "      <td>230.085</td>\n",
       "    </tr>\n",
       "    <tr>\n",
       "      <th>44</th>\n",
       "      <td>3.484</td>\n",
       "      <td>5.9</td>\n",
       "      <td>0.09</td>\n",
       "      <td>238.031</td>\n",
       "    </tr>\n",
       "    <tr>\n",
       "      <th>89</th>\n",
       "      <td>2.970</td>\n",
       "      <td>4.0</td>\n",
       "      <td>1.82</td>\n",
       "      <td>251.989</td>\n",
       "    </tr>\n",
       "    <tr>\n",
       "      <th>90</th>\n",
       "      <td>2.928</td>\n",
       "      <td>3.8</td>\n",
       "      <td>1.91</td>\n",
       "      <td>252.006</td>\n",
       "    </tr>\n",
       "    <tr>\n",
       "      <th>9</th>\n",
       "      <td>3.506</td>\n",
       "      <td>8.8</td>\n",
       "      <td>0.07</td>\n",
       "      <td>226.421</td>\n",
       "    </tr>\n",
       "  </tbody>\n",
       "</table>\n",
       "</div>"
      ],
      "text/plain": [
       "    PRICE_PER_GALLON  UNEMPLOYMENT_RATE  INTEREST_RATES  INFLATION\n",
       "15             3.958                8.2            0.14    230.085\n",
       "44             3.484                5.9            0.09    238.031\n",
       "89             2.970                4.0            1.82    251.989\n",
       "90             2.928                3.8            1.91    252.006\n",
       "9              3.506                8.8            0.07    226.421"
      ]
     },
     "execution_count": 108,
     "metadata": {},
     "output_type": "execute_result"
    }
   ],
   "source": [
    "# Train and test\n",
    "X1_train, X1_test, y1_train, y1_test = train_test_split(X1, y1, random_state=42)\n",
    "X1_train.head()"
   ]
  },
  {
   "cell_type": "markdown",
   "id": "51e06ead",
   "metadata": {},
   "source": [
    "### Performing the Multiple Linear Regression"
   ]
  },
  {
   "cell_type": "code",
   "execution_count": 109,
   "id": "e524c677",
   "metadata": {
    "scrolled": true
   },
   "outputs": [
    {
     "name": "stdout",
     "output_type": "stream",
     "text": [
      "Intercept: [-22.44082866]\n",
      "Coefficients: [[-28.84850084   3.01914595   6.15355985   2.52053145]]\n"
     ]
    }
   ],
   "source": [
    "# Model \n",
    "model = LinearRegression()\n",
    "\n",
    "#Fit the model \n",
    "model.fit(X1_train, y1_train)\n",
    "print(f\"Intercept: {model.intercept_}\")\n",
    "Coeff = model.coef_\n",
    "print(f\"Coefficients: {Coeff}\")\n",
    "\n",
    "predictions = model.predict(X1_test)\n"
   ]
  },
  {
   "cell_type": "code",
   "execution_count": 110,
   "id": "8e9f1128",
   "metadata": {},
   "outputs": [
    {
     "name": "stdout",
     "output_type": "stream",
     "text": [
      "Mean Absolute Error (MAE):   10.42\n",
      "Mean Squared Error (MSE):   169.21\n",
      "Root Mean Squared Error (RMSE):  13.01\n",
      "Root Mean Squared Log Error (RMSLE): 2.57\n",
      "R Squared (R2):  0.88\n",
      "adjusted R Squared (adj R2):   0.86\n"
     ]
    }
   ],
   "source": [
    "# Model Evaluation with RMSE, R2 and adjusted R2\n",
    "MAE = round(mean_absolute_error(y1_test, predictions), 2)\n",
    "print(\"Mean Absolute Error (MAE):  \", MAE)\n",
    "\n",
    "MSE = round(mean_squared_error(y1_test,predictions), 2)\n",
    "print(\"Mean Squared Error (MSE):  \", MSE)\n",
    "\n",
    "RMSE = round(np.sqrt(mean_squared_error(y1_test,predictions)), 2)\n",
    "print(\"Root Mean Squared Error (RMSE): \", RMSE)\n",
    "\n",
    "RMSLE = round(np.log(np.sqrt(mean_squared_error(y1_test,predictions))), 2)\n",
    "print(\"Root Mean Squared Log Error (RMSLE):\", RMSLE)\n",
    "\n",
    "R2 = round(model.score(X1_test, y1_test), 2)\n",
    "print(\"R Squared (R2): \", R2)\n",
    "\n",
    "adj_R2 = round(1 - (1-model.score(X1_test, y1_test))*(len(y1_test)-1)/(len(y1_test)-X1_test.shape[1]-1), 2)\n",
    "print(\"adjusted R Squared (adj R2):  \", adj_R2)"
   ]
  },
  {
   "cell_type": "code",
   "execution_count": 111,
   "id": "6f36bf6b",
   "metadata": {},
   "outputs": [
    {
     "name": "stdout",
     "output_type": "stream",
     "text": [
      "Predicted Housing Price: \n",
      " $ 750321.39\n"
     ]
    }
   ],
   "source": [
    "# To predict data \n",
    "# prediction with sklearn\n",
    "\n",
    "NEW_PRICE_PER_GALLON = 6.69\n",
    "NEW_UNEMPLOYMENT_RATE = 13.5\n",
    "NEW_INTEREST_RATES = 4.5\n",
    "NEW_INFLATION = 356\n",
    "Predicted_HP = (1000*model.predict([[NEW_PRICE_PER_GALLON, NEW_UNEMPLOYMENT_RATE, \n",
    "                                           NEW_INTEREST_RATES, NEW_INFLATION ]]))\n",
    "print('Predicted Housing Price: \\n $', round(Predicted_HP[0][0], 2))"
   ]
  },
  {
   "cell_type": "code",
   "execution_count": 112,
   "id": "dfc7bcb1",
   "metadata": {},
   "outputs": [
    {
     "data": {
      "text/html": [
       "<div>\n",
       "<style scoped>\n",
       "    .dataframe tbody tr th:only-of-type {\n",
       "        vertical-align: middle;\n",
       "    }\n",
       "\n",
       "    .dataframe tbody tr th {\n",
       "        vertical-align: top;\n",
       "    }\n",
       "\n",
       "    .dataframe thead th {\n",
       "        text-align: right;\n",
       "    }\n",
       "</style>\n",
       "<table border=\"1\" class=\"dataframe\">\n",
       "  <thead>\n",
       "    <tr style=\"text-align: right;\">\n",
       "      <th></th>\n",
       "      <th>INTERCEPT</th>\n",
       "      <th>Coefficient_1</th>\n",
       "      <th>Coefficient_2</th>\n",
       "      <th>Coefficient_3</th>\n",
       "      <th>Coefficient_4</th>\n",
       "      <th>MSE</th>\n",
       "      <th>RMSE</th>\n",
       "      <th>R2</th>\n",
       "      <th>ADJ R2</th>\n",
       "    </tr>\n",
       "  </thead>\n",
       "  <tbody>\n",
       "    <tr>\n",
       "      <th>10001</th>\n",
       "      <td>-22.440829</td>\n",
       "      <td>-28.848501</td>\n",
       "      <td>3.019146</td>\n",
       "      <td>6.15356</td>\n",
       "      <td>2.520531</td>\n",
       "      <td>169.21</td>\n",
       "      <td>13.01</td>\n",
       "      <td>0.88</td>\n",
       "      <td>0.86</td>\n",
       "    </tr>\n",
       "  </tbody>\n",
       "</table>\n",
       "</div>"
      ],
      "text/plain": [
       "       INTERCEPT  Coefficient_1  Coefficient_2  Coefficient_3  Coefficient_4  \\\n",
       "10001 -22.440829     -28.848501       3.019146        6.15356       2.520531   \n",
       "\n",
       "          MSE   RMSE    R2  ADJ R2  \n",
       "10001  169.21  13.01  0.88    0.86  "
      ]
     },
     "execution_count": 112,
     "metadata": {},
     "output_type": "execute_result"
    }
   ],
   "source": [
    "# Create DataFrame with required values for each region\n",
    "# assign data of lists.  \n",
    "data = {'INTERCEPT': model.intercept_, 'Coefficient_1': Coeff[0][0], 'Coefficient_2': Coeff[0][1], \n",
    "        'Coefficient_3': Coeff[0][2], 'Coefficient_4': Coeff[0][3], 'MSE':[MSE], 'RMSE':[RMSE], \n",
    "        'R2': [R2], 'ADJ R2': [adj_R2]}  \n",
    "  \n",
    "# Creates pandas DataFrame.  \n",
    "model_output_df = pd.DataFrame(data, index =[region])  \n",
    "  \n",
    "# Check output dataframe  \n",
    "model_output_df  "
   ]
  },
  {
   "cell_type": "markdown",
   "id": "aab74223",
   "metadata": {},
   "source": [
    "### We will use statsmodel to generate comprehensive table with statistical info about our model"
   ]
  },
  {
   "cell_type": "code",
   "execution_count": 113,
   "id": "46a93aa1",
   "metadata": {},
   "outputs": [
    {
     "name": "stdout",
     "output_type": "stream",
     "text": [
      "                            OLS Regression Results                            \n",
      "==============================================================================\n",
      "Dep. Variable:                      y   R-squared:                       0.951\n",
      "Model:                            OLS   Adj. R-squared:                  0.949\n",
      "Method:                 Least Squares   F-statistic:                     379.6\n",
      "Date:                Thu, 31 Mar 2022   Prob (F-statistic):           2.83e-50\n",
      "Time:                        15:19:42   Log-Likelihood:                -291.90\n",
      "No. Observations:                  83   AIC:                             593.8\n",
      "Df Residuals:                      78   BIC:                             605.9\n",
      "Df Model:                           4                                         \n",
      "Covariance Type:            nonrobust                                         \n",
      "=====================================================================================\n",
      "                        coef    std err          t      P>|t|      [0.025      0.975]\n",
      "-------------------------------------------------------------------------------------\n",
      "const               -22.4408    105.075     -0.214      0.831    -231.629     186.747\n",
      "PRICE_PER_GALLON    -28.8485      3.341     -8.634      0.000     -35.501     -22.196\n",
      "UNEMPLOYMENT_RATE     3.0191      2.339      1.291      0.201      -1.637       7.675\n",
      "INTEREST_RATES        6.1536      2.543      2.420      0.018       1.091      11.216\n",
      "INFLATION             2.5205      0.416      6.063      0.000       1.693       3.348\n",
      "==============================================================================\n",
      "Omnibus:                        2.799   Durbin-Watson:                   1.789\n",
      "Prob(Omnibus):                  0.247   Jarque-Bera (JB):                2.579\n",
      "Skew:                           0.048   Prob(JB):                        0.275\n",
      "Kurtosis:                       3.858   Cond. No.                     2.74e+04\n",
      "==============================================================================\n",
      "\n",
      "Notes:\n",
      "[1] Standard Errors assume that the covariance matrix of the errors is correctly specified.\n",
      "[2] The condition number is large, 2.74e+04. This might indicate that there are\n",
      "strong multicollinearity or other numerical problems.\n"
     ]
    }
   ],
   "source": [
    "# Statistical info with statsmodels\n",
    "X1_train = sm.add_constant(X1_train) # adding a constant\n",
    " \n",
    "model_2 = sm.OLS(y1_train, X1_train).fit()\n",
    "  \n",
    "print_model = model_2.summary()\n",
    "print(print_model)"
   ]
  },
  {
   "cell_type": "markdown",
   "id": "68d09fc0",
   "metadata": {},
   "source": [
    "Notice that the coefficients captured in this table match with the coefficients generated by sklearn."
   ]
  },
  {
   "cell_type": "code",
   "execution_count": 114,
   "id": "d6735cd5",
   "metadata": {},
   "outputs": [
    {
     "data": {
      "text/plain": [
       "0.9486301489454708"
      ]
     },
     "execution_count": 114,
     "metadata": {},
     "output_type": "execute_result"
    }
   ],
   "source": [
    "# The Adjusted-r-squared of the multiple linear regression model \n",
    "model_2.rsquared_adj"
   ]
  },
  {
   "cell_type": "markdown",
   "id": "526067d0",
   "metadata": {},
   "source": [
    "## Graphical User Interface (GUI) \n",
    "Now creating a GUI that will allow users to input the independent variables in order to get the predicted result.\n",
    "Tkinter is the standard GUI library for Python. Python when combined with Tkinter provides a fast and easy way to create GUI applications. Tkinter provides a powerful object-oriented interface to the Tk GUI toolkit."
   ]
  },
  {
   "cell_type": "code",
   "execution_count": 63,
   "id": "3f8f937f",
   "metadata": {
    "scrolled": true
   },
   "outputs": [],
   "source": [
    "#from tkinter import ttk\n",
    "# tkinter GUI\n",
    "root= tk.Tk()\n",
    "\n",
    "# The Canvas widget is used to draw shapes (such as a rectangle) in our application\n",
    "canvas1 = tk.Canvas(root, width = 500, height = 300)\n",
    "# The pack() method organizes widgets in blocks before placing them in the parent widget.\n",
    "canvas1.pack()\n",
    "\n",
    "# Adding Intercept label to the GUI (with sklearn)\n",
    "Intercept_result = ('Intercept: ', model.intercept_)\n",
    "label_Intercept = tk.Label(root, text=Intercept_result, justify = 'center')\n",
    "canvas1.create_window(260, 220, window=label_Intercept)\n",
    "\n",
    "# Adding Coefficient label to the GUI (with sklearn)\n",
    "Coefficients_result  = ('Coefficients: ', model.coef_)\n",
    "label_Coefficients = tk.Label(root, text=Coefficients_result, justify = 'center')\n",
    "canvas1.create_window(260, 240, window=label_Coefficients)\n",
    "\n",
    "\n",
    "# Creating label for a new gas price and asking for user input as an entry in box 1\n",
    "label1 = tk.Label(root, text='Type Gas Price: ')\n",
    "canvas1.create_window(100, 60, window=label1)\n",
    "\n",
    "entry1 = tk.Entry(root) # create 1st entry box\n",
    "canvas1.create_window(300, 60, window=entry1)\n",
    "\n",
    "# Creating label for a new unemployment rate and asking for user input as an entry in box 2\n",
    "label2 = tk.Label(root, text='Type Unemployment Rate: ')\n",
    "canvas1.create_window(100, 80, window=label2)\n",
    "\n",
    "entry2 = tk.Entry (root) # create 2nd entry box\n",
    "canvas1.create_window(300, 80, window=entry2)\n",
    "\n",
    "# # Creating label for a new interest rate and asking for user input as an entry in box 3\n",
    "label3 = tk.Label(root, text='Type Interest Rate: ')\n",
    "canvas1.create_window(100, 100, window=label3)\n",
    "\n",
    "entry3 = tk.Entry(root) # create 3rd entry box\n",
    "canvas1.create_window(300, 100, window=entry3)\n",
    "\n",
    "# # Creating label for a new CPI and asking for user input as an entry in box 4\n",
    "label4 = tk.Label(root, text='Type Inflation: ')\n",
    "canvas1.create_window(100, 120, window=label4)\n",
    "\n",
    "entry4 = tk.Entry(root) # create 4th entry box\n",
    "canvas1.create_window(300, 120, window=entry4)\n",
    "\n",
    "# Creating a function to be used as a command with button widget\n",
    "def values(): \n",
    "    global New_Gas_Price #our 1st input variable\n",
    "    New_Gas_Price = (entry1.get()) \n",
    "    \n",
    "    global New_Unemployment_Rate #our 2nd input variable\n",
    "    New_Unemployment_Rate = (entry2.get()) \n",
    "    \n",
    "    global New_Interest_Rate #our 3rd input variable\n",
    "    New_Interest_Rate = (entry3.get()) \n",
    "    \n",
    "    global New_Inflation #our 4th input variable\n",
    "    New_Inflation = (entry4.get()) \n",
    "    \n",
    "    Prediction_result  = ('Housing Price: ', 1000*(model.predict([[New_Gas_Price,New_Unemployment_Rate, \n",
    "                                                             New_Interest_Rate, New_Inflation]])))\n",
    "    label_Prediction = tk.Label(root, text= Prediction_result, bg='orange')\n",
    "    canvas1.create_window(260, 280, window=label_Prediction)\n",
    "\n",
    "# button to call the 'values' command above \n",
    "button1 = tk.Button (root, text='Predict Housing Price', command=values, bg='blue') \n",
    "canvas1.create_window(300, 150, window=button1)\n",
    "\n",
    "# The following code will embed individual plots of each feature vs target variable (pack within the parent widget)\n",
    "#plot 1st scatter \n",
    "figure1 = plt.Figure(figsize=(5,4), dpi=100)\n",
    "ax1 = figure1.add_subplot(111)\n",
    "ax1.scatter(df['PRICE_PER_GALLON'].astype(float),df[region].astype(float), color = 'r')\n",
    "scatter1 = FigureCanvasTkAgg(figure1, root) \n",
    "scatter1.get_tk_widget().pack(side=tk.RIGHT, fill=tk.BOTH)\n",
    "ax1.legend([\"Region\"]) \n",
    "ax1.set_xlabel('Gas Price')\n",
    "ax1.set_title('Gas Price Vs. Housing Price')\n",
    "\n",
    "#plot 2nd scatter \n",
    "figure2 = plt.Figure(figsize=(5,4), dpi=100)\n",
    "ax2 = figure2.add_subplot(111)\n",
    "ax2.scatter(df['UNEMPLOYMENT_RATE'].astype(float),df[region].astype(float), color = 'g')\n",
    "scatter2 = FigureCanvasTkAgg(figure2, root) \n",
    "scatter2.get_tk_widget().pack(side=tk.RIGHT, fill=tk.BOTH)\n",
    "ax2.legend([\"Region\"]) \n",
    "ax2.set_xlabel('Unemployment Rate')\n",
    "ax2.set_title('Unemployment Rate Vs. Housing Price')\n",
    "\n",
    "#plot 3rd scatter \n",
    "figure3 = plt.Figure(figsize=(5,4), dpi=100)\n",
    "ax3 = figure3.add_subplot(111)\n",
    "ax3.scatter(df['INTEREST_RATES'].astype(float),df[region].astype(float), color = 'b')\n",
    "scatter3 = FigureCanvasTkAgg(figure3, root) \n",
    "scatter3.get_tk_widget().pack(side=tk.RIGHT, fill=tk.BOTH)\n",
    "ax3.legend(['Region']) \n",
    "ax3.set_xlabel('Interest Rate')\n",
    "ax3.set_title('Interest Rate Vs. Housing Price')\n",
    "\n",
    "#plot 4th scatter \n",
    "figure4 = plt.Figure(figsize=(5,4), dpi=100)\n",
    "ax4 = figure4.add_subplot(111)\n",
    "ax4.scatter(df['INFLATION'].astype(float),df[region].astype(float), color = 'g')\n",
    "scatter4 = FigureCanvasTkAgg(figure4, root) \n",
    "scatter4.get_tk_widget().pack(side=tk.RIGHT, fill=tk.BOTH)\n",
    "ax4.legend([\"Region\"]) \n",
    "ax4.set_xlabel('Inflation')\n",
    "ax4.set_title('Inflation (CPI) Vs. Housing Price')\n",
    "\n",
    "root.mainloop()"
   ]
  },
  {
   "cell_type": "markdown",
   "id": "7361dee1",
   "metadata": {},
   "source": [
    "Once you run the code, you’ll see this GUI, which includes the output generated by sklearn and the scatter diagrams for the selected Zipcode."
   ]
  },
  {
   "cell_type": "markdown",
   "id": "95ff01cc",
   "metadata": {},
   "source": [
    "## Random Forest Regressor Model\n",
    "The second model we are applying to our dataset is Random Forest(RF) Regression. This is a process that operates among multiple decision trees to get the optimum result by choosing the majority among them as the best value.\n",
    "\n",
    "#### Advantages of Using RF\n",
    "Since it works on multiple decision trees there is a chance of less over-fitting.<br/>\n",
    "Greater Accuracy: Since it runs on a larger data set, the accuracy is higher.<br/>\n",
    "Estimate Missing data: Since it runs on a larger data set, you can estimate the missing values as well."
   ]
  },
  {
   "cell_type": "code",
   "execution_count": 115,
   "id": "1e920b84",
   "metadata": {},
   "outputs": [],
   "source": [
    "# importing dependencies for Random Forest Model\n",
    "from sklearn.ensemble import RandomForestRegressor"
   ]
  },
  {
   "cell_type": "code",
   "execution_count": 116,
   "id": "2e04b7d6",
   "metadata": {},
   "outputs": [],
   "source": [
    "# Define the features and the target from the original dataframe\n",
    "X2 = df.copy()\n",
    "X2 = X2[[\"PRICE_PER_GALLON\", \"UNEMPLOYMENT_RATE\", \"AVG_MORTGAGE_RATE\", \"INTEREST_RATES\", \"INFLATION\"]]\n",
    "\n",
    "y2 = (df[region]/1000).values"
   ]
  },
  {
   "cell_type": "code",
   "execution_count": 117,
   "id": "b4cdb985",
   "metadata": {},
   "outputs": [
    {
     "name": "stdout",
     "output_type": "stream",
     "text": [
      "(111, 5)\n",
      "(111,)\n"
     ]
    }
   ],
   "source": [
    "print(X2.shape)\n",
    "print(y2.shape)"
   ]
  },
  {
   "cell_type": "markdown",
   "id": "da343cef",
   "metadata": {},
   "source": [
    "To train the tree, we will use the Random Forest class and call it with the fit method. We will have a random forest with 1000 decision trees."
   ]
  },
  {
   "cell_type": "code",
   "execution_count": 118,
   "id": "9b86772d",
   "metadata": {},
   "outputs": [],
   "source": [
    "# Split the data into training and testing set\n",
    "X2_train, X2_test, y2_train, y2_test = train_test_split(X2, y2, random_state=42)"
   ]
  },
  {
   "cell_type": "code",
   "execution_count": 119,
   "id": "e16e2189",
   "metadata": {},
   "outputs": [
    {
     "data": {
      "text/plain": [
       "RandomForestRegressor(n_estimators=1000, random_state=42)"
      ]
     },
     "execution_count": 119,
     "metadata": {},
     "output_type": "execute_result"
    }
   ],
   "source": [
    "# Create Random Forest Regression Model \n",
    "modelRF = RandomForestRegressor(n_estimators = 1000, random_state = 42)\n",
    "\n",
    "# Fit the model \n",
    "modelRF.fit(X2_train, y2_train)"
   ]
  },
  {
   "cell_type": "markdown",
   "id": "b82fcb7e",
   "metadata": {},
   "source": [
    "Now using the model to predict the housing price:"
   ]
  },
  {
   "cell_type": "code",
   "execution_count": 120,
   "id": "6747b8e4",
   "metadata": {},
   "outputs": [],
   "source": [
    "# Prediction\n",
    "prediction2 = modelRF.predict(X2_test)"
   ]
  },
  {
   "cell_type": "markdown",
   "id": "dc396f17",
   "metadata": {},
   "source": [
    "To check the difference between actual and predicted housing prices:"
   ]
  },
  {
   "cell_type": "code",
   "execution_count": 121,
   "id": "d88aa362",
   "metadata": {},
   "outputs": [
    {
     "data": {
      "text/html": [
       "<div>\n",
       "<style scoped>\n",
       "    .dataframe tbody tr th:only-of-type {\n",
       "        vertical-align: middle;\n",
       "    }\n",
       "\n",
       "    .dataframe tbody tr th {\n",
       "        vertical-align: top;\n",
       "    }\n",
       "\n",
       "    .dataframe thead th {\n",
       "        text-align: right;\n",
       "    }\n",
       "</style>\n",
       "<table border=\"1\" class=\"dataframe\">\n",
       "  <thead>\n",
       "    <tr style=\"text-align: right;\">\n",
       "      <th></th>\n",
       "      <th>Actual</th>\n",
       "      <th>Predicted</th>\n",
       "    </tr>\n",
       "  </thead>\n",
       "  <tbody>\n",
       "    <tr>\n",
       "      <th>0</th>\n",
       "      <td>556.5</td>\n",
       "      <td>541.4318</td>\n",
       "    </tr>\n",
       "    <tr>\n",
       "      <th>1</th>\n",
       "      <td>457.0</td>\n",
       "      <td>468.8386</td>\n",
       "    </tr>\n",
       "    <tr>\n",
       "      <th>2</th>\n",
       "      <td>471.3</td>\n",
       "      <td>462.5822</td>\n",
       "    </tr>\n",
       "    <tr>\n",
       "      <th>3</th>\n",
       "      <td>555.0</td>\n",
       "      <td>552.3795</td>\n",
       "    </tr>\n",
       "    <tr>\n",
       "      <th>4</th>\n",
       "      <td>538.8</td>\n",
       "      <td>534.5556</td>\n",
       "    </tr>\n",
       "  </tbody>\n",
       "</table>\n",
       "</div>"
      ],
      "text/plain": [
       "   Actual  Predicted\n",
       "0   556.5   541.4318\n",
       "1   457.0   468.8386\n",
       "2   471.3   462.5822\n",
       "3   555.0   552.3795\n",
       "4   538.8   534.5556"
      ]
     },
     "execution_count": 121,
     "metadata": {},
     "output_type": "execute_result"
    }
   ],
   "source": [
    "# Check the difference between actual and predicted values\n",
    "modelRF_df =pd.DataFrame({'Actual':y2_test, 'Predicted':prediction2})\n",
    "modelRF_df.head()"
   ]
  },
  {
   "cell_type": "markdown",
   "id": "0b4c2729",
   "metadata": {},
   "source": [
    "Evaluation Error for Random Forest Regression Model"
   ]
  },
  {
   "cell_type": "code",
   "execution_count": 122,
   "id": "ab03951c",
   "metadata": {},
   "outputs": [
    {
     "name": "stdout",
     "output_type": "stream",
     "text": [
      "Mean Absolute Error (MAE): 8.8\n",
      "Mean Squared Error (MSE): 110.79\n",
      "Root Mean Squared Error (RMSE): 10.53\n"
     ]
    }
   ],
   "source": [
    "# Evaluate MAE, MSE, RMSE error for the model \n",
    "from sklearn import metrics\n",
    "print('Mean Absolute Error (MAE):', round(metrics.mean_absolute_error(y2_test, prediction2),2))\n",
    "print('Mean Squared Error (MSE):', round(metrics.mean_squared_error(y2_test, prediction2),2))\n",
    "print('Root Mean Squared Error (RMSE):', round(np.sqrt(metrics.mean_squared_error(y2_test, prediction2)),2))"
   ]
  },
  {
   "cell_type": "markdown",
   "id": "f4beab10",
   "metadata": {},
   "source": [
    "Checking the accuracy of our prediction"
   ]
  },
  {
   "cell_type": "code",
   "execution_count": 123,
   "id": "e1ea50f0",
   "metadata": {},
   "outputs": [
    {
     "name": "stdout",
     "output_type": "stream",
     "text": [
      "Mean Absolute Error: 8.8 degrees.\n",
      "Accuracy: 98.22 %.\n"
     ]
    }
   ],
   "source": [
    "# Calculate the absolute errors\n",
    "errors = abs(prediction2 - y2_test)\n",
    "\n",
    "# Print out the mean absolute error (mae)\n",
    "print('Mean Absolute Error:', round(np.mean(errors), 2), 'degrees.')\n",
    "\n",
    "# Calculate mean absolute percentage error (MAPE)\n",
    "mape = 100 * (errors / y2_test)\n",
    "\n",
    "# Calculate and display accuracy\n",
    "accuracy = 100 - np.mean(mape)\n",
    "print('Accuracy:', round(accuracy, 2), '%.')"
   ]
  },
  {
   "cell_type": "markdown",
   "id": "74998b03",
   "metadata": {},
   "source": [
    "#### Plotting the difference between the actual and the predicted value."
   ]
  },
  {
   "cell_type": "code",
   "execution_count": 124,
   "id": "8bfd4cce",
   "metadata": {},
   "outputs": [
    {
     "data": {
      "image/png": "[encoded data removed]",
      "text/plain": [
       "<Figure size 360x504 with 1 Axes>"
      ]
     },
     "metadata": {
      "needs_background": "light"
     },
     "output_type": "display_data"
    }
   ],
   "source": [
    "# Plot to visualize the difference between actual and predicted value \n",
    "import seaborn as sns\n",
    "plt.figure(figsize=(5, 7))\n",
    "\n",
    "ax = sns.distplot(y2_test, hist=False, color=\"r\", label=\"Actual Value\")\n",
    "sns.distplot(prediction2, hist=False, color=\"b\", label=\"Fitted Values\" , ax=ax)\n",
    "\n",
    "plt.title('Actual vs Fitted Values for Price')\n",
    "\n",
    "plt.show()\n",
    "plt.close()"
   ]
  },
  {
   "cell_type": "code",
   "execution_count": 125,
   "id": "e4729408",
   "metadata": {},
   "outputs": [
    {
     "name": "stdout",
     "output_type": "stream",
     "text": [
      "Predicted Housing Price: \n",
      " $ 471273.0\n"
     ]
    }
   ],
   "source": [
    "# To predict data \n",
    "# prediction with sklearn\n",
    "\n",
    "NEW_PRICE_PER_GALLON = 6.69\n",
    "NEW_UNEMPLOYMENT_RATE = 13.5\n",
    "NEW_MORTGAGE_RATE = 5.4\n",
    "NEW_INTEREST_RATES = 4.5\n",
    "NEW_INFLATION = 356\n",
    "Predicted_HP2 = (1000*modelRF.predict([[NEW_PRICE_PER_GALLON, NEW_UNEMPLOYMENT_RATE, NEW_MORTGAGE_RATE,  \n",
    "                                           NEW_INTEREST_RATES, NEW_INFLATION]]))\n",
    "print('Predicted Housing Price: \\n $', round(float(Predicted_HP2),2))"
   ]
  },
  {
   "cell_type": "markdown",
   "id": "4bea9380",
   "metadata": {},
   "source": [
    "### Compare the prediction values from both Multiple Linear Regression and Random Forest Model "
   ]
  },
  {
   "cell_type": "code",
   "execution_count": 126,
   "id": "5fde1b9a",
   "metadata": {},
   "outputs": [],
   "source": [
    "# Change the previous Multiple Linear Regression model prediction into 1-D array\n",
    "predictions = list(np.ravel(predictions))"
   ]
  },
  {
   "cell_type": "code",
   "execution_count": 127,
   "id": "72660753",
   "metadata": {},
   "outputs": [
    {
     "data": {
      "text/html": [
       "<div>\n",
       "<style scoped>\n",
       "    .dataframe tbody tr th:only-of-type {\n",
       "        vertical-align: middle;\n",
       "    }\n",
       "\n",
       "    .dataframe tbody tr th {\n",
       "        vertical-align: top;\n",
       "    }\n",
       "\n",
       "    .dataframe thead th {\n",
       "        text-align: right;\n",
       "    }\n",
       "</style>\n",
       "<table border=\"1\" class=\"dataframe\">\n",
       "  <thead>\n",
       "    <tr style=\"text-align: right;\">\n",
       "      <th></th>\n",
       "      <th>LinearRegression</th>\n",
       "      <th>RF_Regression</th>\n",
       "    </tr>\n",
       "  </thead>\n",
       "  <tbody>\n",
       "    <tr>\n",
       "      <th>0</th>\n",
       "      <td>544.968623</td>\n",
       "      <td>541.4318</td>\n",
       "    </tr>\n",
       "    <tr>\n",
       "      <th>1</th>\n",
       "      <td>474.910552</td>\n",
       "      <td>468.8386</td>\n",
       "    </tr>\n",
       "    <tr>\n",
       "      <th>2</th>\n",
       "      <td>460.594610</td>\n",
       "      <td>462.5822</td>\n",
       "    </tr>\n",
       "    <tr>\n",
       "      <th>3</th>\n",
       "      <td>546.014497</td>\n",
       "      <td>552.3795</td>\n",
       "    </tr>\n",
       "    <tr>\n",
       "      <th>4</th>\n",
       "      <td>531.432843</td>\n",
       "      <td>534.5556</td>\n",
       "    </tr>\n",
       "  </tbody>\n",
       "</table>\n",
       "</div>"
      ],
      "text/plain": [
       "   LinearRegression  RF_Regression\n",
       "0        544.968623       541.4318\n",
       "1        474.910552       468.8386\n",
       "2        460.594610       462.5822\n",
       "3        546.014497       552.3795\n",
       "4        531.432843       534.5556"
      ]
     },
     "execution_count": 127,
     "metadata": {},
     "output_type": "execute_result"
    }
   ],
   "source": [
    "# Collect all the predictions values in DataFrame\n",
    "pred_df = pd.DataFrame({\"LinearRegression\": predictions, \"RF_Regression\": prediction2})\n",
    "pred_df.head()"
   ]
  },
  {
   "cell_type": "markdown",
   "id": "ba159d5c",
   "metadata": {},
   "source": [
    "### Disadvanatge of Random Forest Regression over Multiple Linear Regression\n",
    "Above comparison shows that the predicted values from the two models are comparable.\n",
    "Random Forest Regression is quite a robust algorithm, however, the question is should you use it for regression?\n",
    "\n",
    "Why not use linear regression instead?  The function in a Linear Regression can easily be written as y=mx + c while a function in a complex Random Forest Regression seems like a black box that can’t easily be represented as a function. \n",
    "\n",
    "Generally, Random Forests produce better results, work well on large datasets, and are able to work with missing data by creating estimates for them. \n",
    "\n",
    "However, they pose a major challenge that is that they can’t extrapolate outside unseen data. Random Forest cannot extrapolate and the predicted values are never outside the training set values for the target variable.\n",
    "\n",
    "This is clear from the fact that when we try to predict housing price for zipcode 10001 using new inputs, the MLR model predicts a housing price of \\\\$ 596,503 which is greater than the maximum of dataset (\\\\$575,100) whereas the RF model predicts a housing price of \\\\$ 471,273 which is significantly less than the dataset maximum."
   ]
  },
  {
   "cell_type": "markdown",
   "id": "471d9710",
   "metadata": {},
   "source": [
    "## Deep Learning Model \n",
    "For our third maching learning model, we are using Neural Network deep learning."
   ]
  },
  {
   "cell_type": "markdown",
   "id": "07c886df",
   "metadata": {},
   "source": [
    "#### Feature Selection\n",
    "\n",
    "In our dataset, we have 5 input features (Gas Prices, Mortgage rates, Interest rates, Inflation and Unemployment rates) for our model. We are trying to build the neural network model that has ability to recognize patterns then, based on data observed in the past, predict future outcomes."
   ]
  },
  {
   "cell_type": "code",
   "execution_count": null,
   "id": "42251a63",
   "metadata": {},
   "outputs": [],
   "source": [
    "# Define the features and the target from the original dataframe\n",
    "X3 = df.copy()\n",
    "X3 = X3[[\"PRICE_PER_GALLON\", \"UNEMPLOYMENT_RATE\", \"AVG_MORTGAGE_RATE\", \"INTEREST_RATES\", \"INFLATION\"]]\n",
    "\n",
    "y3 = (df[region]).values.reshape(-1,1)"
   ]
  },
  {
   "cell_type": "markdown",
   "id": "9b9da10a",
   "metadata": {},
   "source": [
    "### Splitting data into Training and Testing Sets\n",
    "For training and testing purposes for our model, we used Python Scikitlearn's train_test_split function. We should have our data broken down into two datasets for each X (input features) and y (target variable). "
   ]
  },
  {
   "cell_type": "code",
   "execution_count": null,
   "id": "c614a774",
   "metadata": {},
   "outputs": [],
   "source": [
    "# Split the data into training and testing set\n",
    "X3_train, X3_test, y3_train, y3_test = train_test_split(X3, y3, random_state=42)"
   ]
  },
  {
   "cell_type": "markdown",
   "id": "15ac6a38",
   "metadata": {},
   "source": [
    "### Scaling the data\n",
    "Neural networks generally perform better when the real-valued input and output variables are to be \n",
    "scaled. For this, standardizing each of the input variables and the target variable is desirable.\n",
    "\n",
    "We use the StandardScaler from the scikit-learn library and scale all of the data together before \n",
    "splitting into train and test sets."
   ]
  },
  {
   "cell_type": "code",
   "execution_count": null,
   "id": "27a4ea65",
   "metadata": {},
   "outputs": [],
   "source": [
    "# Standardize the data\n",
    "scaler = StandardScaler()\n",
    "\n",
    "# Fit the model \n",
    "X_scaled = scaler.fit(X3_train)\n",
    "\n",
    "# Scale the model \n",
    "X_train_scaled = X_scaled.transform(X3_train)\n",
    "X_test_scaled = X_scaled.transform(X3_test)"
   ]
  },
  {
   "cell_type": "markdown",
   "id": "8842cc1f",
   "metadata": {},
   "source": [
    "### Neural Network Model Building \n",
    "\n",
    "We will develop a Neural Network model for the dataset using TensorFlow.\n",
    "Given that the dataset is small, we can do this by using a simple train/test split of the data and\n",
    "review the loss values and accuracy score of the model learning curves. \n",
    "This will help us see if we are over-learning or under-learning; then we can adapt the configuration\n",
    "accordingly.\n",
    "\n",
    "Our Neural Network model has 5 features as input as defined by the problem. The model will have one hidden \n",
    "layer with 10 nodes and will use the rectified linear activation function (ReLU). The output layer\n",
    "will have 1 node, given the one real-value to be predicted, and will use the sigmoid activation \n",
    "function."
   ]
  },
  {
   "cell_type": "markdown",
   "id": "e8728acc",
   "metadata": {},
   "source": [
    "### Regression Loss Function\n",
    "\n",
    "In this section, we will investigate loss functions that are appropriate for regression predictive modeling problems.\n",
    "\n",
    "We first calculate the natural logarithm of each of the predicted values, then calculate the mean squared logarithmic error. The model can be updated to use the ‘mean_squared_logarithmic_error‘ loss function and keep the same configuration for the output layer. We will also track the mean squared error as a metric when fitting the model so that we can use it as a measure of performance and plot the learning curve."
   ]
  },
  {
   "cell_type": "code",
   "execution_count": null,
   "id": "8572653c",
   "metadata": {},
   "outputs": [],
   "source": [
    "# Import tensorflow dependencies\n",
    "import tensorflow as tf\n",
    "\n",
    "# Define the model - deep neural net\n",
    "number_input_features = len(X_train_scaled[0])\n",
    "hidden_nodes_layer1 = 10\n",
    "\n",
    "model_nn = tf.keras.models.Sequential()\n",
    "\n",
    "# First hidden layer\n",
    "model_nn.add(tf.keras.layers.Dense(units= hidden_nodes_layer1, input_dim = number_input_features, activation=\"relu\"))\n",
    "\n",
    "model_nn.add(tf.keras.layers.Dense(units= 1, activation=\"linear\"))\n",
    "\n",
    "# Compile the model \n",
    "model_nn.compile(loss=\"mean_squared_logarithmic_error\", optimizer=\"adam\", metrics=[\"mse\"])\n",
    "\n",
    "# Train the model \n",
    "fit_model = model_nn.fit(X_train_scaled, y3_train, epochs=1000)\n"
   ]
  },
  {
   "cell_type": "code",
   "execution_count": null,
   "id": "0d2453f3",
   "metadata": {},
   "outputs": [],
   "source": [
    "# Create a DataFrame containing training history\n",
    "history_df = pd.DataFrame(fit_model.history)\n",
    "\n",
    "# Increase the index by 1 to match the number of epochs\n",
    "history_df.index +=1\n",
    "\n",
    "# Plot the loss during training \n",
    "history_df.plot(y=\"loss\")\n",
    "plt.title('Loss')\n",
    "\n",
    "# Plot the mean squared error\n",
    "history_df.plot(y=\"mse\")\n",
    "plt.title(\"Mean Squared Error\")\n",
    "plt.show()"
   ]
  },
  {
   "cell_type": "code",
   "execution_count": null,
   "id": "937e30fd",
   "metadata": {},
   "outputs": [],
   "source": [
    "# summary of the model \n",
    "# Evaluate the model using the test data \n",
    "model_loss, model_accuracy = model_nn.evaluate(X_test_scaled, y3_test, verbose=2)\n",
    "print(f\"Loss: {model_loss}, Accuracy: {model_accuracy}\")"
   ]
  },
  {
   "cell_type": "markdown",
   "id": "11b0d5d0",
   "metadata": {},
   "source": [
    "### Summary of Neural Network ML model \n",
    "\n",
    "Based on the evaluation results, our deep learning model has the loss of 57.92 at 1000 epochs. We started at lower epochs at 50 but the loss value started very high (~130). It seems like our model needed more time to run in order to bring the losses down. For this project, we will stop the model at 1000 epochs. "
   ]
  },
  {
   "cell_type": "markdown",
   "id": "fe1d78de",
   "metadata": {},
   "source": [
    "# Conclusion "
   ]
  },
  {
   "cell_type": "markdown",
   "id": "a92836bb",
   "metadata": {},
   "source": [
    "From the three models that we tried in this project (Multiple Linear Regression, Random Forest Regression and Neural Network model), we concluded that Multiple Linear Regression model is the best fit for our dataset. \n",
    "\n",
    "A summary of our findings is provided in the README.md file. "
   ]
  },
  {
   "cell_type": "code",
   "execution_count": null,
   "id": "16fb94b1",
   "metadata": {},
   "outputs": [],
   "source": []
  }
 ],
 "metadata": {
  "kernelspec": {
   "display_name": "mlenv",
   "language": "python",
   "name": "mlenv"
  },
  "language_info": {
   "codemirror_mode": {
    "name": "ipython",
    "version": 3
   },
   "file_extension": ".py",
   "mimetype": "text/x-python",
   "name": "python",
   "nbconvert_exporter": "python",
   "pygments_lexer": "ipython3",
   "version": "3.9.7"
  }
 },
 "nbformat": 4,
 "nbformat_minor": 5
}
