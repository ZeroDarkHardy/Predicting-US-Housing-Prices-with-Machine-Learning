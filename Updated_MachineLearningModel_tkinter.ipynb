{
 "cells": [
  {
   "cell_type": "markdown",
   "id": "4bf8410d",
   "metadata": {},
   "source": [
    "## Final Project Week 1 - Machine Learning Model (NY data only)"
   ]
  },
  {
   "cell_type": "code",
   "execution_count": 1,
   "id": "fe8680af",
   "metadata": {},
   "outputs": [],
   "source": [
    "# Import denpendencies\n",
    "import pandas as pd\n",
    "import matplotlib.pyplot as plt\n",
    "import sklearn as skl\n",
    "from sklearn.model_selection import train_test_split\n",
    "from sklearn.linear_model import LinearRegression\n",
    "from sklearn.preprocessing import StandardScaler\n",
    "import numpy as np \n",
    "from sklearn.metrics import mean_squared_error, r2_score\n",
    "import tkinter as tk \n",
    "from matplotlib.backends.backend_tkagg import FigureCanvasTkAgg\n",
    "from sklearn import linear_model \n",
    "import statsmodels.api as sm"
   ]
  },
  {
   "cell_type": "code",
   "execution_count": 2,
   "id": "af510120",
   "metadata": {},
   "outputs": [
    {
     "data": {
      "text/html": [
       "<div>\n",
       "<style scoped>\n",
       "    .dataframe tbody tr th:only-of-type {\n",
       "        vertical-align: middle;\n",
       "    }\n",
       "\n",
       "    .dataframe tbody tr th {\n",
       "        vertical-align: top;\n",
       "    }\n",
       "\n",
       "    .dataframe thead th {\n",
       "        text-align: right;\n",
       "    }\n",
       "</style>\n",
       "<table border=\"1\" class=\"dataframe\">\n",
       "  <thead>\n",
       "    <tr style=\"text-align: right;\">\n",
       "      <th></th>\n",
       "      <th>DATE</th>\n",
       "      <th>INFLATION</th>\n",
       "      <th>GAS_PRICE</th>\n",
       "      <th>UNEMPLYMENT_RATES</th>\n",
       "      <th>MORTGAGTE_DATA</th>\n",
       "      <th>FEDERAL_FUND</th>\n",
       "      <th>NY</th>\n",
       "    </tr>\n",
       "  </thead>\n",
       "  <tbody>\n",
       "    <tr>\n",
       "      <th>0</th>\n",
       "      <td>1/1/2011</td>\n",
       "      <td>220.223</td>\n",
       "      <td>3.148</td>\n",
       "      <td>9.1</td>\n",
       "      <td>4.8</td>\n",
       "      <td>0.17</td>\n",
       "      <td>462700</td>\n",
       "    </tr>\n",
       "    <tr>\n",
       "      <th>1</th>\n",
       "      <td>2/1/2011</td>\n",
       "      <td>221.309</td>\n",
       "      <td>3.264</td>\n",
       "      <td>9.0</td>\n",
       "      <td>4.9</td>\n",
       "      <td>0.16</td>\n",
       "      <td>466200</td>\n",
       "    </tr>\n",
       "    <tr>\n",
       "      <th>2</th>\n",
       "      <td>3/1/2011</td>\n",
       "      <td>223.467</td>\n",
       "      <td>3.615</td>\n",
       "      <td>9.0</td>\n",
       "      <td>5.0</td>\n",
       "      <td>0.14</td>\n",
       "      <td>465600</td>\n",
       "    </tr>\n",
       "    <tr>\n",
       "      <th>3</th>\n",
       "      <td>4/1/2011</td>\n",
       "      <td>224.906</td>\n",
       "      <td>3.852</td>\n",
       "      <td>9.1</td>\n",
       "      <td>4.9</td>\n",
       "      <td>0.10</td>\n",
       "      <td>469500</td>\n",
       "    </tr>\n",
       "    <tr>\n",
       "      <th>4</th>\n",
       "      <td>5/1/2011</td>\n",
       "      <td>225.964</td>\n",
       "      <td>3.960</td>\n",
       "      <td>9.0</td>\n",
       "      <td>4.9</td>\n",
       "      <td>0.09</td>\n",
       "      <td>471300</td>\n",
       "    </tr>\n",
       "  </tbody>\n",
       "</table>\n",
       "</div>"
      ],
      "text/plain": [
       "       DATE  INFLATION  GAS_PRICE  UNEMPLYMENT_RATES  MORTGAGTE_DATA  \\\n",
       "0  1/1/2011    220.223      3.148                9.1             4.8   \n",
       "1  2/1/2011    221.309      3.264                9.0             4.9   \n",
       "2  3/1/2011    223.467      3.615                9.0             5.0   \n",
       "3  4/1/2011    224.906      3.852                9.1             4.9   \n",
       "4  5/1/2011    225.964      3.960                9.0             4.9   \n",
       "\n",
       "   FEDERAL_FUND      NY  \n",
       "0          0.17  462700  \n",
       "1          0.16  466200  \n",
       "2          0.14  465600  \n",
       "3          0.10  469500  \n",
       "4          0.09  471300  "
      ]
     },
     "execution_count": 2,
     "metadata": {},
     "output_type": "execute_result"
    }
   ],
   "source": [
    "# Upload the CSV files \n",
    "file_load = \"Resources/NYDataOnly.csv\"\n",
    "df = pd.read_csv(file_load)\n",
    "df.head()"
   ]
  },
  {
   "cell_type": "code",
   "execution_count": 3,
   "id": "e3fa9bbd",
   "metadata": {},
   "outputs": [
    {
     "data": {
      "text/plain": [
       "Text(0.5, 1.0, 'Gas Price vs Housing')"
      ]
     },
     "execution_count": 3,
     "metadata": {},
     "output_type": "execute_result"
    },
    {
     "data": {
      "image/png": "[encoded data removed]",
      "text/plain": [
       "<Figure size 1080x360 with 2 Axes>"
      ]
     },
     "metadata": {
      "needs_background": "light"
     },
     "output_type": "display_data"
    }
   ],
   "source": [
    "# Plot the code \n",
    "fig, ((ax1),(ax2)) = plt.subplots(1,2,figsize = (15,5))\n",
    "ax1.scatter(df[\"INFLATION\"],df[\"NY\"], c=\"green\")\n",
    "ax1.set_title('Inflation vs Housing')\n",
    "ax2.scatter(df[\"GAS_PRICE\"], df[\"NY\"], c=\"blue\")\n",
    "ax2.set_title('Gas Price vs Housing')"
   ]
  },
  {
   "cell_type": "code",
   "execution_count": 4,
   "id": "f1136168",
   "metadata": {},
   "outputs": [],
   "source": [
    "# Create Feature and Target variable\n",
    "X = df.copy()\n",
    "X = X[[\"INFLATION\", \"GAS_PRICE\"]]\n",
    "# X = X.drop(columns=[\"DATE\", \"NY\"], axis=1)\n",
    "\n",
    "y = (df[\"NY\"]/1000).values.reshape(-1,1)\n"
   ]
  },
  {
   "cell_type": "code",
   "execution_count": 5,
   "id": "69934947",
   "metadata": {},
   "outputs": [
    {
     "name": "stdout",
     "output_type": "stream",
     "text": [
      "(111, 2)\n",
      "(111, 1)\n"
     ]
    }
   ],
   "source": [
    "# Structure of X and y\n",
    "print(X.shape)\n",
    "print(y.shape)"
   ]
  },
  {
   "cell_type": "code",
   "execution_count": 6,
   "id": "33f7cef3",
   "metadata": {},
   "outputs": [
    {
     "data": {
      "text/plain": [
       "['DATE',\n",
       " 'INFLATION',\n",
       " 'GAS_PRICE',\n",
       " 'UNEMPLYMENT_RATES',\n",
       " 'MORTGAGTE_DATA',\n",
       " 'FEDERAL_FUND',\n",
       " 'NY']"
      ]
     },
     "execution_count": 6,
     "metadata": {},
     "output_type": "execute_result"
    }
   ],
   "source": [
    "# Columns \n",
    "columns = df.columns.tolist()\n",
    "columns"
   ]
  },
  {
   "cell_type": "code",
   "execution_count": 7,
   "id": "1cb004ce",
   "metadata": {},
   "outputs": [
    {
     "data": {
      "text/html": [
       "<div>\n",
       "<style scoped>\n",
       "    .dataframe tbody tr th:only-of-type {\n",
       "        vertical-align: middle;\n",
       "    }\n",
       "\n",
       "    .dataframe tbody tr th {\n",
       "        vertical-align: top;\n",
       "    }\n",
       "\n",
       "    .dataframe thead th {\n",
       "        text-align: right;\n",
       "    }\n",
       "</style>\n",
       "<table border=\"1\" class=\"dataframe\">\n",
       "  <thead>\n",
       "    <tr style=\"text-align: right;\">\n",
       "      <th></th>\n",
       "      <th>INFLATION</th>\n",
       "      <th>GAS_PRICE</th>\n",
       "    </tr>\n",
       "  </thead>\n",
       "  <tbody>\n",
       "    <tr>\n",
       "      <th>15</th>\n",
       "      <td>230.085</td>\n",
       "      <td>3.958</td>\n",
       "    </tr>\n",
       "    <tr>\n",
       "      <th>44</th>\n",
       "      <td>238.031</td>\n",
       "      <td>3.484</td>\n",
       "    </tr>\n",
       "    <tr>\n",
       "      <th>89</th>\n",
       "      <td>251.989</td>\n",
       "      <td>2.970</td>\n",
       "    </tr>\n",
       "    <tr>\n",
       "      <th>90</th>\n",
       "      <td>252.006</td>\n",
       "      <td>2.928</td>\n",
       "    </tr>\n",
       "    <tr>\n",
       "      <th>9</th>\n",
       "      <td>226.421</td>\n",
       "      <td>3.506</td>\n",
       "    </tr>\n",
       "  </tbody>\n",
       "</table>\n",
       "</div>"
      ],
      "text/plain": [
       "    INFLATION  GAS_PRICE\n",
       "15    230.085      3.958\n",
       "44    238.031      3.484\n",
       "89    251.989      2.970\n",
       "90    252.006      2.928\n",
       "9     226.421      3.506"
      ]
     },
     "execution_count": 7,
     "metadata": {},
     "output_type": "execute_result"
    }
   ],
   "source": [
    "# Train and test\n",
    "X_train, X_test, y_train, y_test = train_test_split(X, y, random_state=42)\n",
    "X_train.head()"
   ]
  },
  {
   "cell_type": "markdown",
   "id": "51e06ead",
   "metadata": {},
   "source": [
    "### Multiple Regression Model"
   ]
  },
  {
   "cell_type": "code",
   "execution_count": 8,
   "id": "e524c677",
   "metadata": {},
   "outputs": [
    {
     "name": "stdout",
     "output_type": "stream",
     "text": [
      "Intercept: [-39.22152731]\n",
      "Coefficients: [[  2.61856546 -23.8635225 ]]\n"
     ]
    }
   ],
   "source": [
    "# Model \n",
    "model = LinearRegression()\n",
    "\n",
    "#Fit the model \n",
    "model.fit(X_train, y_train)\n",
    "print(f\"Intercept: {model.intercept_}\")\n",
    "print(f\"Coefficients: {model.coef_}\")\n",
    "\n",
    "predictions = model.predict(X_test)\n"
   ]
  },
  {
   "cell_type": "code",
   "execution_count": 13,
   "id": "f7a21d3f",
   "metadata": {},
   "outputs": [],
   "source": [
    "# fig, ax = plt.subplots()\n",
    "# plt.scatter(model.predict(X_train), model.predict(X_train)- y_train, c=\"blue\", label=\"Training Date\")\n",
    "# plt.scatter(model.predict(X_test), model.predict(X_test)-y_test, c=\"orange\", label=\"Testing Data\")\n",
    "# plt.boxplot(predictions, labels=[\"NY\"])\n",
    "# plt.title(\"Multivariant Regression on Housing\")\n",
    "# plt.legend()\n",
    "# plt.grid()\n",
    "# plt.show()"
   ]
  },
  {
   "cell_type": "code",
   "execution_count": 14,
   "id": "46a93aa1",
   "metadata": {},
   "outputs": [],
   "source": [
    "# prediction with sklearn\n",
    "# New_Inflation = 300\n",
    "# New_Gas_Price = 7 \n",
    "# print ('Predicted Housing Price: \\n', model.predict([[New_Inflation ,New_Gas_Price]]))\n",
    "\n",
    "# # with statsmodels\n",
    "# # X = sm.add_constant(X) # adding a constant\n",
    " \n",
    "# model = sm.OLS(y, X).fit()\n",
    "# predictions = model.predict(X) \n",
    " \n",
    "# print_model = model.summary()\n",
    "# print(print_model)"
   ]
  },
  {
   "cell_type": "code",
   "execution_count": 15,
   "id": "3dc73432",
   "metadata": {},
   "outputs": [],
   "source": [
    "# plt.scatter(X[\"INFLATION\"], y)\n",
    "# plt.plot(X[\"INFLATION\"], predictions, c=\"r\")\n",
    "# plt.show"
   ]
  },
  {
   "cell_type": "code",
   "execution_count": null,
   "id": "3f8f937f",
   "metadata": {},
   "outputs": [
    {
     "name": "stdout",
     "output_type": "stream",
     "text": [
      "Intercept: [-39.22152731]\n",
      "Coefficients: [[  2.61856546 -23.8635225 ]]\n"
     ]
    }
   ],
   "source": [
    "# from tkinter import *\n",
    "# from tkinter import ttk\n",
    "\n",
    "# Model \n",
    "model = LinearRegression()\n",
    "\n",
    "# Fit the model \n",
    "model.fit(X_train, y_train)\n",
    "print(f\"Intercept: {model.intercept_}\")\n",
    "print(f\"Coefficients: {model.coef_}\")\n",
    "\n",
    "# predictions = model.predict(X_test)\n",
    "\n",
    "# tkinter GUI\n",
    "root= tk.Tk()\n",
    "\n",
    "canvas1 = tk.Canvas(root, width = 500, height = 300)\n",
    "canvas1.pack()\n",
    "canvas1 = tk.Canvas(root, width = 500, height = 300)\n",
    "canvas1.pack()\n",
    "\n",
    "# with sklearn\n",
    "Intercept_result = ('Intercept: ', model.intercept_)\n",
    "label_Intercept = tk.Label(root, text=Intercept_result, justify = 'center')\n",
    "canvas1.create_window(260, 220, window=label_Intercept)\n",
    "\n",
    "# with sklearn\n",
    "Coefficients_result  = ('Coefficients: ', model.coef_)\n",
    "label_Coefficients = tk.Label(root, text=Coefficients_result, justify = 'center')\n",
    "canvas1.create_window(260, 240, window=label_Coefficients)\n",
    "\n",
    "# New_Interest_Rate label and input box\n",
    "label1 = tk.Label(root, text='Type Inflation: ')\n",
    "canvas1.create_window(100, 100, window=label1)\n",
    "\n",
    "entry1 = tk.Entry (root) # create 1st entry box\n",
    "canvas1.create_window(270, 100, window=entry1)\n",
    "\n",
    "# New_Unemployment_Rate label and input box\n",
    "label2 = tk.Label(root, text=' Type Gas Price: ')\n",
    "canvas1.create_window(120, 120, window=label2)\n",
    "\n",
    "entry2 = tk.Entry (root) # create 2nd entry box\n",
    "canvas1.create_window(270, 120, window=entry2)\n",
    "\n",
    "def values(): \n",
    "    global New_Inflation #our 1st input variable\n",
    "    New_Inflation = float(entry1.get()) \n",
    "    \n",
    "    global New_Gas_Price #our 2nd input variable\n",
    "    New_Gas_Price = float(entry2.get()) \n",
    "    \n",
    "    Prediction_result  = ('Housing Price: ', model.predict([[New_Inflation ,New_Gas_Price]]))\n",
    "    label_Prediction = tk.Label(root, text= Prediction_result, bg='orange')\n",
    "    canvas1.create_window(260, 280, window=label_Prediction)\n",
    "    \n",
    "button1 = tk.Button (root, text='Predict Housing Price',command=values, bg='orange') # button to call the 'values' command above \n",
    "canvas1.create_window(270, 150, window=button1)\n",
    " \n",
    "#plot 1st scatter \n",
    "figure3 = plt.Figure(figsize=(5,4), dpi=100)\n",
    "ax3 = figure3.add_subplot(111)\n",
    "ax3.scatter(df['INFLATION'].astype(float),df['NY'].astype(float), color = 'r')\n",
    "scatter3 = FigureCanvasTkAgg(figure3, root) \n",
    "scatter3.get_tk_widget().pack(side=tk.RIGHT, fill=tk.BOTH)\n",
    "ax3.legend(['NY']) \n",
    "ax3.set_xlabel('Inflation')\n",
    "ax3.set_title('Inflation Vs. Housing Price')\n",
    "\n",
    "#plot 2nd scatter \n",
    "figure4 = plt.Figure(figsize=(5,4), dpi=100)\n",
    "ax4 = figure4.add_subplot(111)\n",
    "ax4.scatter(df['GAS_PRICE'].astype(float),df['NY'].astype(float), color = 'g')\n",
    "scatter4 = FigureCanvasTkAgg(figure4, root) \n",
    "scatter4.get_tk_widget().pack(side=tk.RIGHT, fill=tk.BOTH)\n",
    "ax4.legend(['NY']) \n",
    "ax4.set_xlabel('Gas Price')\n",
    "ax4.set_title('Gas Price Vs. Housing Price')\n",
    "\n",
    "root.mainloop()"
   ]
  },
  {
   "cell_type": "code",
   "execution_count": null,
   "id": "8ae42286",
   "metadata": {},
   "outputs": [],
   "source": [
    "# with sklearn\n",
    "Intercept_result = ('Intercept: ', model.intercept_)\n",
    "label_Intercept = tk.Label(root, text=Intercept_result, justify = 'center')\n",
    "canvas1.create_window(260, 220, window=label_Intercept)"
   ]
  },
  {
   "cell_type": "code",
   "execution_count": null,
   "id": "527feef2",
   "metadata": {},
   "outputs": [],
   "source": [
    "# with sklearn\n",
    "Coefficients_result  = ('Coefficients: ', model.coef_)\n",
    "label_Coefficients = tk.Label(root, text=Coefficients_result, justify = 'center')\n",
    "canvas1.create_window(260, 240, window=label_Coefficients)"
   ]
  },
  {
   "cell_type": "code",
   "execution_count": null,
   "id": "55931ee7",
   "metadata": {},
   "outputs": [],
   "source": [
    "# New_Interest_Rate label and input box\n",
    "label1 = tk.Label(root, text='Inflation: ')\n",
    "canvas1.create_window(100, 100, window=label1)\n",
    "\n",
    "entry1 = tk.Entry (root) # create 1st entry box\n",
    "canvas1.create_window(270, 100, window=entry1)"
   ]
  },
  {
   "cell_type": "code",
   "execution_count": null,
   "id": "cda641c5",
   "metadata": {},
   "outputs": [],
   "source": [
    "# Create the function \n",
    "# def RegressionModel():\n",
    "#     y = df[city]/1000\n",
    "        \n",
    "    \n",
    "#     # Train the datasets\n",
    "#     X_train, X_test, y_train, y_test = train_test_split(X, y, random_state=42)\n",
    "    \n",
    "#     # Create a model \n",
    "#     model = LinearRegression()\n",
    "#     model.fit(X_train, y_train)\n",
    "#     training_score = model.score(X_train, y_train)\n",
    "#     testing_score = model.score(X_test, y_test)\n",
    "#     print(f\"Training Score: {training_score}.\")\n",
    "#     print(f\"Testing Score: {testing_score}.\")\n",
    "#     print(f\"--------------------------------\")\n",
    "    \n",
    "#     # Predict the model \n",
    "#     y_pred = model.predict(X_test)\n",
    "#     mse = mean_squared_error(y_test, y_pred)\n",
    "#     r2 = r2_score(y_test, y_pred)\n",
    "#     print(f\"Coefficient of the model: {model.coef_}\")              \n",
    "#     print(f\"Model Intercept: {model.intercept_}.\")\n",
    "#     print(f\"----------------------------------\")\n",
    "#     print(f\"mean squared error (MSE): {mse}\")\n",
    "#     print(f\"R-squared (R2 ): {r2}\")\n",
    "    \n",
    "#     # Visualize the plot \n",
    "#     plt.scatter(model.predict(X_train), model.predict(X_train)- y_train, c=\"blue\", label=\"Training Date\")\n",
    "#     plt.scatter(model.predict(X_test), model.predict(X_test)-y_test, c=\"orange\", label=\"Testing Data\")\n",
    "#     plt.legend()\n",
    "#     plt.title(\"Multivariant Regression on Housing\")\n",
    "#     plt.show()   \n",
    "    \n",
    "#     # Min and Max values of each city Housing Price\n",
    "#     x_min = X_test.min()\n",
    "#     x_max = X_test.max()\n",
    "# #     y_min = model.predict(x_min)\n",
    "# #     y_max = model.predict(x_max)\n",
    "#     print(f\"------------------------------------------------\")\n",
    "#     print(f\"Min Inflation: ${x_min}, Max Inflation: ${x_max}\")\n",
    "# #     print(f\"Predicted Mix Housing Price: ${y_min*1000}, Predicted Max Housing Price ${y_max*1000}.\")\n",
    "        \n",
    "#     return   "
   ]
  },
  {
   "cell_type": "code",
   "execution_count": null,
   "id": "a6d6140d",
   "metadata": {},
   "outputs": [],
   "source": [
    "# Enter the city name \n",
    "# city = input(\"Enter the City Name: \")\n",
    "# RegressionModel()"
   ]
  },
  {
   "cell_type": "code",
   "execution_count": null,
   "id": "27a4ea65",
   "metadata": {},
   "outputs": [],
   "source": [
    "# Standardize the data\n",
    "# scaler = StandardScaler()\n",
    "\n",
    "# # Fit the model \n",
    "# X_scaled = scaler.fit(X_train)\n",
    "\n",
    "# # Scale the model \n",
    "# X_train_scaled = X_scaled.transform(X_train)\n",
    "# X_test_scaled = X_scaled.transform(X_test)"
   ]
  },
  {
   "cell_type": "code",
   "execution_count": null,
   "id": "4cd7023e",
   "metadata": {},
   "outputs": [],
   "source": [
    "# Random Forest model \n",
    "\n",
    "# # Create a random forest model \n",
    "# rf_model = RandomForestClassifier(n_estimators=128, random_state=42)\n",
    "\n",
    "# # fit the model \n",
    "# rf_model = rf_model.fit(X_train_scaled, y_train)\n",
    "\n",
    "# # Making predictions using testing data\n",
    "# predictions = rf_model.predict(X_test_scaled)"
   ]
  },
  {
   "cell_type": "code",
   "execution_count": null,
   "id": "ae03ca1e",
   "metadata": {},
   "outputs": [],
   "source": [
    "# # Calculating the accuracy score\n",
    "# acc_score = accuracy_score(y_test, predictions)\n",
    "# acc_score\n",
    "X_train_scaled[:5]"
   ]
  },
  {
   "cell_type": "markdown",
   "id": "a8f41699",
   "metadata": {},
   "source": [
    "## Deep Learning Model "
   ]
  },
  {
   "cell_type": "code",
   "execution_count": null,
   "id": "8572653c",
   "metadata": {},
   "outputs": [],
   "source": [
    "# Define the model - deep neural net\n",
    "# number_input_features = len(X_train_scaled[0])\n",
    "# hidden_nodes_layer1 = 20\n",
    "# hidden_nodes_layer2 = 10\n",
    "# hidden_nodes_layer3 = 5\n",
    "\n",
    "# nn = tf.keras.models.Sequential()\n",
    "\n",
    "# # First hidden layer\n",
    "# nn.add(tf.keras.layers.Dense(units= hidden_nodes_layer1, input_dim = number_input_features, activation=\"relu\"))\n",
    "\n",
    "# nn.add(tf.keras.layers.Dense(units= hidden_nodes_layer2, activation=\"relu\"))\n",
    "\n",
    "# nn.add(tf.keras.layers.Dense(units= hidden_nodes_layer3, activation=\"relu\"))\n",
    "\n",
    "# nn.add(tf.keras.layers.Dense(units= 1, activation=\"sigmoid\"))\n",
    "\n",
    "# # Compile the model \n",
    "# nn.compile(loss=\"binary_crossentropy\", optimizer=\"adam\", metrics=[\"accuracy\"])\n",
    "\n",
    "# # Train the model \n",
    "# fit_model = nn.fit(X_train_scaled, y_train, epochs=50)\n",
    "\n",
    "# # Evaluate the model using the test data \n",
    "# model_loss, model_accuracy = nn.evaluate(X_test_scaled, y_test, verbose=2)\n",
    "# print(f\"Loss: {model_loss}, Accuracy: {model_accuracy}\")\n"
   ]
  },
  {
   "cell_type": "code",
   "execution_count": null,
   "id": "df426b9c",
   "metadata": {},
   "outputs": [],
   "source": [
    "# Create the model of linear regreession on NY city housing data\n",
    "# model = LinearRegression()\n",
    "\n",
    "# # Fit the model \n",
    "# model.fit(X, y)"
   ]
  },
  {
   "cell_type": "code",
   "execution_count": null,
   "id": "95ea7d8f",
   "metadata": {},
   "outputs": [],
   "source": [
    "# Predict the y \n",
    "# y_pred = model.predict(X)\n",
    "# y_pred[:5]"
   ]
  },
  {
   "cell_type": "code",
   "execution_count": null,
   "id": "3299f29a",
   "metadata": {},
   "outputs": [],
   "source": [
    "# Visualize the data \n",
    "# plt.scatter(X, y)\n",
    "# plt.plot(X, y_pred, color=\"red\")\n",
    "# plt.show()"
   ]
  },
  {
   "cell_type": "markdown",
   "id": "0ca13b80",
   "metadata": {},
   "source": [
    "## Quantifying the model"
   ]
  },
  {
   "cell_type": "code",
   "execution_count": null,
   "id": "834babc9",
   "metadata": {},
   "outputs": [],
   "source": [
    "# Score the prediction with MSE and R2\n",
    "# from sklearn.metrics import r2_score, mean_squared_error\n",
    "\n",
    "# mse = mean_squared_error(y, y_pred)\n",
    "# r2 = r2_score(y, y_pred)\n",
    "\n",
    "# print(f\"Mean Squared Error (MSE): {round(mse, 2)}\")\n",
    "# print(f\"R-squared (R2): {round(r2, 4)}\")"
   ]
  },
  {
   "cell_type": "code",
   "execution_count": null,
   "id": "382d65de",
   "metadata": {},
   "outputs": [],
   "source": [
    "# Overall score of the model \n",
    "# model_score = model.score(X, y)\n",
    "# model_score"
   ]
  },
  {
   "cell_type": "markdown",
   "id": "fb583b02",
   "metadata": {},
   "source": [
    "## Model Validation "
   ]
  },
  {
   "cell_type": "code",
   "execution_count": null,
   "id": "0d2453f3",
   "metadata": {},
   "outputs": [],
   "source": [
    "# Testing and Training data \n",
    "# X_train, X_test, y_train, y_test = train_test_split(X, y, random_state=42)\n",
    "\n",
    "# # Fit the model using training data\n",
    "# model.fit(X_train, y_train)"
   ]
  },
  {
   "cell_type": "code",
   "execution_count": null,
   "id": "ea5e5ede",
   "metadata": {},
   "outputs": [],
   "source": [
    "# Score the model using the unseen testing data\n",
    "# model.score(X_test, y_test)"
   ]
  }
 ],
 "metadata": {
  "kernelspec": {
   "display_name": "mlenv",
   "language": "python",
   "name": "mlenv"
  },
  "language_info": {
   "codemirror_mode": {
    "name": "ipython",
    "version": 3
   },
   "file_extension": ".py",
   "mimetype": "text/x-python",
   "name": "python",
   "nbconvert_exporter": "python",
   "pygments_lexer": "ipython3",
   "version": "3.8.8"
  }
 },
 "nbformat": 4,
 "nbformat_minor": 5
}
