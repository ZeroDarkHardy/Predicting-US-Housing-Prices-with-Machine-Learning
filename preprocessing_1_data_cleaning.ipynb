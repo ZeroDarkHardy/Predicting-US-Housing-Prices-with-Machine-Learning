{
 "cells": [
  {
   "cell_type": "code",
   "execution_count": null,
   "id": "d68f6a4b",
   "metadata": {},
   "outputs": [],
   "source": [
    "import pandas as pd\n",
    "import os\n",
    "import csv\n",
    "from pathlib import Path\n",
    "import datetime as dt"
   ]
  },
  {
   "cell_type": "code",
   "execution_count": null,
   "id": "e745a198",
   "metadata": {},
   "outputs": [],
   "source": [
    "file_to_load = \"./resources_mhardy/Sale_Prices_City.csv/Sale_Prices_City_2011.csv\"\n",
    "sale_price_df = pd.read_csv(file_to_load, low_memory=False)\n",
    "sale_price_df"
   ]
  },
  {
   "cell_type": "code",
   "execution_count": null,
   "id": "b023d329",
   "metadata": {},
   "outputs": [],
   "source": [
    "clean_sale_df = sale_price_df.dropna()\n",
    "clean_sale_df = clean_sale_df.drop(columns=['Unnamed: 0'], axis=1)\n",
    "clean_sale_df"
   ]
  },
  {
   "cell_type": "code",
   "execution_count": null,
   "id": "dea5911d",
   "metadata": {},
   "outputs": [],
   "source": [
    "# export csv that we'll use to scrape location data\n",
    "file_path = Path(\"./resources_mhardy/Sale_Prices_City.csv/Sale_Prices_City_sample.csv\")\n",
    "clean_sale_df.to_csv(file_path, index=False)"
   ]
  },
  {
   "cell_type": "code",
   "execution_count": null,
   "id": "d49bbf56",
   "metadata": {},
   "outputs": [],
   "source": [
    "# getting ready to transpose data so its indexed by timeframe\n",
    "# first, drop useless columns\n",
    "time_df = clean_sale_df.drop(columns=[\"RegionName\", \"StateName\", \"SizeRank\"])\n",
    "time_df"
   ]
  }
 ],
 "metadata": {
  "kernelspec": {
   "display_name": "mlenv",
   "language": "python",
   "name": "mlenv"
  },
  "language_info": {
   "codemirror_mode": {
    "name": "ipython",
    "version": 3
   },
   "file_extension": ".py",
   "mimetype": "text/x-python",
   "name": "python",
   "nbconvert_exporter": "python",
   "pygments_lexer": "ipython3",
   "version": "3.7.11"
  }
 },
 "nbformat": 4,
 "nbformat_minor": 5
}
