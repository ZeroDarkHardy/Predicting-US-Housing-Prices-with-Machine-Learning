{
 "cells": [
  {
   "cell_type": "code",
   "execution_count": 1,
   "id": "dbc29863",
   "metadata": {},
   "outputs": [],
   "source": [
    "import pandas as pd\n",
    "from pathlib import Path\n",
    "import matplotlib.pyplot as plt\n",
    "from sklearn.linear_model import LinearRegression\n",
    "from sklearn.metrics import mean_squared_error, r2_score\n",
    "from sklearn.model_selection import train_test_split\n",
    "import numpy as np"
   ]
  },
  {
   "cell_type": "code",
   "execution_count": 2,
   "id": "fcf3a26e",
   "metadata": {},
   "outputs": [
    {
     "data": {
      "text/html": [
       "<div>\n",
       "<style scoped>\n",
       "    .dataframe tbody tr th:only-of-type {\n",
       "        vertical-align: middle;\n",
       "    }\n",
       "\n",
       "    .dataframe tbody tr th {\n",
       "        vertical-align: top;\n",
       "    }\n",
       "\n",
       "    .dataframe thead th {\n",
       "        text-align: right;\n",
       "    }\n",
       "</style>\n",
       "<table border=\"1\" class=\"dataframe\">\n",
       "  <thead>\n",
       "    <tr style=\"text-align: right;\">\n",
       "      <th></th>\n",
       "      <th>DATE</th>\n",
       "      <th>INFLATION</th>\n",
       "      <th>NY</th>\n",
       "      <th>CA</th>\n",
       "      <th>NV</th>\n",
       "    </tr>\n",
       "  </thead>\n",
       "  <tbody>\n",
       "    <tr>\n",
       "      <th>0</th>\n",
       "      <td>1/1/2011</td>\n",
       "      <td>220.223</td>\n",
       "      <td>462700</td>\n",
       "      <td>188500</td>\n",
       "      <td>115600</td>\n",
       "    </tr>\n",
       "    <tr>\n",
       "      <th>1</th>\n",
       "      <td>2/1/2011</td>\n",
       "      <td>221.309</td>\n",
       "      <td>466200</td>\n",
       "      <td>189400</td>\n",
       "      <td>114000</td>\n",
       "    </tr>\n",
       "    <tr>\n",
       "      <th>2</th>\n",
       "      <td>3/1/2011</td>\n",
       "      <td>223.467</td>\n",
       "      <td>465600</td>\n",
       "      <td>186300</td>\n",
       "      <td>110800</td>\n",
       "    </tr>\n",
       "    <tr>\n",
       "      <th>3</th>\n",
       "      <td>4/1/2011</td>\n",
       "      <td>224.906</td>\n",
       "      <td>469500</td>\n",
       "      <td>177700</td>\n",
       "      <td>109600</td>\n",
       "    </tr>\n",
       "    <tr>\n",
       "      <th>4</th>\n",
       "      <td>5/1/2011</td>\n",
       "      <td>225.964</td>\n",
       "      <td>471300</td>\n",
       "      <td>167900</td>\n",
       "      <td>108200</td>\n",
       "    </tr>\n",
       "  </tbody>\n",
       "</table>\n",
       "</div>"
      ],
      "text/plain": [
       "       DATE  INFLATION      NY      CA      NV\n",
       "0  1/1/2011    220.223  462700  188500  115600\n",
       "1  2/1/2011    221.309  466200  189400  114000\n",
       "2  3/1/2011    223.467  465600  186300  110800\n",
       "3  4/1/2011    224.906  469500  177700  109600\n",
       "4  5/1/2011    225.964  471300  167900  108200"
      ]
     },
     "execution_count": 2,
     "metadata": {},
     "output_type": "execute_result"
    }
   ],
   "source": [
    "filepath = pd.read_csv('Resources_kathy/Housingdata.csv')\n",
    "df = pd.DataFrame(filepath)\n",
    "df.head()"
   ]
  },
  {
   "cell_type": "code",
   "execution_count": 3,
   "id": "e045f0db",
   "metadata": {},
   "outputs": [],
   "source": [
    "X=df.INFLATION.values.reshape(-1,1)"
   ]
  },
  {
   "cell_type": "code",
   "execution_count": 7,
   "id": "a1f703cb",
   "metadata": {},
   "outputs": [
    {
     "data": {
      "text/plain": [
       "['DATE', 'INFLATION', 'NY', 'CA', 'NV']"
      ]
     },
     "execution_count": 7,
     "metadata": {},
     "output_type": "execute_result"
    }
   ],
   "source": [
    "columns = df.columns.tolist()\n",
    "columns"
   ]
  },
  {
   "cell_type": "code",
   "execution_count": 12,
   "id": "89b6b871",
   "metadata": {},
   "outputs": [],
   "source": [
    "# Create the function \n",
    "def RegressionModel():\n",
    "    y = df[city]/1000\n",
    "        \n",
    "    # Create a model \n",
    "    model = LinearRegression()\n",
    "    model.fit(X, y)\n",
    "    y_pred = model.predict(X)\n",
    "    mse = mean_squared_error(y, y_pred)\n",
    "    r2 = r2_score(y, y_pred)\n",
    "    print(f\"Coefficient of the model: {model.coef_}\")              \n",
    "    print(f\"Model Intercept: {model.intercept_}.\")\n",
    "\n",
    "    mse = mean_squared_error(y, y_pred)\n",
    "    r2 = r2_score(y, y_pred)\n",
    "    print(f\"mean squared error (MSE): {mse}\")\n",
    "    print(f\"R-squared (R2 ): {r2}\")\n",
    "    \n",
    "    # Visualize the plot \n",
    "    plt.scatter(X, y)\n",
    "    plt.plot(X, y_pred, color='red')\n",
    "    plt.show()\n",
    "    \n",
    "    # Train the datasets\n",
    "    X_train, X_test, y_train, y_test = train_test_split(X, y, random_state=42)\n",
    "    model.fit(X_train, y_train)\n",
    "    print(f\"Score: {model.score(X_test, y_test)}.\")\n",
    "    \n",
    "    # Min and Max values of each city Housing Price\n",
    "    x_min = np.array([[X.min()]])\n",
    "    x_max = np.array([[X.max()]])\n",
    "    y_min = model.predict(x_min)\n",
    "    y_max = model.predict(x_max)\n",
    "    print(f\"Min Inflation: ${x_min}, Max Inflation: ${x_max}\")\n",
    "    print(f\"Predicted Mix Housing Price: ${y_min*1000}, Predicted Max Housing Price ${y_max*1000}.\")\n",
    "        \n",
    "    return         "
   ]
  },
  {
   "cell_type": "code",
   "execution_count": 13,
   "id": "5f02c32e",
   "metadata": {},
   "outputs": [
    {
     "name": "stdout",
     "output_type": "stream",
     "text": [
      "Enter the City Name: NV\n",
      "Coefficient of the model: [5.47508436]\n",
      "Model Intercept: -1124.491023102524.\n",
      "mean squared error (MSE): 132.44846698232584\n",
      "R-squared (R2 ): 0.9566817156023014\n"
     ]
    },
    {
     "data": {
      "image/png": "[encoded data removed]",
      "text/plain": [
       "<Figure size 432x288 with 1 Axes>"
      ]
     },
     "metadata": {
      "needs_background": "light"
     },
     "output_type": "display_data"
    },
    {
     "name": "stdout",
     "output_type": "stream",
     "text": [
      "Score: 0.9545675271301725.\n",
      "Min Inflation: $[[220.223]], Max Inflation: $[[258.678]]\n",
      "Predicted Mix Housing Price: $[80982.58576911], Predicted Max Housing Price $[291330.7611556].\n"
     ]
    }
   ],
   "source": [
    "# Enter the city name \n",
    "city = input(\"Enter the City Name: \")\n",
    "RegressionModel()"
   ]
  },
  {
   "cell_type": "code",
   "execution_count": 30,
   "id": "6197b445",
   "metadata": {},
   "outputs": [
    {
     "name": "stdout",
     "output_type": "stream",
     "text": [
      "Coefficient of the model: [2677.6587191]\n",
      "Model Intercept: -416232.9786710369.\n",
      "mean squared error (MSE): 293552053.00798917\n",
      "R-squared (R2 ): 0.7044344892917291\n"
     ]
    }
   ],
   "source": [
    "# city = \"CA\"\n",
    "# RegressionModel()"
   ]
  },
  {
   "cell_type": "code",
   "execution_count": 38,
   "id": "e03de552",
   "metadata": {},
   "outputs": [],
   "source": [
    "# for column in columns:\n",
    "#     if column =='NY':\n",
    "#         print(RegressionModel())\n",
    "        \n",
    "#     elif column == \"CA\":\n",
    "        \n",
    "#         y = df[column]\n",
    "        \n",
    "#         # Create a model \n",
    "#         model = LinearRegression()\n",
    "#         model.fit(X,y)\n",
    "#         y_pred = model.predict(X)\n",
    "#         mse = mean_squared_error(y, y_pred)\n",
    "#         r2 = r2_score(y, y_pred)\n",
    "#         print(f\"Coefficient of the model: {model.coef_}\")              \n",
    "#         print(f\"Model Intercept: {model.intercept_}.\")\n",
    "              \n",
    "#         mse = mean_squared_error(y, y_pred)\n",
    "#         r2 = r2_score(y, y_pred)\n",
    "#         print(f\"mean squared error (MSE): {mse}\")\n",
    "#         print(f\"R-squared (R2 ): {r2}\")\n",
    "        \n",
    "#     elif column == \"NV\": \n",
    "#         y = df[column]\n",
    "        \n",
    "#         # Create a model \n",
    "#         model = LinearRegression()\n",
    "#         model.fit(X,y)\n",
    "#         y_pred = model.predict(X)\n",
    "#         mse = mean_squared_error(y, y_pred)\n",
    "#         r2 = r2_score(y, y_pred)\n",
    "#         print(f\"Coefficient of the model: {model.coef_}\")              \n",
    "#         print(f\"Model Intercept: {model.intercept_}.\")\n",
    "              \n",
    "#         mse = mean_squared_error(y, y_pred)\n",
    "#         r2 = r2_score(y, y_pred)\n",
    "#         print(f\"mean squared error (MSE): {mse}\")\n",
    "#         print(f\"R-squared (R2 ): {r2}\")\n",
    "        "
   ]
  },
  {
   "cell_type": "code",
   "execution_count": 9,
   "id": "7d3cce72",
   "metadata": {},
   "outputs": [],
   "source": [
    "# def LoopRegions():\n",
    "#     for column in columns\n",
    "#         if column =='NY':\n",
    "#             y = df[column][2]\n",
    "#             model.fit(X,y)\n",
    "#             y_pred = model.predict(X)\n",
    "#             mse = mean_squared_error(y, y_pred)\n",
    "#             r2 = r2_score(y, y_pred)\n",
    "#             coef = print(model.coef_)\n",
    "#             inter = print(model.intercept_)\n",
    "#             mse = mean_squared_error(y, y_pred)\n",
    "#             r2 = r2_score(y, y_pred)\n",
    "#             MSE= print(f\"mean squared error (MSE): {mse}\")\n",
    "#             R2 = print(f\"R-squared (R2 ): {r2}\")\n",
    "\n",
    "            \n",
    "        \n",
    "        \n",
    "#     return coef, inter, MSE, R2\n",
    "        \n",
    "        \n",
    "\n",
    "    "
   ]
  },
  {
   "cell_type": "code",
   "execution_count": 29,
   "id": "6e10c7e9",
   "metadata": {},
   "outputs": [
    {
     "data": {
      "text/plain": [
       "(111, 1)"
      ]
     },
     "execution_count": 29,
     "metadata": {},
     "output_type": "execute_result"
    }
   ],
   "source": [
    "# X.shape\n",
    "\n",
    "# y.shape\n",
    "\n",
    "# model=LinearRegression()\n",
    "\n",
    "# model.fit(X,y)\n",
    "\n",
    "# y_pred = model.predict(X)\n",
    "# print(y_pred.shape)"
   ]
  },
  {
   "cell_type": "code",
   "execution_count": 34,
   "id": "c35aa299",
   "metadata": {},
   "outputs": [],
   "source": [
    "# Score the prediction with MSE and R2\n",
    "mse = mean_squared_error(y, y_pred)\n",
    "r2 = r2_score(y, y_pred)"
   ]
  },
  {
   "cell_type": "code",
   "execution_count": 35,
   "id": "615a0bd2",
   "metadata": {},
   "outputs": [
    {
     "data": {
      "image/png": "[encoded data removed]",
      "text/plain": [
       "<Figure size 432x288 with 1 Axes>"
      ]
     },
     "metadata": {
      "needs_background": "light"
     },
     "output_type": "display_data"
    }
   ],
   "source": [
    "# plt.scatter(X, y)\n",
    "# plt.plot(X, y_pred, color='red')\n",
    "# plt.show()"
   ]
  },
  {
   "cell_type": "code",
   "execution_count": 36,
   "id": "d06f56d9",
   "metadata": {
    "scrolled": true
   },
   "outputs": [
    {
     "name": "stdout",
     "output_type": "stream",
     "text": [
      "[3.47357672]\n",
      "-316.4272953754015\n"
     ]
    }
   ],
   "source": [
    "# print(model.coef_)\n",
    "# print(model.intercept_)"
   ]
  },
  {
   "cell_type": "code",
   "execution_count": 37,
   "id": "7e0f2b4b",
   "metadata": {},
   "outputs": [
    {
     "name": "stdout",
     "output_type": "stream",
     "text": [
      "mean squared error (MSE): 207.2384444586849\n",
      "R-squared (R2 ): 0.8503277306837425\n"
     ]
    }
   ],
   "source": [
    "# # Score the prediction with MSE and R2\n",
    "# mse = mean_squared_error(y, y_pred)\n",
    "# r2 = r2_score(y, y_pred)\n",
    "\n",
    "# print(f\"mean squared error (MSE): {mse}\")\n",
    "# print(f\"R-squared (R2 ): {r2}\")"
   ]
  },
  {
   "cell_type": "code",
   "execution_count": 38,
   "id": "c6e17c01",
   "metadata": {},
   "outputs": [],
   "source": [
    "# from sklearn.model_selection import train_test_split\n",
    "\n",
    "# X_train, X_test, y_train, y_test = train_test_split(X, y, random_state=42)"
   ]
  },
  {
   "cell_type": "code",
   "execution_count": 39,
   "id": "e263fd69",
   "metadata": {},
   "outputs": [
    {
     "data": {
      "text/plain": [
       "LinearRegression()"
      ]
     },
     "execution_count": 39,
     "metadata": {},
     "output_type": "execute_result"
    }
   ],
   "source": [
    "# model.fit(X_train, y_train)"
   ]
  },
  {
   "cell_type": "code",
   "execution_count": 40,
   "id": "3e65ed0a",
   "metadata": {},
   "outputs": [
    {
     "data": {
      "text/plain": [
       "LinearRegression(n_jobs=1, normalize=False)"
      ]
     },
     "execution_count": 40,
     "metadata": {},
     "output_type": "execute_result"
    }
   ],
   "source": [
    "LinearRegression(copy_X=True, fit_intercept=True, n_jobs=1, normalize=False)"
   ]
  },
  {
   "cell_type": "code",
   "execution_count": 41,
   "id": "b54cda04",
   "metadata": {},
   "outputs": [
    {
     "data": {
      "text/plain": [
       "0.8379113158955417"
      ]
     },
     "execution_count": 41,
     "metadata": {},
     "output_type": "execute_result"
    }
   ],
   "source": [
    "# model.score(X_test, y_test)"
   ]
  },
  {
   "cell_type": "code",
   "execution_count": null,
   "id": "695b422a",
   "metadata": {},
   "outputs": [],
   "source": []
  }
 ],
 "metadata": {
  "kernelspec": {
   "display_name": "mlenv",
   "language": "python",
   "name": "mlenv"
  },
  "language_info": {
   "codemirror_mode": {
    "name": "ipython",
    "version": 3
   },
   "file_extension": ".py",
   "mimetype": "text/x-python",
   "name": "python",
   "nbconvert_exporter": "python",
   "pygments_lexer": "ipython3",
   "version": "3.8.8"
  }
 },
 "nbformat": 4,
 "nbformat_minor": 5
}
